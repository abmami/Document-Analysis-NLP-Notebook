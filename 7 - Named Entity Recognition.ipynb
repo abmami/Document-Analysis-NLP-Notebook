{
 "cells": [
  {
   "cell_type": "markdown",
   "id": "3eab47f8",
   "metadata": {
    "papermill": {
     "duration": 0.010494,
     "end_time": "2023-08-29T01:32:51.524198",
     "exception": false,
     "start_time": "2023-08-29T01:32:51.513704",
     "status": "completed"
    },
    "tags": []
   },
   "source": [
    "# Information Extraction from Financial Documents using Named Entity Recognition\n",
    "\n",
    "Information extraction is a structured prediction task: it takes in a sequence of tokens and returns structured data, such a identifying specific spans within a piece of text, labeling individual tokens, or identifying the relationships between tokens or spans.\n",
    "\n",
    "Information extraction is generally useful for a different set of uses than classic text analysis methods such as named entity recognition, topic modeling, etc. In many document-based models, the text itself is of interest: what writers are talking about, how topics co-occur with each other, etc. In many of the use cases of information extraction, the text is simply a convienient data source that can be mined for data that is useful in a downstream analysis. In other words, rather than text itself being the object of interest, text in an information extraction framework is often the medium through which data is reported."
   ]
  },
  {
   "cell_type": "code",
   "execution_count": 1,
   "id": "8d30ce83",
   "metadata": {
    "_cell_guid": "b1076dfc-b9ad-4769-8c92-a6c4dae69d19",
    "_uuid": "8f2839f25d086af736a60e9eeb907d3b93b6e0e5",
    "execution": {
     "iopub.execute_input": "2023-08-29T01:32:51.546264Z",
     "iopub.status.busy": "2023-08-29T01:32:51.545830Z",
     "iopub.status.idle": "2023-08-29T01:32:54.540212Z",
     "shell.execute_reply": "2023-08-29T01:32:54.538978Z"
    },
    "papermill": {
     "duration": 3.008929,
     "end_time": "2023-08-29T01:32:54.543354",
     "exception": false,
     "start_time": "2023-08-29T01:32:51.534425",
     "status": "completed"
    },
    "tags": []
   },
   "outputs": [
    {
     "name": "stderr",
     "output_type": "stream",
     "text": [
      "/opt/conda/lib/python3.10/site-packages/scipy/__init__.py:146: UserWarning: A NumPy version >=1.16.5 and <1.23.0 is required for this version of SciPy (detected version 1.23.5\n",
      "  warnings.warn(f\"A NumPy version >={np_minversion} and <{np_maxversion}\"\n"
     ]
    }
   ],
   "source": [
    "import pandas as pd\n",
    "import numpy as np\n",
    "import ast\n",
    "import seaborn as sns\n",
    "import plotly.express as px\n",
    "import matplotlib.pyplot as plt\n",
    "import nltk\n",
    "from nltk.tokenize import word_tokenize"
   ]
  },
  {
   "cell_type": "markdown",
   "id": "3419ea2a",
   "metadata": {
    "papermill": {
     "duration": 0.009946,
     "end_time": "2023-08-29T01:32:54.563871",
     "exception": false,
     "start_time": "2023-08-29T01:32:54.553925",
     "status": "completed"
    },
    "tags": []
   },
   "source": [
    "## Loading Documents"
   ]
  },
  {
   "cell_type": "code",
   "execution_count": 2,
   "id": "865c0a81",
   "metadata": {
    "execution": {
     "iopub.execute_input": "2023-08-29T01:32:54.586492Z",
     "iopub.status.busy": "2023-08-29T01:32:54.586077Z",
     "iopub.status.idle": "2023-08-29T01:32:54.732559Z",
     "shell.execute_reply": "2023-08-29T01:32:54.731570Z"
    },
    "papermill": {
     "duration": 0.161109,
     "end_time": "2023-08-29T01:32:54.735234",
     "exception": false,
     "start_time": "2023-08-29T01:32:54.574125",
     "status": "completed"
    },
    "tags": []
   },
   "outputs": [],
   "source": [
    "# Load data\n",
    "data_path = \"/kaggle/input/3-document-cleaning/cleaned-docs.csv\"\n",
    "df_docs = pd.read_csv(data_path)\n",
    "\n",
    "# Convert lists represented as strings to lists within the dataframe\n",
    "df_docs['HSentences'] = df_docs['HSentences'].apply(ast.literal_eval)\n",
    "df_docs['MSentences'] = df_docs['MSentences'].apply(ast.literal_eval)"
   ]
  },
  {
   "cell_type": "code",
   "execution_count": 3,
   "id": "034d811b",
   "metadata": {
    "execution": {
     "iopub.execute_input": "2023-08-29T01:32:54.757298Z",
     "iopub.status.busy": "2023-08-29T01:32:54.756879Z",
     "iopub.status.idle": "2023-08-29T01:32:54.783098Z",
     "shell.execute_reply": "2023-08-29T01:32:54.781967Z"
    },
    "papermill": {
     "duration": 0.040022,
     "end_time": "2023-08-29T01:32:54.785543",
     "exception": false,
     "start_time": "2023-08-29T01:32:54.745521",
     "status": "completed"
    },
    "tags": []
   },
   "outputs": [
    {
     "data": {
      "text/html": [
       "<div>\n",
       "<style scoped>\n",
       "    .dataframe tbody tr th:only-of-type {\n",
       "        vertical-align: middle;\n",
       "    }\n",
       "\n",
       "    .dataframe tbody tr th {\n",
       "        vertical-align: top;\n",
       "    }\n",
       "\n",
       "    .dataframe thead th {\n",
       "        text-align: right;\n",
       "    }\n",
       "</style>\n",
       "<table border=\"1\" class=\"dataframe\">\n",
       "  <thead>\n",
       "    <tr style=\"text-align: right;\">\n",
       "      <th></th>\n",
       "      <th>Report Name</th>\n",
       "      <th>Bank Name</th>\n",
       "      <th>Report Date</th>\n",
       "      <th>Page ID</th>\n",
       "      <th>Page Text</th>\n",
       "      <th>MSentences</th>\n",
       "      <th>HSentences</th>\n",
       "    </tr>\n",
       "  </thead>\n",
       "  <tbody>\n",
       "    <tr>\n",
       "      <th>0</th>\n",
       "      <td>fx_insight_e_16_janvier_2023</td>\n",
       "      <td>citi</td>\n",
       "      <td>16-1-2023</td>\n",
       "      <td>0</td>\n",
       "      <td>\\n Citi Global Wealth Investments  \\n FX Snaps...</td>\n",
       "      <td>[citi global wealth invest fx snapshot major c...</td>\n",
       "      <td>[ Citi Global Wealth Investments FX Snapshot M...</td>\n",
       "    </tr>\n",
       "    <tr>\n",
       "      <th>1</th>\n",
       "      <td>fx_insight_e_16_janvier_2023</td>\n",
       "      <td>citi</td>\n",
       "      <td>16-1-2023</td>\n",
       "      <td>3</td>\n",
       "      <td>\\n Important Disclosure \\n “Citi analysts” ref...</td>\n",
       "      <td>[import disclosur citi analyst refer invest pr...</td>\n",
       "      <td>[ Important Disclosure Citi analysts refers to...</td>\n",
       "    </tr>\n",
       "    <tr>\n",
       "      <th>2</th>\n",
       "      <td>exemple_analyse_macro_economique_goldman_sachs</td>\n",
       "      <td>goldman_sachs</td>\n",
       "      <td>NaN</td>\n",
       "      <td>0</td>\n",
       "      <td>\\n Fixed Income \\n MUSINGS \\n FIXED INCOME  Go...</td>\n",
       "      <td>[fix incom muse fix incom goldman sach asset m...</td>\n",
       "      <td>[ Fixed Income MUSINGS FIXED INCOME Goldman Sa...</td>\n",
       "    </tr>\n",
       "    <tr>\n",
       "      <th>3</th>\n",
       "      <td>exemple_analyse_macro_economique_goldman_sachs</td>\n",
       "      <td>goldman_sachs</td>\n",
       "      <td>NaN</td>\n",
       "      <td>1</td>\n",
       "      <td>\\n Fixed Income \\n MUSINGS \\n Goldman Sachs As...</td>\n",
       "      <td>[fix incom muse goldman sach asset manag fix i...</td>\n",
       "      <td>[ Fixed Income MUSINGS Goldman Sachs Asset Man...</td>\n",
       "    </tr>\n",
       "    <tr>\n",
       "      <th>4</th>\n",
       "      <td>exemple_analyse_macro_economique_goldman_sachs</td>\n",
       "      <td>goldman_sachs</td>\n",
       "      <td>NaN</td>\n",
       "      <td>2</td>\n",
       "      <td>\\n MUSINGS \\n FIXED INCOME  Goldman Sachs Asse...</td>\n",
       "      <td>[muse fix incom goldman sach asset manag centr...</td>\n",
       "      <td>[ MUSINGS FIXED INCOME Goldman Sachs Asset Man...</td>\n",
       "    </tr>\n",
       "  </tbody>\n",
       "</table>\n",
       "</div>"
      ],
      "text/plain": [
       "                                      Report Name      Bank Name Report Date  \\\n",
       "0                    fx_insight_e_16_janvier_2023           citi   16-1-2023   \n",
       "1                    fx_insight_e_16_janvier_2023           citi   16-1-2023   \n",
       "2  exemple_analyse_macro_economique_goldman_sachs  goldman_sachs         NaN   \n",
       "3  exemple_analyse_macro_economique_goldman_sachs  goldman_sachs         NaN   \n",
       "4  exemple_analyse_macro_economique_goldman_sachs  goldman_sachs         NaN   \n",
       "\n",
       "   Page ID                                          Page Text  \\\n",
       "0        0  \\n Citi Global Wealth Investments  \\n FX Snaps...   \n",
       "1        3  \\n Important Disclosure \\n “Citi analysts” ref...   \n",
       "2        0  \\n Fixed Income \\n MUSINGS \\n FIXED INCOME  Go...   \n",
       "3        1  \\n Fixed Income \\n MUSINGS \\n Goldman Sachs As...   \n",
       "4        2  \\n MUSINGS \\n FIXED INCOME  Goldman Sachs Asse...   \n",
       "\n",
       "                                          MSentences  \\\n",
       "0  [citi global wealth invest fx snapshot major c...   \n",
       "1  [import disclosur citi analyst refer invest pr...   \n",
       "2  [fix incom muse fix incom goldman sach asset m...   \n",
       "3  [fix incom muse goldman sach asset manag fix i...   \n",
       "4  [muse fix incom goldman sach asset manag centr...   \n",
       "\n",
       "                                          HSentences  \n",
       "0  [ Citi Global Wealth Investments FX Snapshot M...  \n",
       "1  [ Important Disclosure Citi analysts refers to...  \n",
       "2  [ Fixed Income MUSINGS FIXED INCOME Goldman Sa...  \n",
       "3  [ Fixed Income MUSINGS Goldman Sachs Asset Man...  \n",
       "4  [ MUSINGS FIXED INCOME Goldman Sachs Asset Man...  "
      ]
     },
     "execution_count": 3,
     "metadata": {},
     "output_type": "execute_result"
    }
   ],
   "source": [
    "df_docs.head()"
   ]
  },
  {
   "cell_type": "code",
   "execution_count": 4,
   "id": "7b7e4049",
   "metadata": {
    "execution": {
     "iopub.execute_input": "2023-08-29T01:32:54.809672Z",
     "iopub.status.busy": "2023-08-29T01:32:54.809247Z",
     "iopub.status.idle": "2023-08-29T01:32:54.816337Z",
     "shell.execute_reply": "2023-08-29T01:32:54.815246Z"
    },
    "papermill": {
     "duration": 0.021294,
     "end_time": "2023-08-29T01:32:54.818687",
     "exception": false,
     "start_time": "2023-08-29T01:32:54.797393",
     "status": "completed"
    },
    "tags": []
   },
   "outputs": [
    {
     "data": {
      "text/plain": [
       "(395, 7)"
      ]
     },
     "execution_count": 4,
     "metadata": {},
     "output_type": "execute_result"
    }
   ],
   "source": [
    "# Total number of documents \n",
    "df_docs.shape"
   ]
  },
  {
   "cell_type": "code",
   "execution_count": 5,
   "id": "27fba9ce",
   "metadata": {
    "execution": {
     "iopub.execute_input": "2023-08-29T01:32:54.842381Z",
     "iopub.status.busy": "2023-08-29T01:32:54.841726Z",
     "iopub.status.idle": "2023-08-29T01:32:54.860098Z",
     "shell.execute_reply": "2023-08-29T01:32:54.859274Z"
    },
    "papermill": {
     "duration": 0.032632,
     "end_time": "2023-08-29T01:32:54.862395",
     "exception": false,
     "start_time": "2023-08-29T01:32:54.829763",
     "status": "completed"
    },
    "tags": []
   },
   "outputs": [
    {
     "data": {
      "text/html": [
       "<div>\n",
       "<style scoped>\n",
       "    .dataframe tbody tr th:only-of-type {\n",
       "        vertical-align: middle;\n",
       "    }\n",
       "\n",
       "    .dataframe tbody tr th {\n",
       "        vertical-align: top;\n",
       "    }\n",
       "\n",
       "    .dataframe thead th {\n",
       "        text-align: right;\n",
       "    }\n",
       "</style>\n",
       "<table border=\"1\" class=\"dataframe\">\n",
       "  <thead>\n",
       "    <tr style=\"text-align: right;\">\n",
       "      <th></th>\n",
       "      <th>Bank Name</th>\n",
       "      <th>Report Name</th>\n",
       "    </tr>\n",
       "  </thead>\n",
       "  <tbody>\n",
       "    <tr>\n",
       "      <th>0</th>\n",
       "      <td>bnp_parisba</td>\n",
       "      <td>1</td>\n",
       "    </tr>\n",
       "    <tr>\n",
       "      <th>1</th>\n",
       "      <td>citi</td>\n",
       "      <td>11</td>\n",
       "    </tr>\n",
       "    <tr>\n",
       "      <th>2</th>\n",
       "      <td>goldman_sachs</td>\n",
       "      <td>5</td>\n",
       "    </tr>\n",
       "    <tr>\n",
       "      <th>3</th>\n",
       "      <td>jpmorgan</td>\n",
       "      <td>2</td>\n",
       "    </tr>\n",
       "    <tr>\n",
       "      <th>4</th>\n",
       "      <td>kkr</td>\n",
       "      <td>1</td>\n",
       "    </tr>\n",
       "  </tbody>\n",
       "</table>\n",
       "</div>"
      ],
      "text/plain": [
       "       Bank Name  Report Name\n",
       "0    bnp_parisba            1\n",
       "1           citi           11\n",
       "2  goldman_sachs            5\n",
       "3       jpmorgan            2\n",
       "4            kkr            1"
      ]
     },
     "execution_count": 5,
     "metadata": {},
     "output_type": "execute_result"
    }
   ],
   "source": [
    "# Number of documents by org\n",
    "doc_by_org_counts = df_docs.groupby('Bank Name')['Report Name'].nunique().reset_index()\n",
    "doc_by_org_counts"
   ]
  },
  {
   "cell_type": "code",
   "execution_count": 6,
   "id": "ce9ffef7",
   "metadata": {
    "execution": {
     "iopub.execute_input": "2023-08-29T01:32:54.886754Z",
     "iopub.status.busy": "2023-08-29T01:32:54.886380Z",
     "iopub.status.idle": "2023-08-29T01:32:54.898959Z",
     "shell.execute_reply": "2023-08-29T01:32:54.897744Z"
    },
    "papermill": {
     "duration": 0.027548,
     "end_time": "2023-08-29T01:32:54.901332",
     "exception": false,
     "start_time": "2023-08-29T01:32:54.873784",
     "status": "completed"
    },
    "tags": []
   },
   "outputs": [
    {
     "data": {
      "text/html": [
       "<div>\n",
       "<style scoped>\n",
       "    .dataframe tbody tr th:only-of-type {\n",
       "        vertical-align: middle;\n",
       "    }\n",
       "\n",
       "    .dataframe tbody tr th {\n",
       "        vertical-align: top;\n",
       "    }\n",
       "\n",
       "    .dataframe thead th {\n",
       "        text-align: right;\n",
       "    }\n",
       "</style>\n",
       "<table border=\"1\" class=\"dataframe\">\n",
       "  <thead>\n",
       "    <tr style=\"text-align: right;\">\n",
       "      <th></th>\n",
       "      <th>Bank Name</th>\n",
       "      <th>Page ID</th>\n",
       "    </tr>\n",
       "  </thead>\n",
       "  <tbody>\n",
       "    <tr>\n",
       "      <th>0</th>\n",
       "      <td>bnp_parisba</td>\n",
       "      <td>30</td>\n",
       "    </tr>\n",
       "    <tr>\n",
       "      <th>1</th>\n",
       "      <td>citi</td>\n",
       "      <td>62</td>\n",
       "    </tr>\n",
       "    <tr>\n",
       "      <th>2</th>\n",
       "      <td>goldman_sachs</td>\n",
       "      <td>146</td>\n",
       "    </tr>\n",
       "    <tr>\n",
       "      <th>3</th>\n",
       "      <td>jpmorgan</td>\n",
       "      <td>85</td>\n",
       "    </tr>\n",
       "    <tr>\n",
       "      <th>4</th>\n",
       "      <td>kkr</td>\n",
       "      <td>72</td>\n",
       "    </tr>\n",
       "  </tbody>\n",
       "</table>\n",
       "</div>"
      ],
      "text/plain": [
       "       Bank Name  Page ID\n",
       "0    bnp_parisba       30\n",
       "1           citi       62\n",
       "2  goldman_sachs      146\n",
       "3       jpmorgan       85\n",
       "4            kkr       72"
      ]
     },
     "execution_count": 6,
     "metadata": {},
     "output_type": "execute_result"
    }
   ],
   "source": [
    "# Number of total pages by org\n",
    "pages_by_org_counts = df_docs.groupby('Bank Name')['Page ID'].count().reset_index()\n",
    "pages_by_org_counts"
   ]
  },
  {
   "cell_type": "code",
   "execution_count": 7,
   "id": "9d35023c",
   "metadata": {
    "execution": {
     "iopub.execute_input": "2023-08-29T01:32:54.925743Z",
     "iopub.status.busy": "2023-08-29T01:32:54.925347Z",
     "iopub.status.idle": "2023-08-29T01:32:54.935801Z",
     "shell.execute_reply": "2023-08-29T01:32:54.934626Z"
    },
    "papermill": {
     "duration": 0.025429,
     "end_time": "2023-08-29T01:32:54.938130",
     "exception": false,
     "start_time": "2023-08-29T01:32:54.912701",
     "status": "completed"
    },
    "tags": []
   },
   "outputs": [],
   "source": [
    "from itertools import chain\n",
    "\n",
    "def get_document(document, by=\"words\", col=\"MSentences\", paginated=False):\n",
    "    # Get the sentences of all pages\n",
    "    pages_sentences = document[col].tolist()   \n",
    "    \n",
    "    if by == \"words\":\n",
    "        pages_words = []\n",
    "        for page_sentences in pages_sentences:\n",
    "            page_words = []\n",
    "            for sentence in page_sentences:\n",
    "                sent_tokens = word_tokenize(sentence)\n",
    "                page_words.append(sent_tokens)\n",
    "            \n",
    "            pages_words.append(list(chain.from_iterable(page_words)))\n",
    "        results = pages_words\n",
    "        \n",
    "    elif by == \"sentences\":\n",
    "        results = pages_sentences\n",
    "        \n",
    "    elif by == \"document\":\n",
    "        results = [ \" \".join(page_sentences).strip() for page_sentences in pages_sentences ]\n",
    "        if not paginated: \n",
    "            return \" \".join(results).strip()\n",
    "            \n",
    "    if paginated:\n",
    "        return results\n",
    "    return list(chain.from_iterable(results))"
   ]
  },
  {
   "cell_type": "code",
   "execution_count": 8,
   "id": "8e460a4f",
   "metadata": {
    "execution": {
     "iopub.execute_input": "2023-08-29T01:32:54.962758Z",
     "iopub.status.busy": "2023-08-29T01:32:54.962346Z",
     "iopub.status.idle": "2023-08-29T01:32:54.972605Z",
     "shell.execute_reply": "2023-08-29T01:32:54.971272Z"
    },
    "papermill": {
     "duration": 0.025376,
     "end_time": "2023-08-29T01:32:54.974860",
     "exception": false,
     "start_time": "2023-08-29T01:32:54.949484",
     "status": "completed"
    },
    "tags": []
   },
   "outputs": [
    {
     "name": "stdout",
     "output_type": "stream",
     "text": [
      "The document fx_insight_e_15_mai_2023 has 7 pages.\n"
     ]
    }
   ],
   "source": [
    "report_name = \"fx_insight_e_15_mai_2023\"\n",
    "document = df_docs[df_docs['Report Name'] == report_name].sort_values(by='Page ID')\n",
    "print(\"The document\", report_name, \"has\", len(document), \"pages.\")"
   ]
  },
  {
   "cell_type": "code",
   "execution_count": 9,
   "id": "b3f96171",
   "metadata": {
    "execution": {
     "iopub.execute_input": "2023-08-29T01:32:54.999296Z",
     "iopub.status.busy": "2023-08-29T01:32:54.998838Z",
     "iopub.status.idle": "2023-08-29T01:32:55.053036Z",
     "shell.execute_reply": "2023-08-29T01:32:55.051589Z"
    },
    "papermill": {
     "duration": 0.069414,
     "end_time": "2023-08-29T01:32:55.055652",
     "exception": false,
     "start_time": "2023-08-29T01:32:54.986238",
     "status": "completed"
    },
    "tags": []
   },
   "outputs": [
    {
     "name": "stdout",
     "output_type": "stream",
     "text": [
      "['invest', 'product', 'bank', 'deposit', 'govern', 'insur', 'bank', 'guarante', 'lose', 'valu']\n",
      "['invest product bank deposit', 'govern insur', 'bank guarante']\n",
      "invest product bank deposit govern insur bank guarante lose valu major currenc perform sourc bloombe\n"
     ]
    }
   ],
   "source": [
    "# Get the first 10 words of a page of the document\n",
    "page_id = 0\n",
    "print(get_document(document, by=\"words\", col=\"MSentences\", paginated=True)[page_id][:10])\n",
    "\n",
    "# Get the first 3 sentences of a page of the document\n",
    "print(get_document(document, by=\"sentences\", col=\"MSentences\", paginated=True)[page_id][:3])\n",
    "\n",
    "# Get a small chunk from the whole document\n",
    "print(get_document(document, by=\"document\", col=\"MSentences\", paginated=False)[:100])"
   ]
  },
  {
   "cell_type": "code",
   "execution_count": 10,
   "id": "534cc33f",
   "metadata": {
    "execution": {
     "iopub.execute_input": "2023-08-29T01:32:55.080359Z",
     "iopub.status.busy": "2023-08-29T01:32:55.079722Z",
     "iopub.status.idle": "2023-08-29T01:32:55.085668Z",
     "shell.execute_reply": "2023-08-29T01:32:55.084612Z"
    },
    "papermill": {
     "duration": 0.020764,
     "end_time": "2023-08-29T01:32:55.087846",
     "exception": false,
     "start_time": "2023-08-29T01:32:55.067082",
     "status": "completed"
    },
    "tags": []
   },
   "outputs": [
    {
     "name": "stdout",
     "output_type": "stream",
     "text": [
      "Safe-haven Currencies CHF Citi views & strategy Bias/ Forecasts/ Key levels Citi FX outlook Room for more short-term hawkishness - domestic factors enable an incrementally hawkish SNB, which should keep CHF supported. SNBs conditional inflation forecast would suggest the need for additional hikes, and the improvement in leading indicators creates room for a hawkish surprise. Previously USDCHF: 0 3mths: 0.90 USDCHF: 6 12mths: 0.87 USDCHF: LT: 0.85 Currently (as of Apr): USDCHF: 0 3mths: 0.87 USDCHF: 6 12mths: 0.86 USDCHF: LT: 0.85 6-12mths: Bullish CHF vs USD, moderately bearish vs EUR JPY Citi views & strategy Bias/ Forecasts/ Key levels Citi FX outlook BoJ YCC shift remains in play. Citi analysts base case is for shortening of the target duration from 10y to 5y or 3y in June meeting (after final outcome of spring wage negotiations). For US, as more hikes are priced, total cycle cuts are likely to deepen. Even in the scenario of a hawkish Fed, we think it may be hard for US duration to sell-off too much, but if things gets worse, it has a lot further to rally. This also makes JPY an asymmetric bet. Previously USDJPY: 0 3mths: 132.0 USDJPY: 6 12mths: 120.0 USDJPY: LT: 130.0 Currently (as of Apr): USDJPY: 0 3mths: 132.0 USDJPY: 6 12mths: 120.0 USDJPY: LT: 130.0 6-12mths: Bullish JPY vs USD, bullish vs CNH\n"
     ]
    }
   ],
   "source": [
    "print(get_document(document, by=\"document\", col=\"HSentences\", paginated=True)[4])"
   ]
  },
  {
   "cell_type": "markdown",
   "id": "bab23ba6",
   "metadata": {
    "papermill": {
     "duration": 0.011068,
     "end_time": "2023-08-29T01:32:55.110368",
     "exception": false,
     "start_time": "2023-08-29T01:32:55.099300",
     "status": "completed"
    },
    "tags": []
   },
   "source": [
    "## NER with spaCy"
   ]
  },
  {
   "cell_type": "code",
   "execution_count": 11,
   "id": "2315a1a8",
   "metadata": {
    "execution": {
     "iopub.execute_input": "2023-08-29T01:32:55.134745Z",
     "iopub.status.busy": "2023-08-29T01:32:55.134337Z",
     "iopub.status.idle": "2023-08-29T01:34:23.541689Z",
     "shell.execute_reply": "2023-08-29T01:34:23.539776Z"
    },
    "papermill": {
     "duration": 88.42309,
     "end_time": "2023-08-29T01:34:23.544765",
     "exception": false,
     "start_time": "2023-08-29T01:32:55.121675",
     "status": "completed"
    },
    "tags": []
   },
   "outputs": [],
   "source": [
    "%%capture \n",
    "!pip install --upgrade spacy\n",
    "!pip install spacy-transformers\n",
    "!python -m spacy download en_core_web_trf"
   ]
  },
  {
   "cell_type": "markdown",
   "id": "05fc4fe3",
   "metadata": {
    "papermill": {
     "duration": 0.011232,
     "end_time": "2023-08-29T01:34:23.567714",
     "exception": false,
     "start_time": "2023-08-29T01:34:23.556482",
     "status": "completed"
    },
    "tags": []
   },
   "source": [
    "### NER for a Sample Document "
   ]
  },
  {
   "cell_type": "code",
   "execution_count": 12,
   "id": "ac4013b4",
   "metadata": {
    "execution": {
     "iopub.execute_input": "2023-08-29T01:34:23.592967Z",
     "iopub.status.busy": "2023-08-29T01:34:23.592183Z",
     "iopub.status.idle": "2023-08-29T01:34:23.601183Z",
     "shell.execute_reply": "2023-08-29T01:34:23.600079Z"
    },
    "papermill": {
     "duration": 0.024435,
     "end_time": "2023-08-29T01:34:23.603535",
     "exception": false,
     "start_time": "2023-08-29T01:34:23.579100",
     "status": "completed"
    },
    "tags": []
   },
   "outputs": [],
   "source": [
    "ner_report_name = 'goldman_sachs_global_outlook'\n",
    "ner_document = df_docs[df_docs['Report Name'] == ner_report_name].sort_values(by='Page ID')\n",
    "ner_pages = get_document(ner_document, by=\"document\", col=\"HSentences\", paginated=True)"
   ]
  },
  {
   "cell_type": "code",
   "execution_count": 13,
   "id": "8eed2b61",
   "metadata": {
    "execution": {
     "iopub.execute_input": "2023-08-29T01:34:23.628285Z",
     "iopub.status.busy": "2023-08-29T01:34:23.627871Z",
     "iopub.status.idle": "2023-08-29T01:34:23.635109Z",
     "shell.execute_reply": "2023-08-29T01:34:23.634011Z"
    },
    "papermill": {
     "duration": 0.022409,
     "end_time": "2023-08-29T01:34:23.637387",
     "exception": false,
     "start_time": "2023-08-29T01:34:23.614978",
     "status": "completed"
    },
    "tags": []
   },
   "outputs": [
    {
     "data": {
      "text/plain": [
       "24"
      ]
     },
     "execution_count": 13,
     "metadata": {},
     "output_type": "execute_result"
    }
   ],
   "source": [
    "len(ner_pages)"
   ]
  },
  {
   "cell_type": "code",
   "execution_count": 14,
   "id": "46107e6c",
   "metadata": {
    "execution": {
     "iopub.execute_input": "2023-08-29T01:34:23.662652Z",
     "iopub.status.busy": "2023-08-29T01:34:23.661880Z",
     "iopub.status.idle": "2023-08-29T01:34:23.669349Z",
     "shell.execute_reply": "2023-08-29T01:34:23.668208Z"
    },
    "papermill": {
     "duration": 0.022749,
     "end_time": "2023-08-29T01:34:23.671606",
     "exception": false,
     "start_time": "2023-08-29T01:34:23.648857",
     "status": "completed"
    },
    "tags": []
   },
   "outputs": [
    {
     "data": {
      "text/plain": [
       "'Global growth slowed through 2022 on a diminishing reopening boost, fiscal and n monetary tightening, Chinas Covid restrictions and property slump, and the Russia-Ukraine war. We expect global growth of just 1.8% in 2023, as US resilience contrasts with a European recession and a bumpy reopening in China. The US should narrowly avoid recession as core PCE inflation slows from 5% n now to 3% in late 2023 with a pp rise in the unemployment rate. To keep growth below potential amidst stronger real income growth, we now see the Fed hiking another 125bp to a peak of 5-5.25%. We do not expect cuts in 2023. How can core inflation fall so much with such a small employment hit? The n reason, we think, is that this cycle is different from prior high-inflation periods. First, post-pandemic labor market overheating showed up not in excessive employment but in unprecedented job openings, which are much less painful to unwind. Second, the disinflationary impact of the recent normalization in supply chains and rental housing markets still has a long way to go. And third, long-term inflation expectations remain well-anchored. The Euro area and the UK are probably in recession, mainly because of the real n income hit from surging energy bills. But we expect only a mild downturn as Europe has already managed to cut Russian gas imports without crushing activity and is likely to benefit from the same post-pandemic improvements that are helping avoid US recession. Given reduced risks of a deep downturn and persistent inflation, we now expect hikes through May with a 3% ECB peak. China is likely to grow slowly in H1 as an April reopening initially triggers an n increase in Covid cases that keeps caution high, but should accelerate sharply in H2 on a reopening boost. Our longer-run China view remains cautious because of the long slide in the property market as well as slower potential growth (reflecting weakness in both demographics and productivity). Several central banks in Central/Eastern Europe and Latin America started hiking n rates well before their DM peers. While none has clearly achieved a soft landing yet, activity has been resilient and inflation is now coming down in some countries, especially Brazil. CEE is in a more difficult position because of its commodity exposure, high inflation, and ongoing monetary tightening. Jan Hatzius +1(212)902-0394 | jan.hatzius@gs.com Goldman Sachs & Co. LLC Daan Struyven +1(212)357-4172 | daan.struyven@gs.com Goldman Sachs & Co. LLC Yulia Zhestkova +1(646)446-3905 | yulia.zhestkova@gs.com Goldman Sachs & Co. LLC Devesh Kodnani +1(917)343-9216 | devesh.kodnani@gs.com Goldman Sachs & Co. LLC Global Economics Analyst Macro Outlook 2023: This Cycle Is Different 16 November 2022 | 10:59AM EST Investors should consider this report as only a single factor in making their investment decision. For Reg AC certification and other important disclosures, see the Disclosure Appendix, or go to www.gs.com/research/hedge.html. Note: The following is a redacted version of the original report published on 16 November 2022 [24 pgs].'"
      ]
     },
     "execution_count": 14,
     "metadata": {},
     "output_type": "execute_result"
    }
   ],
   "source": [
    "ner_pages[0]"
   ]
  },
  {
   "cell_type": "code",
   "execution_count": 15,
   "id": "cde4b47a",
   "metadata": {
    "execution": {
     "iopub.execute_input": "2023-08-29T01:34:23.696771Z",
     "iopub.status.busy": "2023-08-29T01:34:23.696402Z",
     "iopub.status.idle": "2023-08-29T01:35:43.032908Z",
     "shell.execute_reply": "2023-08-29T01:35:43.031709Z"
    },
    "papermill": {
     "duration": 79.364449,
     "end_time": "2023-08-29T01:35:43.047926",
     "exception": false,
     "start_time": "2023-08-29T01:34:23.683477",
     "status": "completed"
    },
    "tags": []
   },
   "outputs": [
    {
     "name": "stderr",
     "output_type": "stream",
     "text": [
      "/opt/conda/lib/python3.10/site-packages/tensorflow_io/python/ops/__init__.py:98: UserWarning: unable to load libtensorflow_io_plugins.so: unable to open file: libtensorflow_io_plugins.so, from paths: ['/opt/conda/lib/python3.10/site-packages/tensorflow_io/python/ops/libtensorflow_io_plugins.so']\n",
      "caused by: ['/opt/conda/lib/python3.10/site-packages/tensorflow_io/python/ops/libtensorflow_io_plugins.so: undefined symbol: _ZN3tsl6StatusC1EN10tensorflow5error4CodeESt17basic_string_viewIcSt11char_traitsIcEENS_14SourceLocationE']\n",
      "  warnings.warn(f\"unable to load libtensorflow_io_plugins.so: {e}\")\n",
      "/opt/conda/lib/python3.10/site-packages/tensorflow_io/python/ops/__init__.py:104: UserWarning: file system plugins are not loaded: unable to open file: libtensorflow_io.so, from paths: ['/opt/conda/lib/python3.10/site-packages/tensorflow_io/python/ops/libtensorflow_io.so']\n",
      "caused by: ['/opt/conda/lib/python3.10/site-packages/tensorflow_io/python/ops/libtensorflow_io.so: undefined symbol: _ZTVN10tensorflow13GcsFileSystemE']\n",
      "  warnings.warn(f\"file system plugins are not loaded: {e}\")\n",
      "100%|██████████| 24/24 [01:05<00:00,  2.71s/it]"
     ]
    },
    {
     "name": "stdout",
     "output_type": "stream",
     "text": [
      "CPU times: user 1min 55s, sys: 25.6 s, total: 2min 20s\n",
      "Wall time: 1min 19s\n"
     ]
    },
    {
     "name": "stderr",
     "output_type": "stream",
     "text": [
      "\n"
     ]
    }
   ],
   "source": [
    "%%time \n",
    "import spacy\n",
    "from spacy import displacy\n",
    "import spacy_transformers\n",
    "from tqdm import tqdm\n",
    "\n",
    "# Load the spaCy model for English\n",
    "nlp = spacy.load(\"en_core_web_trf\")\n",
    "\n",
    "# Input\n",
    "docs = list(tqdm(nlp.pipe(ner_pages), total=len(ner_pages)))"
   ]
  },
  {
   "cell_type": "code",
   "execution_count": 16,
   "id": "87542086",
   "metadata": {
    "execution": {
     "iopub.execute_input": "2023-08-29T01:35:43.077811Z",
     "iopub.status.busy": "2023-08-29T01:35:43.077070Z",
     "iopub.status.idle": "2023-08-29T01:35:43.085474Z",
     "shell.execute_reply": "2023-08-29T01:35:43.084206Z"
    },
    "papermill": {
     "duration": 0.026897,
     "end_time": "2023-08-29T01:35:43.088616",
     "exception": false,
     "start_time": "2023-08-29T01:35:43.061719",
     "status": "completed"
    },
    "tags": []
   },
   "outputs": [
    {
     "name": "stdout",
     "output_type": "stream",
     "text": [
      "CARDINAL - Numerals that do not fall under another type\n",
      "DATE - Absolute or relative dates or periods\n",
      "EVENT - Named hurricanes, battles, wars, sports events, etc.\n",
      "FAC - Buildings, airports, highways, bridges, etc.\n",
      "GPE - Countries, cities, states\n",
      "LANGUAGE - Any named language\n",
      "LAW - Named documents made into laws.\n",
      "LOC - Non-GPE locations, mountain ranges, bodies of water\n",
      "MONEY - Monetary values, including unit\n",
      "NORP - Nationalities or religious or political groups\n",
      "ORDINAL - \"first\", \"second\", etc.\n",
      "ORG - Companies, agencies, institutions, etc.\n",
      "PERCENT - Percentage, including \"%\"\n",
      "PERSON - People, including fictional\n",
      "PRODUCT - Objects, vehicles, foods, etc. (not services)\n",
      "QUANTITY - Measurements, as of weight or distance\n",
      "TIME - Times smaller than a day\n",
      "WORK_OF_ART - Titles of books, songs, etc.\n"
     ]
    }
   ],
   "source": [
    "entity_types = nlp.pipe_labels[\"ner\"]\n",
    "\n",
    "for ent in entity_types:\n",
    "    print(ent,\"-\",spacy.explain(ent))"
   ]
  },
  {
   "cell_type": "markdown",
   "id": "6750a71a",
   "metadata": {
    "papermill": {
     "duration": 0.012404,
     "end_time": "2023-08-29T01:35:43.114854",
     "exception": false,
     "start_time": "2023-08-29T01:35:43.102450",
     "status": "completed"
    },
    "tags": []
   },
   "source": [
    "#### Entity Visual Extraction"
   ]
  },
  {
   "cell_type": "code",
   "execution_count": 17,
   "id": "718772aa",
   "metadata": {
    "execution": {
     "iopub.execute_input": "2023-08-29T01:35:43.143267Z",
     "iopub.status.busy": "2023-08-29T01:35:43.142552Z",
     "iopub.status.idle": "2023-08-29T01:35:43.167686Z",
     "shell.execute_reply": "2023-08-29T01:35:43.166029Z"
    },
    "papermill": {
     "duration": 0.042488,
     "end_time": "2023-08-29T01:35:43.170338",
     "exception": false,
     "start_time": "2023-08-29T01:35:43.127850",
     "status": "completed"
    },
    "tags": []
   },
   "outputs": [
    {
     "name": "stdout",
     "output_type": "stream",
     "text": [
      "- Page #0\n"
     ]
    },
    {
     "data": {
      "text/html": [
       "<span class=\"tex2jax_ignore\"><div class=\"entities\" style=\"line-height: 2.5; direction: ltr\">Global growth slowed through \n",
       "<mark class=\"entity\" style=\"background: #bfe1d9; padding: 0.45em 0.6em; margin: 0 0.25em; line-height: 1; border-radius: 0.35em;\">\n",
       "    2022\n",
       "    <span style=\"font-size: 0.8em; font-weight: bold; line-height: 1; border-radius: 0.35em; vertical-align: middle; margin-left: 0.5rem\">DATE</span>\n",
       "</mark>\n",
       " on a diminishing reopening boost, fiscal and n monetary tightening, \n",
       "<mark class=\"entity\" style=\"background: #feca74; padding: 0.45em 0.6em; margin: 0 0.25em; line-height: 1; border-radius: 0.35em;\">\n",
       "    Chinas Covid\n",
       "    <span style=\"font-size: 0.8em; font-weight: bold; line-height: 1; border-radius: 0.35em; vertical-align: middle; margin-left: 0.5rem\">GPE</span>\n",
       "</mark>\n",
       " restrictions and property slump, and the \n",
       "<mark class=\"entity\" style=\"background: #feca74; padding: 0.45em 0.6em; margin: 0 0.25em; line-height: 1; border-radius: 0.35em;\">\n",
       "    Russia\n",
       "    <span style=\"font-size: 0.8em; font-weight: bold; line-height: 1; border-radius: 0.35em; vertical-align: middle; margin-left: 0.5rem\">GPE</span>\n",
       "</mark>\n",
       "-Ukraine war. We expect global growth of \n",
       "<mark class=\"entity\" style=\"background: #e4e7d2; padding: 0.45em 0.6em; margin: 0 0.25em; line-height: 1; border-radius: 0.35em;\">\n",
       "    just 1.8%\n",
       "    <span style=\"font-size: 0.8em; font-weight: bold; line-height: 1; border-radius: 0.35em; vertical-align: middle; margin-left: 0.5rem\">PERCENT</span>\n",
       "</mark>\n",
       " in \n",
       "<mark class=\"entity\" style=\"background: #bfe1d9; padding: 0.45em 0.6em; margin: 0 0.25em; line-height: 1; border-radius: 0.35em;\">\n",
       "    2023\n",
       "    <span style=\"font-size: 0.8em; font-weight: bold; line-height: 1; border-radius: 0.35em; vertical-align: middle; margin-left: 0.5rem\">DATE</span>\n",
       "</mark>\n",
       ", as \n",
       "<mark class=\"entity\" style=\"background: #feca74; padding: 0.45em 0.6em; margin: 0 0.25em; line-height: 1; border-radius: 0.35em;\">\n",
       "    US\n",
       "    <span style=\"font-size: 0.8em; font-weight: bold; line-height: 1; border-radius: 0.35em; vertical-align: middle; margin-left: 0.5rem\">GPE</span>\n",
       "</mark>\n",
       " resilience contrasts with a \n",
       "<mark class=\"entity\" style=\"background: #c887fb; padding: 0.45em 0.6em; margin: 0 0.25em; line-height: 1; border-radius: 0.35em;\">\n",
       "    European\n",
       "    <span style=\"font-size: 0.8em; font-weight: bold; line-height: 1; border-radius: 0.35em; vertical-align: middle; margin-left: 0.5rem\">NORP</span>\n",
       "</mark>\n",
       " recession and a bumpy reopening in \n",
       "<mark class=\"entity\" style=\"background: #feca74; padding: 0.45em 0.6em; margin: 0 0.25em; line-height: 1; border-radius: 0.35em;\">\n",
       "    China\n",
       "    <span style=\"font-size: 0.8em; font-weight: bold; line-height: 1; border-radius: 0.35em; vertical-align: middle; margin-left: 0.5rem\">GPE</span>\n",
       "</mark>\n",
       ". The \n",
       "<mark class=\"entity\" style=\"background: #feca74; padding: 0.45em 0.6em; margin: 0 0.25em; line-height: 1; border-radius: 0.35em;\">\n",
       "    US\n",
       "    <span style=\"font-size: 0.8em; font-weight: bold; line-height: 1; border-radius: 0.35em; vertical-align: middle; margin-left: 0.5rem\">GPE</span>\n",
       "</mark>\n",
       " should narrowly avoid recession as core PCE inflation slows from \n",
       "<mark class=\"entity\" style=\"background: #e4e7d2; padding: 0.45em 0.6em; margin: 0 0.25em; line-height: 1; border-radius: 0.35em;\">\n",
       "    5%\n",
       "    <span style=\"font-size: 0.8em; font-weight: bold; line-height: 1; border-radius: 0.35em; vertical-align: middle; margin-left: 0.5rem\">PERCENT</span>\n",
       "</mark>\n",
       " n now to \n",
       "<mark class=\"entity\" style=\"background: #e4e7d2; padding: 0.45em 0.6em; margin: 0 0.25em; line-height: 1; border-radius: 0.35em;\">\n",
       "    3%\n",
       "    <span style=\"font-size: 0.8em; font-weight: bold; line-height: 1; border-radius: 0.35em; vertical-align: middle; margin-left: 0.5rem\">PERCENT</span>\n",
       "</mark>\n",
       " in late \n",
       "<mark class=\"entity\" style=\"background: #bfe1d9; padding: 0.45em 0.6em; margin: 0 0.25em; line-height: 1; border-radius: 0.35em;\">\n",
       "    2023\n",
       "    <span style=\"font-size: 0.8em; font-weight: bold; line-height: 1; border-radius: 0.35em; vertical-align: middle; margin-left: 0.5rem\">DATE</span>\n",
       "</mark>\n",
       " with a pp rise in the unemployment rate. To keep growth below potential amidst stronger real income growth, we now see the \n",
       "<mark class=\"entity\" style=\"background: #7aecec; padding: 0.45em 0.6em; margin: 0 0.25em; line-height: 1; border-radius: 0.35em;\">\n",
       "    Fed\n",
       "    <span style=\"font-size: 0.8em; font-weight: bold; line-height: 1; border-radius: 0.35em; vertical-align: middle; margin-left: 0.5rem\">ORG</span>\n",
       "</mark>\n",
       " hiking another 125bp to a peak of \n",
       "<mark class=\"entity\" style=\"background: #e4e7d2; padding: 0.45em 0.6em; margin: 0 0.25em; line-height: 1; border-radius: 0.35em;\">\n",
       "    5-5.25%\n",
       "    <span style=\"font-size: 0.8em; font-weight: bold; line-height: 1; border-radius: 0.35em; vertical-align: middle; margin-left: 0.5rem\">PERCENT</span>\n",
       "</mark>\n",
       ". We do not expect cuts in \n",
       "<mark class=\"entity\" style=\"background: #bfe1d9; padding: 0.45em 0.6em; margin: 0 0.25em; line-height: 1; border-radius: 0.35em;\">\n",
       "    2023\n",
       "    <span style=\"font-size: 0.8em; font-weight: bold; line-height: 1; border-radius: 0.35em; vertical-align: middle; margin-left: 0.5rem\">DATE</span>\n",
       "</mark>\n",
       ". How can core inflation fall so much with such a small employment hit? The n reason, we think, is that this cycle is different from prior high-inflation periods. First, post-pandemic labor market overheating showed up not in excessive employment but in unprecedented job openings, which are much less painful to unwind. Second, the disinflationary impact of the recent normalization in supply chains and rental housing markets still has a long way to go. And third, long-term inflation expectations remain well-anchored. The Euro area and the \n",
       "<mark class=\"entity\" style=\"background: #feca74; padding: 0.45em 0.6em; margin: 0 0.25em; line-height: 1; border-radius: 0.35em;\">\n",
       "    UK\n",
       "    <span style=\"font-size: 0.8em; font-weight: bold; line-height: 1; border-radius: 0.35em; vertical-align: middle; margin-left: 0.5rem\">GPE</span>\n",
       "</mark>\n",
       " are probably in recession, mainly because of the real n income hit from surging energy bills. But we expect only a mild downturn as \n",
       "<mark class=\"entity\" style=\"background: #ff9561; padding: 0.45em 0.6em; margin: 0 0.25em; line-height: 1; border-radius: 0.35em;\">\n",
       "    Europe\n",
       "    <span style=\"font-size: 0.8em; font-weight: bold; line-height: 1; border-radius: 0.35em; vertical-align: middle; margin-left: 0.5rem\">LOC</span>\n",
       "</mark>\n",
       " has already managed to cut \n",
       "<mark class=\"entity\" style=\"background: #c887fb; padding: 0.45em 0.6em; margin: 0 0.25em; line-height: 1; border-radius: 0.35em;\">\n",
       "    Russian\n",
       "    <span style=\"font-size: 0.8em; font-weight: bold; line-height: 1; border-radius: 0.35em; vertical-align: middle; margin-left: 0.5rem\">NORP</span>\n",
       "</mark>\n",
       " gas imports without crushing activity and is likely to benefit from the same post-pandemic improvements that are helping avoid \n",
       "<mark class=\"entity\" style=\"background: #feca74; padding: 0.45em 0.6em; margin: 0 0.25em; line-height: 1; border-radius: 0.35em;\">\n",
       "    US\n",
       "    <span style=\"font-size: 0.8em; font-weight: bold; line-height: 1; border-radius: 0.35em; vertical-align: middle; margin-left: 0.5rem\">GPE</span>\n",
       "</mark>\n",
       " recession. Given reduced risks of a deep downturn and persistent inflation, we now expect hikes through \n",
       "<mark class=\"entity\" style=\"background: #bfe1d9; padding: 0.45em 0.6em; margin: 0 0.25em; line-height: 1; border-radius: 0.35em;\">\n",
       "    May\n",
       "    <span style=\"font-size: 0.8em; font-weight: bold; line-height: 1; border-radius: 0.35em; vertical-align: middle; margin-left: 0.5rem\">DATE</span>\n",
       "</mark>\n",
       " with a \n",
       "<mark class=\"entity\" style=\"background: #e4e7d2; padding: 0.45em 0.6em; margin: 0 0.25em; line-height: 1; border-radius: 0.35em;\">\n",
       "    3%\n",
       "    <span style=\"font-size: 0.8em; font-weight: bold; line-height: 1; border-radius: 0.35em; vertical-align: middle; margin-left: 0.5rem\">PERCENT</span>\n",
       "</mark>\n",
       " \n",
       "<mark class=\"entity\" style=\"background: #7aecec; padding: 0.45em 0.6em; margin: 0 0.25em; line-height: 1; border-radius: 0.35em;\">\n",
       "    ECB\n",
       "    <span style=\"font-size: 0.8em; font-weight: bold; line-height: 1; border-radius: 0.35em; vertical-align: middle; margin-left: 0.5rem\">ORG</span>\n",
       "</mark>\n",
       " peak. \n",
       "<mark class=\"entity\" style=\"background: #feca74; padding: 0.45em 0.6em; margin: 0 0.25em; line-height: 1; border-radius: 0.35em;\">\n",
       "    China\n",
       "    <span style=\"font-size: 0.8em; font-weight: bold; line-height: 1; border-radius: 0.35em; vertical-align: middle; margin-left: 0.5rem\">GPE</span>\n",
       "</mark>\n",
       " is likely to grow slowly in \n",
       "<mark class=\"entity\" style=\"background: #bfe1d9; padding: 0.45em 0.6em; margin: 0 0.25em; line-height: 1; border-radius: 0.35em;\">\n",
       "    H1\n",
       "    <span style=\"font-size: 0.8em; font-weight: bold; line-height: 1; border-radius: 0.35em; vertical-align: middle; margin-left: 0.5rem\">DATE</span>\n",
       "</mark>\n",
       " as an \n",
       "<mark class=\"entity\" style=\"background: #bfe1d9; padding: 0.45em 0.6em; margin: 0 0.25em; line-height: 1; border-radius: 0.35em;\">\n",
       "    April\n",
       "    <span style=\"font-size: 0.8em; font-weight: bold; line-height: 1; border-radius: 0.35em; vertical-align: middle; margin-left: 0.5rem\">DATE</span>\n",
       "</mark>\n",
       " reopening initially triggers an n increase in Covid cases that keeps caution high, but should accelerate sharply in \n",
       "<mark class=\"entity\" style=\"background: #bfe1d9; padding: 0.45em 0.6em; margin: 0 0.25em; line-height: 1; border-radius: 0.35em;\">\n",
       "    H2\n",
       "    <span style=\"font-size: 0.8em; font-weight: bold; line-height: 1; border-radius: 0.35em; vertical-align: middle; margin-left: 0.5rem\">DATE</span>\n",
       "</mark>\n",
       " on a reopening boost. Our longer-run \n",
       "<mark class=\"entity\" style=\"background: #feca74; padding: 0.45em 0.6em; margin: 0 0.25em; line-height: 1; border-radius: 0.35em;\">\n",
       "    China\n",
       "    <span style=\"font-size: 0.8em; font-weight: bold; line-height: 1; border-radius: 0.35em; vertical-align: middle; margin-left: 0.5rem\">GPE</span>\n",
       "</mark>\n",
       " view remains cautious because of the long slide in the property market as well as slower potential growth (reflecting weakness in both demographics and productivity). Several central banks in \n",
       "<mark class=\"entity\" style=\"background: #ff9561; padding: 0.45em 0.6em; margin: 0 0.25em; line-height: 1; border-radius: 0.35em;\">\n",
       "    Central/Eastern Europe\n",
       "    <span style=\"font-size: 0.8em; font-weight: bold; line-height: 1; border-radius: 0.35em; vertical-align: middle; margin-left: 0.5rem\">LOC</span>\n",
       "</mark>\n",
       " and \n",
       "<mark class=\"entity\" style=\"background: #ff9561; padding: 0.45em 0.6em; margin: 0 0.25em; line-height: 1; border-radius: 0.35em;\">\n",
       "    Latin America\n",
       "    <span style=\"font-size: 0.8em; font-weight: bold; line-height: 1; border-radius: 0.35em; vertical-align: middle; margin-left: 0.5rem\">LOC</span>\n",
       "</mark>\n",
       " started hiking n rates well before their DM peers. While none has clearly achieved a soft landing yet, activity has been resilient and inflation is now coming down in some countries, especially \n",
       "<mark class=\"entity\" style=\"background: #feca74; padding: 0.45em 0.6em; margin: 0 0.25em; line-height: 1; border-radius: 0.35em;\">\n",
       "    Brazil\n",
       "    <span style=\"font-size: 0.8em; font-weight: bold; line-height: 1; border-radius: 0.35em; vertical-align: middle; margin-left: 0.5rem\">GPE</span>\n",
       "</mark>\n",
       ". \n",
       "<mark class=\"entity\" style=\"background: #7aecec; padding: 0.45em 0.6em; margin: 0 0.25em; line-height: 1; border-radius: 0.35em;\">\n",
       "    CEE\n",
       "    <span style=\"font-size: 0.8em; font-weight: bold; line-height: 1; border-radius: 0.35em; vertical-align: middle; margin-left: 0.5rem\">ORG</span>\n",
       "</mark>\n",
       " is in a more difficult position because of its commodity exposure, high inflation, and ongoing monetary tightening. \n",
       "<mark class=\"entity\" style=\"background: #aa9cfc; padding: 0.45em 0.6em; margin: 0 0.25em; line-height: 1; border-radius: 0.35em;\">\n",
       "    Jan Hatzius\n",
       "    <span style=\"font-size: 0.8em; font-weight: bold; line-height: 1; border-radius: 0.35em; vertical-align: middle; margin-left: 0.5rem\">PERSON</span>\n",
       "</mark>\n",
       " +1(212)902-0394 | jan.hatzius@gs.com \n",
       "<mark class=\"entity\" style=\"background: #7aecec; padding: 0.45em 0.6em; margin: 0 0.25em; line-height: 1; border-radius: 0.35em;\">\n",
       "    Goldman Sachs &amp; Co. LLC\n",
       "    <span style=\"font-size: 0.8em; font-weight: bold; line-height: 1; border-radius: 0.35em; vertical-align: middle; margin-left: 0.5rem\">ORG</span>\n",
       "</mark>\n",
       " \n",
       "<mark class=\"entity\" style=\"background: #aa9cfc; padding: 0.45em 0.6em; margin: 0 0.25em; line-height: 1; border-radius: 0.35em;\">\n",
       "    Daan Struyven\n",
       "    <span style=\"font-size: 0.8em; font-weight: bold; line-height: 1; border-radius: 0.35em; vertical-align: middle; margin-left: 0.5rem\">PERSON</span>\n",
       "</mark>\n",
       " +1(212)357-4172 | daan.struyven@gs.com \n",
       "<mark class=\"entity\" style=\"background: #7aecec; padding: 0.45em 0.6em; margin: 0 0.25em; line-height: 1; border-radius: 0.35em;\">\n",
       "    Goldman Sachs &amp; Co. LLC\n",
       "    <span style=\"font-size: 0.8em; font-weight: bold; line-height: 1; border-radius: 0.35em; vertical-align: middle; margin-left: 0.5rem\">ORG</span>\n",
       "</mark>\n",
       " \n",
       "<mark class=\"entity\" style=\"background: #aa9cfc; padding: 0.45em 0.6em; margin: 0 0.25em; line-height: 1; border-radius: 0.35em;\">\n",
       "    Yulia Zhestkova\n",
       "    <span style=\"font-size: 0.8em; font-weight: bold; line-height: 1; border-radius: 0.35em; vertical-align: middle; margin-left: 0.5rem\">PERSON</span>\n",
       "</mark>\n",
       " +1(646)446-3905 | yulia.zhestkova@gs.com \n",
       "<mark class=\"entity\" style=\"background: #7aecec; padding: 0.45em 0.6em; margin: 0 0.25em; line-height: 1; border-radius: 0.35em;\">\n",
       "    Goldman Sachs &amp; Co. LLC\n",
       "    <span style=\"font-size: 0.8em; font-weight: bold; line-height: 1; border-radius: 0.35em; vertical-align: middle; margin-left: 0.5rem\">ORG</span>\n",
       "</mark>\n",
       " \n",
       "<mark class=\"entity\" style=\"background: #aa9cfc; padding: 0.45em 0.6em; margin: 0 0.25em; line-height: 1; border-radius: 0.35em;\">\n",
       "    Devesh Kodnani\n",
       "    <span style=\"font-size: 0.8em; font-weight: bold; line-height: 1; border-radius: 0.35em; vertical-align: middle; margin-left: 0.5rem\">PERSON</span>\n",
       "</mark>\n",
       " +1(917)343-9216 | devesh.kodnani@gs.com \n",
       "<mark class=\"entity\" style=\"background: #7aecec; padding: 0.45em 0.6em; margin: 0 0.25em; line-height: 1; border-radius: 0.35em;\">\n",
       "    Goldman Sachs &amp; Co. LLC\n",
       "    <span style=\"font-size: 0.8em; font-weight: bold; line-height: 1; border-radius: 0.35em; vertical-align: middle; margin-left: 0.5rem\">ORG</span>\n",
       "</mark>\n",
       " Global Economics Analyst Macro Outlook 2023: This Cycle Is Different \n",
       "<mark class=\"entity\" style=\"background: #bfe1d9; padding: 0.45em 0.6em; margin: 0 0.25em; line-height: 1; border-radius: 0.35em;\">\n",
       "    16 November 2022\n",
       "    <span style=\"font-size: 0.8em; font-weight: bold; line-height: 1; border-radius: 0.35em; vertical-align: middle; margin-left: 0.5rem\">DATE</span>\n",
       "</mark>\n",
       " | \n",
       "<mark class=\"entity\" style=\"background: #bfe1d9; padding: 0.45em 0.6em; margin: 0 0.25em; line-height: 1; border-radius: 0.35em;\">\n",
       "    10:59AM EST\n",
       "    <span style=\"font-size: 0.8em; font-weight: bold; line-height: 1; border-radius: 0.35em; vertical-align: middle; margin-left: 0.5rem\">TIME</span>\n",
       "</mark>\n",
       " Investors should consider this report as only a single factor in making their investment decision. For \n",
       "<mark class=\"entity\" style=\"background: #7aecec; padding: 0.45em 0.6em; margin: 0 0.25em; line-height: 1; border-radius: 0.35em;\">\n",
       "    Reg AC\n",
       "    <span style=\"font-size: 0.8em; font-weight: bold; line-height: 1; border-radius: 0.35em; vertical-align: middle; margin-left: 0.5rem\">ORG</span>\n",
       "</mark>\n",
       " certification and other important disclosures, see \n",
       "<mark class=\"entity\" style=\"background: #f0d0ff; padding: 0.45em 0.6em; margin: 0 0.25em; line-height: 1; border-radius: 0.35em;\">\n",
       "    the Disclosure Appendix\n",
       "    <span style=\"font-size: 0.8em; font-weight: bold; line-height: 1; border-radius: 0.35em; vertical-align: middle; margin-left: 0.5rem\">WORK_OF_ART</span>\n",
       "</mark>\n",
       ", or go to www.gs.com/research/hedge.html. Note: The following is a redacted version of the original report published on \n",
       "<mark class=\"entity\" style=\"background: #bfe1d9; padding: 0.45em 0.6em; margin: 0 0.25em; line-height: 1; border-radius: 0.35em;\">\n",
       "    16 November 2022\n",
       "    <span style=\"font-size: 0.8em; font-weight: bold; line-height: 1; border-radius: 0.35em; vertical-align: middle; margin-left: 0.5rem\">DATE</span>\n",
       "</mark>\n",
       " [24 pgs].</div></span>"
      ],
      "text/plain": [
       "<IPython.core.display.HTML object>"
      ]
     },
     "metadata": {},
     "output_type": "display_data"
    },
    {
     "name": "stdout",
     "output_type": "stream",
     "text": [
      "\n",
      "- Page #1\n"
     ]
    },
    {
     "data": {
      "text/html": [
       "<span class=\"tex2jax_ignore\"><div class=\"entities\" style=\"line-height: 2.5; direction: ltr\">Macro Outlook \n",
       "<mark class=\"entity\" style=\"background: #e4e7d2; padding: 0.45em 0.6em; margin: 0 0.25em; line-height: 1; border-radius: 0.35em;\">\n",
       "    2023\n",
       "    <span style=\"font-size: 0.8em; font-weight: bold; line-height: 1; border-radius: 0.35em; vertical-align: middle; margin-left: 0.5rem\">CARDINAL</span>\n",
       "</mark>\n",
       ": This Cycle Is Different Global growth slowed sharply through \n",
       "<mark class=\"entity\" style=\"background: #bfe1d9; padding: 0.45em 0.6em; margin: 0 0.25em; line-height: 1; border-radius: 0.35em;\">\n",
       "    2022\n",
       "    <span style=\"font-size: 0.8em; font-weight: bold; line-height: 1; border-radius: 0.35em; vertical-align: middle; margin-left: 0.5rem\">DATE</span>\n",
       "</mark>\n",
       " on a diminishing reopening boost, fiscal and monetary tightening, \n",
       "<mark class=\"entity\" style=\"background: #c887fb; padding: 0.45em 0.6em; margin: 0 0.25em; line-height: 1; border-radius: 0.35em;\">\n",
       "    Chinas\n",
       "    <span style=\"font-size: 0.8em; font-weight: bold; line-height: 1; border-radius: 0.35em; vertical-align: middle; margin-left: 0.5rem\">NORP</span>\n",
       "</mark>\n",
       " ongoing Covid restrictions and property slump, and the energy supply shock resulting from \n",
       "<mark class=\"entity\" style=\"background: #ffeb80; padding: 0.45em 0.6em; margin: 0 0.25em; line-height: 1; border-radius: 0.35em;\">\n",
       "    the Russia-Ukraine war\n",
       "    <span style=\"font-size: 0.8em; font-weight: bold; line-height: 1; border-radius: 0.35em; vertical-align: middle; margin-left: 0.5rem\">EVENT</span>\n",
       "</mark>\n",
       ". We expect the world to continue growing at a below-trend pace of \n",
       "<mark class=\"entity\" style=\"background: #e4e7d2; padding: 0.45em 0.6em; margin: 0 0.25em; line-height: 1; border-radius: 0.35em;\">\n",
       "    1.8%\n",
       "    <span style=\"font-size: 0.8em; font-weight: bold; line-height: 1; border-radius: 0.35em; vertical-align: middle; margin-left: 0.5rem\">PERCENT</span>\n",
       "</mark>\n",
       " in \n",
       "<mark class=\"entity\" style=\"background: #bfe1d9; padding: 0.45em 0.6em; margin: 0 0.25em; line-height: 1; border-radius: 0.35em;\">\n",
       "    2023\n",
       "    <span style=\"font-size: 0.8em; font-weight: bold; line-height: 1; border-radius: 0.35em; vertical-align: middle; margin-left: 0.5rem\">DATE</span>\n",
       "</mark>\n",
       ", with a mild recession in \n",
       "<mark class=\"entity\" style=\"background: #ff9561; padding: 0.45em 0.6em; margin: 0 0.25em; line-height: 1; border-radius: 0.35em;\">\n",
       "    Europe\n",
       "    <span style=\"font-size: 0.8em; font-weight: bold; line-height: 1; border-radius: 0.35em; vertical-align: middle; margin-left: 0.5rem\">LOC</span>\n",
       "</mark>\n",
       " and a bumpy reopening in \n",
       "<mark class=\"entity\" style=\"background: #feca74; padding: 0.45em 0.6em; margin: 0 0.25em; line-height: 1; border-radius: 0.35em;\">\n",
       "    China\n",
       "    <span style=\"font-size: 0.8em; font-weight: bold; line-height: 1; border-radius: 0.35em; vertical-align: middle; margin-left: 0.5rem\">GPE</span>\n",
       "</mark>\n",
       " but also important pockets of resilience in the \n",
       "<mark class=\"entity\" style=\"background: #feca74; padding: 0.45em 0.6em; margin: 0 0.25em; line-height: 1; border-radius: 0.35em;\">\n",
       "    US\n",
       "    <span style=\"font-size: 0.8em; font-weight: bold; line-height: 1; border-radius: 0.35em; vertical-align: middle; margin-left: 0.5rem\">GPE</span>\n",
       "</mark>\n",
       " and some THEM early hikers, such as \n",
       "<mark class=\"entity\" style=\"background: #feca74; padding: 0.45em 0.6em; margin: 0 0.25em; line-height: 1; border-radius: 0.35em;\">\n",
       "    Brazil\n",
       "    <span style=\"font-size: 0.8em; font-weight: bold; line-height: 1; border-radius: 0.35em; vertical-align: middle; margin-left: 0.5rem\">GPE</span>\n",
       "</mark>\n",
       ". Exhibit \n",
       "<mark class=\"entity\" style=\"background: #e4e7d2; padding: 0.45em 0.6em; margin: 0 0.25em; line-height: 1; border-radius: 0.35em;\">\n",
       "    1\n",
       "    <span style=\"font-size: 0.8em; font-weight: bold; line-height: 1; border-radius: 0.35em; vertical-align: middle; margin-left: 0.5rem\">CARDINAL</span>\n",
       "</mark>\n",
       ": Slow Growth in \n",
       "<mark class=\"entity\" style=\"background: #bfe1d9; padding: 0.45em 0.6em; margin: 0 0.25em; line-height: 1; border-radius: 0.35em;\">\n",
       "    2023\n",
       "    <span style=\"font-size: 0.8em; font-weight: bold; line-height: 1; border-radius: 0.35em; vertical-align: middle; margin-left: 0.5rem\">DATE</span>\n",
       "</mark>\n",
       ", But Above-Consensus on the \n",
       "<mark class=\"entity\" style=\"background: #feca74; padding: 0.45em 0.6em; margin: 0 0.25em; line-height: 1; border-radius: 0.35em;\">\n",
       "    US\n",
       "    <span style=\"font-size: 0.8em; font-weight: bold; line-height: 1; border-radius: 0.35em; vertical-align: middle; margin-left: 0.5rem\">GPE</span>\n",
       "</mark>\n",
       " Potential GS GS GS GS 1.9 1.8 1.0 0.4 1.6 1.4 1.1 0.9 1.8 3.3 3.1 -0.1 -0.1 1.4 1.5 0.0 -0.5 1.1 \n",
       "<mark class=\"entity\" style=\"background: #feca74; padding: 0.45em 0.6em; margin: 0 0.25em; line-height: 1; border-radius: 0.35em;\">\n",
       "    Germany\n",
       "    <span style=\"font-size: 0.8em; font-weight: bold; line-height: 1; border-radius: 0.35em; vertical-align: middle; margin-left: 0.5rem\">GPE</span>\n",
       "</mark>\n",
       " 1.8 1.6 -0.6 -0.7 1.4 1.3 -0.3 -0.9 1.3 \n",
       "<mark class=\"entity\" style=\"background: #feca74; padding: 0.45em 0.6em; margin: 0 0.25em; line-height: 1; border-radius: 0.35em;\">\n",
       "    France\n",
       "    <span style=\"font-size: 0.8em; font-weight: bold; line-height: 1; border-radius: 0.35em; vertical-align: middle; margin-left: 0.5rem\">GPE</span>\n",
       "</mark>\n",
       " 2.5 2.5 0.1 0.4 1.3 1.3 0.3 -0.1 1.1 \n",
       "<mark class=\"entity\" style=\"background: #feca74; padding: 0.45em 0.6em; margin: 0 0.25em; line-height: 1; border-radius: 0.35em;\">\n",
       "    Italy\n",
       "    <span style=\"font-size: 0.8em; font-weight: bold; line-height: 1; border-radius: 0.35em; vertical-align: middle; margin-left: 0.5rem\">GPE</span>\n",
       "</mark>\n",
       " 3.8 3.5 -0.1 -0.1 1.3 1.2 -0.1 -0.7 0.8 \n",
       "<mark class=\"entity\" style=\"background: #feca74; padding: 0.45em 0.6em; margin: 0 0.25em; line-height: 1; border-radius: 0.35em;\">\n",
       "    Spain\n",
       "    <span style=\"font-size: 0.8em; font-weight: bold; line-height: 1; border-radius: 0.35em; vertical-align: middle; margin-left: 0.5rem\">GPE</span>\n",
       "</mark>\n",
       " 4.6 4.5 0.6 1.0 2.1 2.0 0.6 0.2 1.3 1.5 1.6 1.3 1.4 1.4 1.1 1.1 1.5 0.8 4.4 4.2 -1.2 -0.5 0.9 1.1 -0.8 -1.6 1.4 3.2 3.3 0.9 0.6 1.4 1.7 0.8 0.7 1.6 3.0 3.3 4.5 4.8 5.3 4.9 5.5 4.2 4.2 6.9 7.1 5.9 5.8 6.5 6.6 7.5 7.2 6.0 2.9 2.7 1.2 0.8 2.2 1.9 1.6 1.0 1.9 -3.3 -4.0 -1.3 -3.2 1.8 1.5 0.9 0.9 1.2 2.9 2.9 1.8 1.8 2.8 2.6 2.4 1.8 2.6 \n",
       "<mark class=\"entity\" style=\"background: #bfe1d9; padding: 0.45em 0.6em; margin: 0 0.25em; line-height: 1; border-radius: 0.35em;\">\n",
       "    Q4/Q4\n",
       "    <span style=\"font-size: 0.8em; font-weight: bold; line-height: 1; border-radius: 0.35em; vertical-align: middle; margin-left: 0.5rem\">DATE</span>\n",
       "</mark>\n",
       " Next \n",
       "<mark class=\"entity\" style=\"background: #e4e7d2; padding: 0.45em 0.6em; margin: 0 0.25em; line-height: 1; border-radius: 0.35em;\">\n",
       "    4\n",
       "    <span style=\"font-size: 0.8em; font-weight: bold; line-height: 1; border-radius: 0.35em; vertical-align: middle; margin-left: 0.5rem\">CARDINAL</span>\n",
       "</mark>\n",
       " Quarters \n",
       "<mark class=\"entity\" style=\"background: #bfe1d9; padding: 0.45em 0.6em; margin: 0 0.25em; line-height: 1; border-radius: 0.35em;\">\n",
       "    2022Q4-2023Q3\n",
       "    <span style=\"font-size: 0.8em; font-weight: bold; line-height: 1; border-radius: 0.35em; vertical-align: middle; margin-left: 0.5rem\">DATE</span>\n",
       "</mark>\n",
       " GS \n",
       "<mark class=\"entity\" style=\"background: #bfe1d9; padding: 0.45em 0.6em; margin: 0 0.25em; line-height: 1; border-radius: 0.35em;\">\n",
       "    2022..\n",
       "    <span style=\"font-size: 0.8em; font-weight: bold; line-height: 1; border-radius: 0.35em; vertical-align: middle; margin-left: 0.5rem\">DATE</span>\n",
       "</mark>\n",
       " \n",
       "<mark class=\"entity\" style=\"background: #bfe1d9; padding: 0.45em 0.6em; margin: 0 0.25em; line-height: 1; border-radius: 0.35em;\">\n",
       "    2023\n",
       "    <span style=\"font-size: 0.8em; font-weight: bold; line-height: 1; border-radius: 0.35em; vertical-align: middle; margin-left: 0.5rem\">DATE</span>\n",
       "</mark>\n",
       ".. \n",
       "<mark class=\"entity\" style=\"background: #bfe1d9; padding: 0.45em 0.6em; margin: 0 0.25em; line-height: 1; border-radius: 0.35em;\">\n",
       "    2024\n",
       "    <span style=\"font-size: 0.8em; font-weight: bold; line-height: 1; border-radius: 0.35em; vertical-align: middle; margin-left: 0.5rem\">DATE</span>\n",
       "</mark>\n",
       ".. Annual Average Consensus Consensus Consensus \n",
       "<mark class=\"entity\" style=\"background: #bfe1d9; padding: 0.45em 0.6em; margin: 0 0.25em; line-height: 1; border-radius: 0.35em;\">\n",
       "    2023\n",
       "    <span style=\"font-size: 0.8em; font-weight: bold; line-height: 1; border-radius: 0.35em; vertical-align: middle; margin-left: 0.5rem\">DATE</span>\n",
       "</mark>\n",
       " GS \n",
       "<mark class=\"entity\" style=\"background: #feca74; padding: 0.45em 0.6em; margin: 0 0.25em; line-height: 1; border-radius: 0.35em;\">\n",
       "    Brazil\n",
       "    <span style=\"font-size: 0.8em; font-weight: bold; line-height: 1; border-radius: 0.35em; vertical-align: middle; margin-left: 0.5rem\">GPE</span>\n",
       "</mark>\n",
       " \n",
       "<mark class=\"entity\" style=\"background: #feca74; padding: 0.45em 0.6em; margin: 0 0.25em; line-height: 1; border-radius: 0.35em;\">\n",
       "    Russia\n",
       "    <span style=\"font-size: 0.8em; font-weight: bold; line-height: 1; border-radius: 0.35em; vertical-align: middle; margin-left: 0.5rem\">GPE</span>\n",
       "</mark>\n",
       " World Note: All forecasts calculated on \n",
       "<mark class=\"entity\" style=\"background: #bfe1d9; padding: 0.45em 0.6em; margin: 0 0.25em; line-height: 1; border-radius: 0.35em;\">\n",
       "    calendar year\n",
       "    <span style=\"font-size: 0.8em; font-weight: bold; line-height: 1; border-radius: 0.35em; vertical-align: middle; margin-left: 0.5rem\">DATE</span>\n",
       "</mark>\n",
       " basis. \n",
       "<mark class=\"entity\" style=\"background: #bfe1d9; padding: 0.45em 0.6em; margin: 0 0.25em; line-height: 1; border-radius: 0.35em;\">\n",
       "    2022-2024\n",
       "    <span style=\"font-size: 0.8em; font-weight: bold; line-height: 1; border-radius: 0.35em; vertical-align: middle; margin-left: 0.5rem\">DATE</span>\n",
       "</mark>\n",
       " are GS forecasts. Potential growth is the median of GS estimates for \n",
       "<mark class=\"entity\" style=\"background: #bfe1d9; padding: 0.45em 0.6em; margin: 0 0.25em; line-height: 1; border-radius: 0.35em;\">\n",
       "    2023-25\n",
       "    <span style=\"font-size: 0.8em; font-weight: bold; line-height: 1; border-radius: 0.35em; vertical-align: middle; margin-left: 0.5rem\">DATE</span>\n",
       "</mark>\n",
       " for the \n",
       "<mark class=\"entity\" style=\"background: #feca74; padding: 0.45em 0.6em; margin: 0 0.25em; line-height: 1; border-radius: 0.35em;\">\n",
       "    US\n",
       "    <span style=\"font-size: 0.8em; font-weight: bold; line-height: 1; border-radius: 0.35em; vertical-align: middle; margin-left: 0.5rem\">GPE</span>\n",
       "</mark>\n",
       ", \n",
       "<mark class=\"entity\" style=\"background: #feca74; padding: 0.45em 0.6em; margin: 0 0.25em; line-height: 1; border-radius: 0.35em;\">\n",
       "    Japan\n",
       "    <span style=\"font-size: 0.8em; font-weight: bold; line-height: 1; border-radius: 0.35em; vertical-align: middle; margin-left: 0.5rem\">GPE</span>\n",
       "</mark>\n",
       " and \n",
       "<mark class=\"entity\" style=\"background: #feca74; padding: 0.45em 0.6em; margin: 0 0.25em; line-height: 1; border-radius: 0.35em;\">\n",
       "    Canada\n",
       "    <span style=\"font-size: 0.8em; font-weight: bold; line-height: 1; border-radius: 0.35em; vertical-align: middle; margin-left: 0.5rem\">GPE</span>\n",
       "</mark>\n",
       ", our long-run estimate for the \n",
       "<mark class=\"entity\" style=\"background: #c887fb; padding: 0.45em 0.6em; margin: 0 0.25em; line-height: 1; border-radius: 0.35em;\">\n",
       "    European\n",
       "    <span style=\"font-size: 0.8em; font-weight: bold; line-height: 1; border-radius: 0.35em; vertical-align: middle; margin-left: 0.5rem\">NORP</span>\n",
       "</mark>\n",
       " economies and \n",
       "<mark class=\"entity\" style=\"background: #bfe1d9; padding: 0.45em 0.6em; margin: 0 0.25em; line-height: 1; border-radius: 0.35em;\">\n",
       "    2023\n",
       "    <span style=\"font-size: 0.8em; font-weight: bold; line-height: 1; border-radius: 0.35em; vertical-align: middle; margin-left: 0.5rem\">DATE</span>\n",
       "</mark>\n",
       " for THEM economies. \n",
       "<mark class=\"entity\" style=\"background: #7aecec; padding: 0.45em 0.6em; margin: 0 0.25em; line-height: 1; border-radius: 0.35em;\">\n",
       "    IMF\n",
       "    <span style=\"font-size: 0.8em; font-weight: bold; line-height: 1; border-radius: 0.35em; vertical-align: middle; margin-left: 0.5rem\">ORG</span>\n",
       "</mark>\n",
       " forecasts used for \n",
       "<mark class=\"entity\" style=\"background: #feca74; padding: 0.45em 0.6em; margin: 0 0.25em; line-height: 1; border-radius: 0.35em;\">\n",
       "    India\n",
       "    <span style=\"font-size: 0.8em; font-weight: bold; line-height: 1; border-radius: 0.35em; vertical-align: middle; margin-left: 0.5rem\">GPE</span>\n",
       "</mark>\n",
       " \n",
       "<mark class=\"entity\" style=\"background: #bfe1d9; padding: 0.45em 0.6em; margin: 0 0.25em; line-height: 1; border-radius: 0.35em;\">\n",
       "    2023\n",
       "    <span style=\"font-size: 0.8em; font-weight: bold; line-height: 1; border-radius: 0.35em; vertical-align: middle; margin-left: 0.5rem\">DATE</span>\n",
       "</mark>\n",
       " and \n",
       "<mark class=\"entity\" style=\"background: #bfe1d9; padding: 0.45em 0.6em; margin: 0 0.25em; line-height: 1; border-radius: 0.35em;\">\n",
       "    2024\n",
       "    <span style=\"font-size: 0.8em; font-weight: bold; line-height: 1; border-radius: 0.35em; vertical-align: middle; margin-left: 0.5rem\">DATE</span>\n",
       "</mark>\n",
       " consensus when \n",
       "<mark class=\"entity\" style=\"background: #bfe1d9; padding: 0.45em 0.6em; margin: 0 0.25em; line-height: 1; border-radius: 0.35em;\">\n",
       "    quarters\n",
       "    <span style=\"font-size: 0.8em; font-weight: bold; line-height: 1; border-radius: 0.35em; vertical-align: middle; margin-left: 0.5rem\">DATE</span>\n",
       "</mark>\n",
       " not available in \n",
       "<mark class=\"entity\" style=\"background: #7aecec; padding: 0.45em 0.6em; margin: 0 0.25em; line-height: 1; border-radius: 0.35em;\">\n",
       "    Bloomberg\n",
       "    <span style=\"font-size: 0.8em; font-weight: bold; line-height: 1; border-radius: 0.35em; vertical-align: middle; margin-left: 0.5rem\">ORG</span>\n",
       "</mark>\n",
       ". The global growth aggregates use market FX country weights. \n",
       "<mark class=\"entity\" style=\"background: #feca74; padding: 0.45em 0.6em; margin: 0 0.25em; line-height: 1; border-radius: 0.35em;\">\n",
       "    Canada\n",
       "    <span style=\"font-size: 0.8em; font-weight: bold; line-height: 1; border-radius: 0.35em; vertical-align: middle; margin-left: 0.5rem\">GPE</span>\n",
       "</mark>\n",
       " \n",
       "<mark class=\"entity\" style=\"background: #feca74; padding: 0.45em 0.6em; margin: 0 0.25em; line-height: 1; border-radius: 0.35em;\">\n",
       "    China\n",
       "    <span style=\"font-size: 0.8em; font-weight: bold; line-height: 1; border-radius: 0.35em; vertical-align: middle; margin-left: 0.5rem\">GPE</span>\n",
       "</mark>\n",
       " \n",
       "<mark class=\"entity\" style=\"background: #feca74; padding: 0.45em 0.6em; margin: 0 0.25em; line-height: 1; border-radius: 0.35em;\">\n",
       "    India\n",
       "    <span style=\"font-size: 0.8em; font-weight: bold; line-height: 1; border-radius: 0.35em; vertical-align: middle; margin-left: 0.5rem\">GPE</span>\n",
       "</mark>\n",
       " \n",
       "<mark class=\"entity\" style=\"background: #feca74; padding: 0.45em 0.6em; margin: 0 0.25em; line-height: 1; border-radius: 0.35em;\">\n",
       "    Japan\n",
       "    <span style=\"font-size: 0.8em; font-weight: bold; line-height: 1; border-radius: 0.35em; vertical-align: middle; margin-left: 0.5rem\">GPE</span>\n",
       "</mark>\n",
       " \n",
       "<mark class=\"entity\" style=\"background: #feca74; padding: 0.45em 0.6em; margin: 0 0.25em; line-height: 1; border-radius: 0.35em;\">\n",
       "    UK\n",
       "    <span style=\"font-size: 0.8em; font-weight: bold; line-height: 1; border-radius: 0.35em; vertical-align: middle; margin-left: 0.5rem\">GPE</span>\n",
       "</mark>\n",
       " \n",
       "<mark class=\"entity\" style=\"background: #feca74; padding: 0.45em 0.6em; margin: 0 0.25em; line-height: 1; border-radius: 0.35em;\">\n",
       "    US\n",
       "    <span style=\"font-size: 0.8em; font-weight: bold; line-height: 1; border-radius: 0.35em; vertical-align: middle; margin-left: 0.5rem\">GPE</span>\n",
       "</mark>\n",
       " Real GDP Growth Percent Change yoy \n",
       "<mark class=\"entity\" style=\"background: #feca74; padding: 0.45em 0.6em; margin: 0 0.25em; line-height: 1; border-radius: 0.35em;\">\n",
       "    Euro Area\n",
       "    <span style=\"font-size: 0.8em; font-weight: bold; line-height: 1; border-radius: 0.35em; vertical-align: middle; margin-left: 0.5rem\">GPE</span>\n",
       "</mark>\n",
       " Source: \n",
       "<mark class=\"entity\" style=\"background: #7aecec; padding: 0.45em 0.6em; margin: 0 0.25em; line-height: 1; border-radius: 0.35em;\">\n",
       "    Bloomberg\n",
       "    <span style=\"font-size: 0.8em; font-weight: bold; line-height: 1; border-radius: 0.35em; vertical-align: middle; margin-left: 0.5rem\">ORG</span>\n",
       "</mark>\n",
       ", \n",
       "<mark class=\"entity\" style=\"background: #7aecec; padding: 0.45em 0.6em; margin: 0 0.25em; line-height: 1; border-radius: 0.35em;\">\n",
       "    Goldman Sachs Global Investment Research\n",
       "    <span style=\"font-size: 0.8em; font-weight: bold; line-height: 1; border-radius: 0.35em; vertical-align: middle; margin-left: 0.5rem\">ORG</span>\n",
       "</mark>\n",
       " \n",
       "<mark class=\"entity\" style=\"background: #bfe1d9; padding: 0.45em 0.6em; margin: 0 0.25em; line-height: 1; border-radius: 0.35em;\">\n",
       "    16 November 2022\n",
       "    <span style=\"font-size: 0.8em; font-weight: bold; line-height: 1; border-radius: 0.35em; vertical-align: middle; margin-left: 0.5rem\">DATE</span>\n",
       "</mark>\n",
       " 2 \n",
       "<mark class=\"entity\" style=\"background: #7aecec; padding: 0.45em 0.6em; margin: 0 0.25em; line-height: 1; border-radius: 0.35em;\">\n",
       "    Goldman Sachs\n",
       "    <span style=\"font-size: 0.8em; font-weight: bold; line-height: 1; border-radius: 0.35em; vertical-align: middle; margin-left: 0.5rem\">ORG</span>\n",
       "</mark>\n",
       " Global Economics Analyst</div></span>"
      ],
      "text/plain": [
       "<IPython.core.display.HTML object>"
      ]
     },
     "metadata": {},
     "output_type": "display_data"
    },
    {
     "name": "stdout",
     "output_type": "stream",
     "text": [
      "\n"
     ]
    }
   ],
   "source": [
    "relevant_entity_types = list(set(entity_types) - set(['WORD OF ART', 'ORDINAL']))\n",
    "\n",
    "for i in range(2):\n",
    "    print(f\"- Page #{i}\")\n",
    "    sent = docs[i]\n",
    "    if len(sent.ents) > 0:\n",
    "        displacy.render(sent, style=\"ent\", jupyter=True, options={\"ents\":relevant_entity_types})\n",
    "    else:\n",
    "        print(sent)\n",
    "        print('No entity found')\n",
    "    print()"
   ]
  },
  {
   "cell_type": "markdown",
   "id": "0fac2712",
   "metadata": {
    "papermill": {
     "duration": 0.014062,
     "end_time": "2023-08-29T01:35:43.199330",
     "exception": false,
     "start_time": "2023-08-29T01:35:43.185268",
     "status": "completed"
    },
    "tags": []
   },
   "source": [
    "#### Entity Type Frequency"
   ]
  },
  {
   "cell_type": "code",
   "execution_count": 18,
   "id": "77717dfe",
   "metadata": {
    "execution": {
     "iopub.execute_input": "2023-08-29T01:35:43.232820Z",
     "iopub.status.busy": "2023-08-29T01:35:43.231853Z",
     "iopub.status.idle": "2023-08-29T01:35:43.770543Z",
     "shell.execute_reply": "2023-08-29T01:35:43.769234Z"
    },
    "papermill": {
     "duration": 0.558624,
     "end_time": "2023-08-29T01:35:43.774095",
     "exception": false,
     "start_time": "2023-08-29T01:35:43.215471",
     "status": "completed"
    },
    "tags": []
   },
   "outputs": [
    {
     "data": {
      "image/png": "[encoded data removed]",
      "text/plain": [
       "<Figure size 1000x600 with 1 Axes>"
      ]
     },
     "metadata": {},
     "output_type": "display_data"
    }
   ],
   "source": [
    "from collections import Counter\n",
    "\n",
    "# Process documents and extract entities\n",
    "all_entities = []\n",
    "for doc in docs:\n",
    "    entity_types = [ent.label_ for ent in doc.ents]\n",
    "    all_entities.extend(entity_types)\n",
    "\n",
    "# Count the occurrences of each entity\n",
    "entity_counts = Counter(all_entities)\n",
    "\n",
    "# Extract entity types and their counts\n",
    "entity_types = list(entity_counts.keys())\n",
    "entity_type_counts = list(entity_counts.values())\n",
    "\n",
    "# Create a bar plot of entity distribution\n",
    "plt.figure(figsize=(10, 6))\n",
    "plt.bar(entity_types, entity_type_counts)\n",
    "plt.xticks(rotation=45, ha=\"right\")\n",
    "plt.xlabel(\"Entity Types\")\n",
    "plt.ylabel(\"Count\")\n",
    "plt.title(\"Entity Type Frequency across Whole Document\")\n",
    "plt.tight_layout()\n",
    "plt.show()"
   ]
  },
  {
   "cell_type": "markdown",
   "id": "4d5282b3",
   "metadata": {
    "papermill": {
     "duration": 0.015652,
     "end_time": "2023-08-29T01:35:43.806023",
     "exception": false,
     "start_time": "2023-08-29T01:35:43.790371",
     "status": "completed"
    },
    "tags": []
   },
   "source": [
    "#### Most Frequent Entities"
   ]
  },
  {
   "cell_type": "code",
   "execution_count": 19,
   "id": "b5dba5f8",
   "metadata": {
    "execution": {
     "iopub.execute_input": "2023-08-29T01:35:43.840938Z",
     "iopub.status.busy": "2023-08-29T01:35:43.839765Z",
     "iopub.status.idle": "2023-08-29T01:35:46.102272Z",
     "shell.execute_reply": "2023-08-29T01:35:46.100985Z"
    },
    "papermill": {
     "duration": 2.283136,
     "end_time": "2023-08-29T01:35:46.104987",
     "exception": false,
     "start_time": "2023-08-29T01:35:43.821851",
     "status": "completed"
    },
    "tags": []
   },
   "outputs": [
    {
     "name": "stdout",
     "output_type": "stream",
     "text": [
      "- Entity Type: ORG\n",
      "[('Goldman Sachs', 48), ('Goldman Sachs Global Investment Research', 23), ('Haver Analytics', 13), ('Goldman Sachs & Co. LLC', 10), ('Fed', 9), ('Bloomberg', 9), ('ECB', 5), ('GS', 5), ('Goldman Sachs (Asia) L.L.C.', 4), ('Goldman Sachs International', 4)]\n",
      "\n"
     ]
    },
    {
     "data": {
      "text/html": [
       "        <script type=\"text/javascript\">\n",
       "        window.PlotlyConfig = {MathJaxConfig: 'local'};\n",
       "        if (window.MathJax && window.MathJax.Hub && window.MathJax.Hub.Config) {window.MathJax.Hub.Config({SVG: {font: \"STIX-Web\"}});}\n",
       "        if (typeof require !== 'undefined') {\n",
       "        require.undef(\"plotly\");\n",
       "        requirejs.config({\n",
       "            paths: {\n",
       "                'plotly': ['https://cdn.plot.ly/plotly-2.24.1.min']\n",
       "            }\n",
       "        });\n",
       "        require(['plotly'], function(Plotly) {\n",
       "            window._Plotly = Plotly;\n",
       "        });\n",
       "        }\n",
       "        </script>\n",
       "        "
      ]
     },
     "metadata": {},
     "output_type": "display_data"
    },
    {
     "data": {
      "text/html": [
       "<div>                            <div id=\"b27b0924-8974-45ba-b07c-256ae186bd9e\" class=\"plotly-graph-div\" style=\"height:525px; width:100%;\"></div>            <script type=\"text/javascript\">                require([\"plotly\"], function(Plotly) {                    window.PLOTLYENV=window.PLOTLYENV || {};                                    if (document.getElementById(\"b27b0924-8974-45ba-b07c-256ae186bd9e\")) {                    Plotly.newPlot(                        \"b27b0924-8974-45ba-b07c-256ae186bd9e\",                        [{\"alignmentgroup\":\"True\",\"hovertemplate\":\"Entities=%{x}\\u003cbr\\u003eCount=%{y}\\u003cextra\\u003e\\u003c\\u002fextra\\u003e\",\"legendgroup\":\"\",\"marker\":{\"color\":\"#636efa\",\"pattern\":{\"shape\":\"\"}},\"name\":\"\",\"offsetgroup\":\"\",\"orientation\":\"v\",\"showlegend\":false,\"textposition\":\"auto\",\"x\":[\"Goldman Sachs\",\"Goldman Sachs Global Investment Research\",\"Haver Analytics\",\"Goldman Sachs & Co. LLC\",\"Fed\",\"Bloomberg\",\"ECB\",\"GS\",\"Goldman Sachs (Asia) L.L.C.\",\"Goldman Sachs International\"],\"xaxis\":\"x\",\"y\":[48,23,13,10,9,9,5,5,4,4],\"yaxis\":\"y\",\"type\":\"bar\"}],                        {\"template\":{\"data\":{\"histogram2dcontour\":[{\"type\":\"histogram2dcontour\",\"colorbar\":{\"outlinewidth\":0,\"ticks\":\"\"},\"colorscale\":[[0.0,\"#0d0887\"],[0.1111111111111111,\"#46039f\"],[0.2222222222222222,\"#7201a8\"],[0.3333333333333333,\"#9c179e\"],[0.4444444444444444,\"#bd3786\"],[0.5555555555555556,\"#d8576b\"],[0.6666666666666666,\"#ed7953\"],[0.7777777777777778,\"#fb9f3a\"],[0.8888888888888888,\"#fdca26\"],[1.0,\"#f0f921\"]]}],\"choropleth\":[{\"type\":\"choropleth\",\"colorbar\":{\"outlinewidth\":0,\"ticks\":\"\"}}],\"histogram2d\":[{\"type\":\"histogram2d\",\"colorbar\":{\"outlinewidth\":0,\"ticks\":\"\"},\"colorscale\":[[0.0,\"#0d0887\"],[0.1111111111111111,\"#46039f\"],[0.2222222222222222,\"#7201a8\"],[0.3333333333333333,\"#9c179e\"],[0.4444444444444444,\"#bd3786\"],[0.5555555555555556,\"#d8576b\"],[0.6666666666666666,\"#ed7953\"],[0.7777777777777778,\"#fb9f3a\"],[0.8888888888888888,\"#fdca26\"],[1.0,\"#f0f921\"]]}],\"heatmap\":[{\"type\":\"heatmap\",\"colorbar\":{\"outlinewidth\":0,\"ticks\":\"\"},\"colorscale\":[[0.0,\"#0d0887\"],[0.1111111111111111,\"#46039f\"],[0.2222222222222222,\"#7201a8\"],[0.3333333333333333,\"#9c179e\"],[0.4444444444444444,\"#bd3786\"],[0.5555555555555556,\"#d8576b\"],[0.6666666666666666,\"#ed7953\"],[0.7777777777777778,\"#fb9f3a\"],[0.8888888888888888,\"#fdca26\"],[1.0,\"#f0f921\"]]}],\"heatmapgl\":[{\"type\":\"heatmapgl\",\"colorbar\":{\"outlinewidth\":0,\"ticks\":\"\"},\"colorscale\":[[0.0,\"#0d0887\"],[0.1111111111111111,\"#46039f\"],[0.2222222222222222,\"#7201a8\"],[0.3333333333333333,\"#9c179e\"],[0.4444444444444444,\"#bd3786\"],[0.5555555555555556,\"#d8576b\"],[0.6666666666666666,\"#ed7953\"],[0.7777777777777778,\"#fb9f3a\"],[0.8888888888888888,\"#fdca26\"],[1.0,\"#f0f921\"]]}],\"contourcarpet\":[{\"type\":\"contourcarpet\",\"colorbar\":{\"outlinewidth\":0,\"ticks\":\"\"}}],\"contour\":[{\"type\":\"contour\",\"colorbar\":{\"outlinewidth\":0,\"ticks\":\"\"},\"colorscale\":[[0.0,\"#0d0887\"],[0.1111111111111111,\"#46039f\"],[0.2222222222222222,\"#7201a8\"],[0.3333333333333333,\"#9c179e\"],[0.4444444444444444,\"#bd3786\"],[0.5555555555555556,\"#d8576b\"],[0.6666666666666666,\"#ed7953\"],[0.7777777777777778,\"#fb9f3a\"],[0.8888888888888888,\"#fdca26\"],[1.0,\"#f0f921\"]]}],\"surface\":[{\"type\":\"surface\",\"colorbar\":{\"outlinewidth\":0,\"ticks\":\"\"},\"colorscale\":[[0.0,\"#0d0887\"],[0.1111111111111111,\"#46039f\"],[0.2222222222222222,\"#7201a8\"],[0.3333333333333333,\"#9c179e\"],[0.4444444444444444,\"#bd3786\"],[0.5555555555555556,\"#d8576b\"],[0.6666666666666666,\"#ed7953\"],[0.7777777777777778,\"#fb9f3a\"],[0.8888888888888888,\"#fdca26\"],[1.0,\"#f0f921\"]]}],\"mesh3d\":[{\"type\":\"mesh3d\",\"colorbar\":{\"outlinewidth\":0,\"ticks\":\"\"}}],\"scatter\":[{\"fillpattern\":{\"fillmode\":\"overlay\",\"size\":10,\"solidity\":0.2},\"type\":\"scatter\"}],\"parcoords\":[{\"type\":\"parcoords\",\"line\":{\"colorbar\":{\"outlinewidth\":0,\"ticks\":\"\"}}}],\"scatterpolargl\":[{\"type\":\"scatterpolargl\",\"marker\":{\"colorbar\":{\"outlinewidth\":0,\"ticks\":\"\"}}}],\"bar\":[{\"error_x\":{\"color\":\"#2a3f5f\"},\"error_y\":{\"color\":\"#2a3f5f\"},\"marker\":{\"line\":{\"color\":\"#E5ECF6\",\"width\":0.5},\"pattern\":{\"fillmode\":\"overlay\",\"size\":10,\"solidity\":0.2}},\"type\":\"bar\"}],\"scattergeo\":[{\"type\":\"scattergeo\",\"marker\":{\"colorbar\":{\"outlinewidth\":0,\"ticks\":\"\"}}}],\"scatterpolar\":[{\"type\":\"scatterpolar\",\"marker\":{\"colorbar\":{\"outlinewidth\":0,\"ticks\":\"\"}}}],\"histogram\":[{\"marker\":{\"pattern\":{\"fillmode\":\"overlay\",\"size\":10,\"solidity\":0.2}},\"type\":\"histogram\"}],\"scattergl\":[{\"type\":\"scattergl\",\"marker\":{\"colorbar\":{\"outlinewidth\":0,\"ticks\":\"\"}}}],\"scatter3d\":[{\"type\":\"scatter3d\",\"line\":{\"colorbar\":{\"outlinewidth\":0,\"ticks\":\"\"}},\"marker\":{\"colorbar\":{\"outlinewidth\":0,\"ticks\":\"\"}}}],\"scattermapbox\":[{\"type\":\"scattermapbox\",\"marker\":{\"colorbar\":{\"outlinewidth\":0,\"ticks\":\"\"}}}],\"scatterternary\":[{\"type\":\"scatterternary\",\"marker\":{\"colorbar\":{\"outlinewidth\":0,\"ticks\":\"\"}}}],\"scattercarpet\":[{\"type\":\"scattercarpet\",\"marker\":{\"colorbar\":{\"outlinewidth\":0,\"ticks\":\"\"}}}],\"carpet\":[{\"aaxis\":{\"endlinecolor\":\"#2a3f5f\",\"gridcolor\":\"white\",\"linecolor\":\"white\",\"minorgridcolor\":\"white\",\"startlinecolor\":\"#2a3f5f\"},\"baxis\":{\"endlinecolor\":\"#2a3f5f\",\"gridcolor\":\"white\",\"linecolor\":\"white\",\"minorgridcolor\":\"white\",\"startlinecolor\":\"#2a3f5f\"},\"type\":\"carpet\"}],\"table\":[{\"cells\":{\"fill\":{\"color\":\"#EBF0F8\"},\"line\":{\"color\":\"white\"}},\"header\":{\"fill\":{\"color\":\"#C8D4E3\"},\"line\":{\"color\":\"white\"}},\"type\":\"table\"}],\"barpolar\":[{\"marker\":{\"line\":{\"color\":\"#E5ECF6\",\"width\":0.5},\"pattern\":{\"fillmode\":\"overlay\",\"size\":10,\"solidity\":0.2}},\"type\":\"barpolar\"}],\"pie\":[{\"automargin\":true,\"type\":\"pie\"}]},\"layout\":{\"autotypenumbers\":\"strict\",\"colorway\":[\"#636efa\",\"#EF553B\",\"#00cc96\",\"#ab63fa\",\"#FFA15A\",\"#19d3f3\",\"#FF6692\",\"#B6E880\",\"#FF97FF\",\"#FECB52\"],\"font\":{\"color\":\"#2a3f5f\"},\"hovermode\":\"closest\",\"hoverlabel\":{\"align\":\"left\"},\"paper_bgcolor\":\"white\",\"plot_bgcolor\":\"#E5ECF6\",\"polar\":{\"bgcolor\":\"#E5ECF6\",\"angularaxis\":{\"gridcolor\":\"white\",\"linecolor\":\"white\",\"ticks\":\"\"},\"radialaxis\":{\"gridcolor\":\"white\",\"linecolor\":\"white\",\"ticks\":\"\"}},\"ternary\":{\"bgcolor\":\"#E5ECF6\",\"aaxis\":{\"gridcolor\":\"white\",\"linecolor\":\"white\",\"ticks\":\"\"},\"baxis\":{\"gridcolor\":\"white\",\"linecolor\":\"white\",\"ticks\":\"\"},\"caxis\":{\"gridcolor\":\"white\",\"linecolor\":\"white\",\"ticks\":\"\"}},\"coloraxis\":{\"colorbar\":{\"outlinewidth\":0,\"ticks\":\"\"}},\"colorscale\":{\"sequential\":[[0.0,\"#0d0887\"],[0.1111111111111111,\"#46039f\"],[0.2222222222222222,\"#7201a8\"],[0.3333333333333333,\"#9c179e\"],[0.4444444444444444,\"#bd3786\"],[0.5555555555555556,\"#d8576b\"],[0.6666666666666666,\"#ed7953\"],[0.7777777777777778,\"#fb9f3a\"],[0.8888888888888888,\"#fdca26\"],[1.0,\"#f0f921\"]],\"sequentialminus\":[[0.0,\"#0d0887\"],[0.1111111111111111,\"#46039f\"],[0.2222222222222222,\"#7201a8\"],[0.3333333333333333,\"#9c179e\"],[0.4444444444444444,\"#bd3786\"],[0.5555555555555556,\"#d8576b\"],[0.6666666666666666,\"#ed7953\"],[0.7777777777777778,\"#fb9f3a\"],[0.8888888888888888,\"#fdca26\"],[1.0,\"#f0f921\"]],\"diverging\":[[0,\"#8e0152\"],[0.1,\"#c51b7d\"],[0.2,\"#de77ae\"],[0.3,\"#f1b6da\"],[0.4,\"#fde0ef\"],[0.5,\"#f7f7f7\"],[0.6,\"#e6f5d0\"],[0.7,\"#b8e186\"],[0.8,\"#7fbc41\"],[0.9,\"#4d9221\"],[1,\"#276419\"]]},\"xaxis\":{\"gridcolor\":\"white\",\"linecolor\":\"white\",\"ticks\":\"\",\"title\":{\"standoff\":15},\"zerolinecolor\":\"white\",\"automargin\":true,\"zerolinewidth\":2},\"yaxis\":{\"gridcolor\":\"white\",\"linecolor\":\"white\",\"ticks\":\"\",\"title\":{\"standoff\":15},\"zerolinecolor\":\"white\",\"automargin\":true,\"zerolinewidth\":2},\"scene\":{\"xaxis\":{\"backgroundcolor\":\"#E5ECF6\",\"gridcolor\":\"white\",\"linecolor\":\"white\",\"showbackground\":true,\"ticks\":\"\",\"zerolinecolor\":\"white\",\"gridwidth\":2},\"yaxis\":{\"backgroundcolor\":\"#E5ECF6\",\"gridcolor\":\"white\",\"linecolor\":\"white\",\"showbackground\":true,\"ticks\":\"\",\"zerolinecolor\":\"white\",\"gridwidth\":2},\"zaxis\":{\"backgroundcolor\":\"#E5ECF6\",\"gridcolor\":\"white\",\"linecolor\":\"white\",\"showbackground\":true,\"ticks\":\"\",\"zerolinecolor\":\"white\",\"gridwidth\":2}},\"shapedefaults\":{\"line\":{\"color\":\"#2a3f5f\"}},\"annotationdefaults\":{\"arrowcolor\":\"#2a3f5f\",\"arrowhead\":0,\"arrowwidth\":1},\"geo\":{\"bgcolor\":\"white\",\"landcolor\":\"#E5ECF6\",\"subunitcolor\":\"white\",\"showland\":true,\"showlakes\":true,\"lakecolor\":\"white\"},\"title\":{\"x\":0.05},\"mapbox\":{\"style\":\"light\"}}},\"xaxis\":{\"anchor\":\"y\",\"domain\":[0.0,1.0],\"title\":{\"text\":\"Entities\"},\"tickangle\":-45},\"yaxis\":{\"anchor\":\"x\",\"domain\":[0.0,1.0],\"title\":{\"text\":\"Count\"}},\"legend\":{\"tracegroupgap\":0},\"title\":{\"text\":\"Top Frequent Entity for Type 'ORG'\"},\"barmode\":\"relative\"},                        {\"responsive\": true}                    ).then(function(){\n",
       "                            \n",
       "var gd = document.getElementById('b27b0924-8974-45ba-b07c-256ae186bd9e');\n",
       "var x = new MutationObserver(function (mutations, observer) {{\n",
       "        var display = window.getComputedStyle(gd).display;\n",
       "        if (!display || display === 'none') {{\n",
       "            console.log([gd, 'removed!']);\n",
       "            Plotly.purge(gd);\n",
       "            observer.disconnect();\n",
       "        }}\n",
       "}});\n",
       "\n",
       "// Listen for the removal of the full notebook cells\n",
       "var notebookContainer = gd.closest('#notebook-container');\n",
       "if (notebookContainer) {{\n",
       "    x.observe(notebookContainer, {childList: true});\n",
       "}}\n",
       "\n",
       "// Listen for the clearing of the current output cell\n",
       "var outputEl = gd.closest('.output');\n",
       "if (outputEl) {{\n",
       "    x.observe(outputEl, {childList: true});\n",
       "}}\n",
       "\n",
       "                        })                };                });            </script>        </div>"
      ]
     },
     "metadata": {},
     "output_type": "display_data"
    },
    {
     "name": "stdout",
     "output_type": "stream",
     "text": [
      "- Entity Type: GPE\n",
      "[('US', 41), ('China', 23), ('UK', 12), ('Brazil', 11), ('Canada', 8), ('Russia', 6), ('Japan', 6), ('Hong Kong', 6), ('Australia', 6), ('India', 5)]\n",
      "\n"
     ]
    },
    {
     "data": {
      "text/html": [
       "<div>                            <div id=\"edd1baeb-f204-4aea-a195-051cfbab8ac5\" class=\"plotly-graph-div\" style=\"height:525px; width:100%;\"></div>            <script type=\"text/javascript\">                require([\"plotly\"], function(Plotly) {                    window.PLOTLYENV=window.PLOTLYENV || {};                                    if (document.getElementById(\"edd1baeb-f204-4aea-a195-051cfbab8ac5\")) {                    Plotly.newPlot(                        \"edd1baeb-f204-4aea-a195-051cfbab8ac5\",                        [{\"alignmentgroup\":\"True\",\"hovertemplate\":\"Entities=%{x}\\u003cbr\\u003eCount=%{y}\\u003cextra\\u003e\\u003c\\u002fextra\\u003e\",\"legendgroup\":\"\",\"marker\":{\"color\":\"#636efa\",\"pattern\":{\"shape\":\"\"}},\"name\":\"\",\"offsetgroup\":\"\",\"orientation\":\"v\",\"showlegend\":false,\"textposition\":\"auto\",\"x\":[\"US\",\"China\",\"UK\",\"Brazil\",\"Canada\",\"Russia\",\"Japan\",\"Hong Kong\",\"Australia\",\"India\"],\"xaxis\":\"x\",\"y\":[41,23,12,11,8,6,6,6,6,5],\"yaxis\":\"y\",\"type\":\"bar\"}],                        {\"template\":{\"data\":{\"histogram2dcontour\":[{\"type\":\"histogram2dcontour\",\"colorbar\":{\"outlinewidth\":0,\"ticks\":\"\"},\"colorscale\":[[0.0,\"#0d0887\"],[0.1111111111111111,\"#46039f\"],[0.2222222222222222,\"#7201a8\"],[0.3333333333333333,\"#9c179e\"],[0.4444444444444444,\"#bd3786\"],[0.5555555555555556,\"#d8576b\"],[0.6666666666666666,\"#ed7953\"],[0.7777777777777778,\"#fb9f3a\"],[0.8888888888888888,\"#fdca26\"],[1.0,\"#f0f921\"]]}],\"choropleth\":[{\"type\":\"choropleth\",\"colorbar\":{\"outlinewidth\":0,\"ticks\":\"\"}}],\"histogram2d\":[{\"type\":\"histogram2d\",\"colorbar\":{\"outlinewidth\":0,\"ticks\":\"\"},\"colorscale\":[[0.0,\"#0d0887\"],[0.1111111111111111,\"#46039f\"],[0.2222222222222222,\"#7201a8\"],[0.3333333333333333,\"#9c179e\"],[0.4444444444444444,\"#bd3786\"],[0.5555555555555556,\"#d8576b\"],[0.6666666666666666,\"#ed7953\"],[0.7777777777777778,\"#fb9f3a\"],[0.8888888888888888,\"#fdca26\"],[1.0,\"#f0f921\"]]}],\"heatmap\":[{\"type\":\"heatmap\",\"colorbar\":{\"outlinewidth\":0,\"ticks\":\"\"},\"colorscale\":[[0.0,\"#0d0887\"],[0.1111111111111111,\"#46039f\"],[0.2222222222222222,\"#7201a8\"],[0.3333333333333333,\"#9c179e\"],[0.4444444444444444,\"#bd3786\"],[0.5555555555555556,\"#d8576b\"],[0.6666666666666666,\"#ed7953\"],[0.7777777777777778,\"#fb9f3a\"],[0.8888888888888888,\"#fdca26\"],[1.0,\"#f0f921\"]]}],\"heatmapgl\":[{\"type\":\"heatmapgl\",\"colorbar\":{\"outlinewidth\":0,\"ticks\":\"\"},\"colorscale\":[[0.0,\"#0d0887\"],[0.1111111111111111,\"#46039f\"],[0.2222222222222222,\"#7201a8\"],[0.3333333333333333,\"#9c179e\"],[0.4444444444444444,\"#bd3786\"],[0.5555555555555556,\"#d8576b\"],[0.6666666666666666,\"#ed7953\"],[0.7777777777777778,\"#fb9f3a\"],[0.8888888888888888,\"#fdca26\"],[1.0,\"#f0f921\"]]}],\"contourcarpet\":[{\"type\":\"contourcarpet\",\"colorbar\":{\"outlinewidth\":0,\"ticks\":\"\"}}],\"contour\":[{\"type\":\"contour\",\"colorbar\":{\"outlinewidth\":0,\"ticks\":\"\"},\"colorscale\":[[0.0,\"#0d0887\"],[0.1111111111111111,\"#46039f\"],[0.2222222222222222,\"#7201a8\"],[0.3333333333333333,\"#9c179e\"],[0.4444444444444444,\"#bd3786\"],[0.5555555555555556,\"#d8576b\"],[0.6666666666666666,\"#ed7953\"],[0.7777777777777778,\"#fb9f3a\"],[0.8888888888888888,\"#fdca26\"],[1.0,\"#f0f921\"]]}],\"surface\":[{\"type\":\"surface\",\"colorbar\":{\"outlinewidth\":0,\"ticks\":\"\"},\"colorscale\":[[0.0,\"#0d0887\"],[0.1111111111111111,\"#46039f\"],[0.2222222222222222,\"#7201a8\"],[0.3333333333333333,\"#9c179e\"],[0.4444444444444444,\"#bd3786\"],[0.5555555555555556,\"#d8576b\"],[0.6666666666666666,\"#ed7953\"],[0.7777777777777778,\"#fb9f3a\"],[0.8888888888888888,\"#fdca26\"],[1.0,\"#f0f921\"]]}],\"mesh3d\":[{\"type\":\"mesh3d\",\"colorbar\":{\"outlinewidth\":0,\"ticks\":\"\"}}],\"scatter\":[{\"fillpattern\":{\"fillmode\":\"overlay\",\"size\":10,\"solidity\":0.2},\"type\":\"scatter\"}],\"parcoords\":[{\"type\":\"parcoords\",\"line\":{\"colorbar\":{\"outlinewidth\":0,\"ticks\":\"\"}}}],\"scatterpolargl\":[{\"type\":\"scatterpolargl\",\"marker\":{\"colorbar\":{\"outlinewidth\":0,\"ticks\":\"\"}}}],\"bar\":[{\"error_x\":{\"color\":\"#2a3f5f\"},\"error_y\":{\"color\":\"#2a3f5f\"},\"marker\":{\"line\":{\"color\":\"#E5ECF6\",\"width\":0.5},\"pattern\":{\"fillmode\":\"overlay\",\"size\":10,\"solidity\":0.2}},\"type\":\"bar\"}],\"scattergeo\":[{\"type\":\"scattergeo\",\"marker\":{\"colorbar\":{\"outlinewidth\":0,\"ticks\":\"\"}}}],\"scatterpolar\":[{\"type\":\"scatterpolar\",\"marker\":{\"colorbar\":{\"outlinewidth\":0,\"ticks\":\"\"}}}],\"histogram\":[{\"marker\":{\"pattern\":{\"fillmode\":\"overlay\",\"size\":10,\"solidity\":0.2}},\"type\":\"histogram\"}],\"scattergl\":[{\"type\":\"scattergl\",\"marker\":{\"colorbar\":{\"outlinewidth\":0,\"ticks\":\"\"}}}],\"scatter3d\":[{\"type\":\"scatter3d\",\"line\":{\"colorbar\":{\"outlinewidth\":0,\"ticks\":\"\"}},\"marker\":{\"colorbar\":{\"outlinewidth\":0,\"ticks\":\"\"}}}],\"scattermapbox\":[{\"type\":\"scattermapbox\",\"marker\":{\"colorbar\":{\"outlinewidth\":0,\"ticks\":\"\"}}}],\"scatterternary\":[{\"type\":\"scatterternary\",\"marker\":{\"colorbar\":{\"outlinewidth\":0,\"ticks\":\"\"}}}],\"scattercarpet\":[{\"type\":\"scattercarpet\",\"marker\":{\"colorbar\":{\"outlinewidth\":0,\"ticks\":\"\"}}}],\"carpet\":[{\"aaxis\":{\"endlinecolor\":\"#2a3f5f\",\"gridcolor\":\"white\",\"linecolor\":\"white\",\"minorgridcolor\":\"white\",\"startlinecolor\":\"#2a3f5f\"},\"baxis\":{\"endlinecolor\":\"#2a3f5f\",\"gridcolor\":\"white\",\"linecolor\":\"white\",\"minorgridcolor\":\"white\",\"startlinecolor\":\"#2a3f5f\"},\"type\":\"carpet\"}],\"table\":[{\"cells\":{\"fill\":{\"color\":\"#EBF0F8\"},\"line\":{\"color\":\"white\"}},\"header\":{\"fill\":{\"color\":\"#C8D4E3\"},\"line\":{\"color\":\"white\"}},\"type\":\"table\"}],\"barpolar\":[{\"marker\":{\"line\":{\"color\":\"#E5ECF6\",\"width\":0.5},\"pattern\":{\"fillmode\":\"overlay\",\"size\":10,\"solidity\":0.2}},\"type\":\"barpolar\"}],\"pie\":[{\"automargin\":true,\"type\":\"pie\"}]},\"layout\":{\"autotypenumbers\":\"strict\",\"colorway\":[\"#636efa\",\"#EF553B\",\"#00cc96\",\"#ab63fa\",\"#FFA15A\",\"#19d3f3\",\"#FF6692\",\"#B6E880\",\"#FF97FF\",\"#FECB52\"],\"font\":{\"color\":\"#2a3f5f\"},\"hovermode\":\"closest\",\"hoverlabel\":{\"align\":\"left\"},\"paper_bgcolor\":\"white\",\"plot_bgcolor\":\"#E5ECF6\",\"polar\":{\"bgcolor\":\"#E5ECF6\",\"angularaxis\":{\"gridcolor\":\"white\",\"linecolor\":\"white\",\"ticks\":\"\"},\"radialaxis\":{\"gridcolor\":\"white\",\"linecolor\":\"white\",\"ticks\":\"\"}},\"ternary\":{\"bgcolor\":\"#E5ECF6\",\"aaxis\":{\"gridcolor\":\"white\",\"linecolor\":\"white\",\"ticks\":\"\"},\"baxis\":{\"gridcolor\":\"white\",\"linecolor\":\"white\",\"ticks\":\"\"},\"caxis\":{\"gridcolor\":\"white\",\"linecolor\":\"white\",\"ticks\":\"\"}},\"coloraxis\":{\"colorbar\":{\"outlinewidth\":0,\"ticks\":\"\"}},\"colorscale\":{\"sequential\":[[0.0,\"#0d0887\"],[0.1111111111111111,\"#46039f\"],[0.2222222222222222,\"#7201a8\"],[0.3333333333333333,\"#9c179e\"],[0.4444444444444444,\"#bd3786\"],[0.5555555555555556,\"#d8576b\"],[0.6666666666666666,\"#ed7953\"],[0.7777777777777778,\"#fb9f3a\"],[0.8888888888888888,\"#fdca26\"],[1.0,\"#f0f921\"]],\"sequentialminus\":[[0.0,\"#0d0887\"],[0.1111111111111111,\"#46039f\"],[0.2222222222222222,\"#7201a8\"],[0.3333333333333333,\"#9c179e\"],[0.4444444444444444,\"#bd3786\"],[0.5555555555555556,\"#d8576b\"],[0.6666666666666666,\"#ed7953\"],[0.7777777777777778,\"#fb9f3a\"],[0.8888888888888888,\"#fdca26\"],[1.0,\"#f0f921\"]],\"diverging\":[[0,\"#8e0152\"],[0.1,\"#c51b7d\"],[0.2,\"#de77ae\"],[0.3,\"#f1b6da\"],[0.4,\"#fde0ef\"],[0.5,\"#f7f7f7\"],[0.6,\"#e6f5d0\"],[0.7,\"#b8e186\"],[0.8,\"#7fbc41\"],[0.9,\"#4d9221\"],[1,\"#276419\"]]},\"xaxis\":{\"gridcolor\":\"white\",\"linecolor\":\"white\",\"ticks\":\"\",\"title\":{\"standoff\":15},\"zerolinecolor\":\"white\",\"automargin\":true,\"zerolinewidth\":2},\"yaxis\":{\"gridcolor\":\"white\",\"linecolor\":\"white\",\"ticks\":\"\",\"title\":{\"standoff\":15},\"zerolinecolor\":\"white\",\"automargin\":true,\"zerolinewidth\":2},\"scene\":{\"xaxis\":{\"backgroundcolor\":\"#E5ECF6\",\"gridcolor\":\"white\",\"linecolor\":\"white\",\"showbackground\":true,\"ticks\":\"\",\"zerolinecolor\":\"white\",\"gridwidth\":2},\"yaxis\":{\"backgroundcolor\":\"#E5ECF6\",\"gridcolor\":\"white\",\"linecolor\":\"white\",\"showbackground\":true,\"ticks\":\"\",\"zerolinecolor\":\"white\",\"gridwidth\":2},\"zaxis\":{\"backgroundcolor\":\"#E5ECF6\",\"gridcolor\":\"white\",\"linecolor\":\"white\",\"showbackground\":true,\"ticks\":\"\",\"zerolinecolor\":\"white\",\"gridwidth\":2}},\"shapedefaults\":{\"line\":{\"color\":\"#2a3f5f\"}},\"annotationdefaults\":{\"arrowcolor\":\"#2a3f5f\",\"arrowhead\":0,\"arrowwidth\":1},\"geo\":{\"bgcolor\":\"white\",\"landcolor\":\"#E5ECF6\",\"subunitcolor\":\"white\",\"showland\":true,\"showlakes\":true,\"lakecolor\":\"white\"},\"title\":{\"x\":0.05},\"mapbox\":{\"style\":\"light\"}}},\"xaxis\":{\"anchor\":\"y\",\"domain\":[0.0,1.0],\"title\":{\"text\":\"Entities\"},\"tickangle\":-45},\"yaxis\":{\"anchor\":\"x\",\"domain\":[0.0,1.0],\"title\":{\"text\":\"Count\"}},\"legend\":{\"tracegroupgap\":0},\"title\":{\"text\":\"Top Frequent Entity for Type 'GPE'\"},\"barmode\":\"relative\"},                        {\"responsive\": true}                    ).then(function(){\n",
       "                            \n",
       "var gd = document.getElementById('edd1baeb-f204-4aea-a195-051cfbab8ac5');\n",
       "var x = new MutationObserver(function (mutations, observer) {{\n",
       "        var display = window.getComputedStyle(gd).display;\n",
       "        if (!display || display === 'none') {{\n",
       "            console.log([gd, 'removed!']);\n",
       "            Plotly.purge(gd);\n",
       "            observer.disconnect();\n",
       "        }}\n",
       "}});\n",
       "\n",
       "// Listen for the removal of the full notebook cells\n",
       "var notebookContainer = gd.closest('#notebook-container');\n",
       "if (notebookContainer) {{\n",
       "    x.observe(notebookContainer, {childList: true});\n",
       "}}\n",
       "\n",
       "// Listen for the clearing of the current output cell\n",
       "var outputEl = gd.closest('.output');\n",
       "if (outputEl) {{\n",
       "    x.observe(outputEl, {childList: true});\n",
       "}}\n",
       "\n",
       "                        })                };                });            </script>        </div>"
      ]
     },
     "metadata": {},
     "output_type": "display_data"
    },
    {
     "name": "stdout",
     "output_type": "stream",
     "text": [
      "- Entity Type: NORP\n",
      "[('European', 9), ('Russian', 7), ('Canadian', 5), ('German', 3), ('Chinese', 2), ('Italian', 2), ('Non-YOU.S.', 2), ('Chinas', 1), ('East Asian', 1), ('Asian', 1)]\n",
      "\n"
     ]
    },
    {
     "data": {
      "text/html": [
       "<div>                            <div id=\"236eaa14-c1d3-41a7-b6ba-9982eecf8afa\" class=\"plotly-graph-div\" style=\"height:525px; width:100%;\"></div>            <script type=\"text/javascript\">                require([\"plotly\"], function(Plotly) {                    window.PLOTLYENV=window.PLOTLYENV || {};                                    if (document.getElementById(\"236eaa14-c1d3-41a7-b6ba-9982eecf8afa\")) {                    Plotly.newPlot(                        \"236eaa14-c1d3-41a7-b6ba-9982eecf8afa\",                        [{\"alignmentgroup\":\"True\",\"hovertemplate\":\"Entities=%{x}\\u003cbr\\u003eCount=%{y}\\u003cextra\\u003e\\u003c\\u002fextra\\u003e\",\"legendgroup\":\"\",\"marker\":{\"color\":\"#636efa\",\"pattern\":{\"shape\":\"\"}},\"name\":\"\",\"offsetgroup\":\"\",\"orientation\":\"v\",\"showlegend\":false,\"textposition\":\"auto\",\"x\":[\"European\",\"Russian\",\"Canadian\",\"German\",\"Chinese\",\"Italian\",\"Non-YOU.S.\",\"Chinas\",\"East Asian\",\"Asian\"],\"xaxis\":\"x\",\"y\":[9,7,5,3,2,2,2,1,1,1],\"yaxis\":\"y\",\"type\":\"bar\"}],                        {\"template\":{\"data\":{\"histogram2dcontour\":[{\"type\":\"histogram2dcontour\",\"colorbar\":{\"outlinewidth\":0,\"ticks\":\"\"},\"colorscale\":[[0.0,\"#0d0887\"],[0.1111111111111111,\"#46039f\"],[0.2222222222222222,\"#7201a8\"],[0.3333333333333333,\"#9c179e\"],[0.4444444444444444,\"#bd3786\"],[0.5555555555555556,\"#d8576b\"],[0.6666666666666666,\"#ed7953\"],[0.7777777777777778,\"#fb9f3a\"],[0.8888888888888888,\"#fdca26\"],[1.0,\"#f0f921\"]]}],\"choropleth\":[{\"type\":\"choropleth\",\"colorbar\":{\"outlinewidth\":0,\"ticks\":\"\"}}],\"histogram2d\":[{\"type\":\"histogram2d\",\"colorbar\":{\"outlinewidth\":0,\"ticks\":\"\"},\"colorscale\":[[0.0,\"#0d0887\"],[0.1111111111111111,\"#46039f\"],[0.2222222222222222,\"#7201a8\"],[0.3333333333333333,\"#9c179e\"],[0.4444444444444444,\"#bd3786\"],[0.5555555555555556,\"#d8576b\"],[0.6666666666666666,\"#ed7953\"],[0.7777777777777778,\"#fb9f3a\"],[0.8888888888888888,\"#fdca26\"],[1.0,\"#f0f921\"]]}],\"heatmap\":[{\"type\":\"heatmap\",\"colorbar\":{\"outlinewidth\":0,\"ticks\":\"\"},\"colorscale\":[[0.0,\"#0d0887\"],[0.1111111111111111,\"#46039f\"],[0.2222222222222222,\"#7201a8\"],[0.3333333333333333,\"#9c179e\"],[0.4444444444444444,\"#bd3786\"],[0.5555555555555556,\"#d8576b\"],[0.6666666666666666,\"#ed7953\"],[0.7777777777777778,\"#fb9f3a\"],[0.8888888888888888,\"#fdca26\"],[1.0,\"#f0f921\"]]}],\"heatmapgl\":[{\"type\":\"heatmapgl\",\"colorbar\":{\"outlinewidth\":0,\"ticks\":\"\"},\"colorscale\":[[0.0,\"#0d0887\"],[0.1111111111111111,\"#46039f\"],[0.2222222222222222,\"#7201a8\"],[0.3333333333333333,\"#9c179e\"],[0.4444444444444444,\"#bd3786\"],[0.5555555555555556,\"#d8576b\"],[0.6666666666666666,\"#ed7953\"],[0.7777777777777778,\"#fb9f3a\"],[0.8888888888888888,\"#fdca26\"],[1.0,\"#f0f921\"]]}],\"contourcarpet\":[{\"type\":\"contourcarpet\",\"colorbar\":{\"outlinewidth\":0,\"ticks\":\"\"}}],\"contour\":[{\"type\":\"contour\",\"colorbar\":{\"outlinewidth\":0,\"ticks\":\"\"},\"colorscale\":[[0.0,\"#0d0887\"],[0.1111111111111111,\"#46039f\"],[0.2222222222222222,\"#7201a8\"],[0.3333333333333333,\"#9c179e\"],[0.4444444444444444,\"#bd3786\"],[0.5555555555555556,\"#d8576b\"],[0.6666666666666666,\"#ed7953\"],[0.7777777777777778,\"#fb9f3a\"],[0.8888888888888888,\"#fdca26\"],[1.0,\"#f0f921\"]]}],\"surface\":[{\"type\":\"surface\",\"colorbar\":{\"outlinewidth\":0,\"ticks\":\"\"},\"colorscale\":[[0.0,\"#0d0887\"],[0.1111111111111111,\"#46039f\"],[0.2222222222222222,\"#7201a8\"],[0.3333333333333333,\"#9c179e\"],[0.4444444444444444,\"#bd3786\"],[0.5555555555555556,\"#d8576b\"],[0.6666666666666666,\"#ed7953\"],[0.7777777777777778,\"#fb9f3a\"],[0.8888888888888888,\"#fdca26\"],[1.0,\"#f0f921\"]]}],\"mesh3d\":[{\"type\":\"mesh3d\",\"colorbar\":{\"outlinewidth\":0,\"ticks\":\"\"}}],\"scatter\":[{\"fillpattern\":{\"fillmode\":\"overlay\",\"size\":10,\"solidity\":0.2},\"type\":\"scatter\"}],\"parcoords\":[{\"type\":\"parcoords\",\"line\":{\"colorbar\":{\"outlinewidth\":0,\"ticks\":\"\"}}}],\"scatterpolargl\":[{\"type\":\"scatterpolargl\",\"marker\":{\"colorbar\":{\"outlinewidth\":0,\"ticks\":\"\"}}}],\"bar\":[{\"error_x\":{\"color\":\"#2a3f5f\"},\"error_y\":{\"color\":\"#2a3f5f\"},\"marker\":{\"line\":{\"color\":\"#E5ECF6\",\"width\":0.5},\"pattern\":{\"fillmode\":\"overlay\",\"size\":10,\"solidity\":0.2}},\"type\":\"bar\"}],\"scattergeo\":[{\"type\":\"scattergeo\",\"marker\":{\"colorbar\":{\"outlinewidth\":0,\"ticks\":\"\"}}}],\"scatterpolar\":[{\"type\":\"scatterpolar\",\"marker\":{\"colorbar\":{\"outlinewidth\":0,\"ticks\":\"\"}}}],\"histogram\":[{\"marker\":{\"pattern\":{\"fillmode\":\"overlay\",\"size\":10,\"solidity\":0.2}},\"type\":\"histogram\"}],\"scattergl\":[{\"type\":\"scattergl\",\"marker\":{\"colorbar\":{\"outlinewidth\":0,\"ticks\":\"\"}}}],\"scatter3d\":[{\"type\":\"scatter3d\",\"line\":{\"colorbar\":{\"outlinewidth\":0,\"ticks\":\"\"}},\"marker\":{\"colorbar\":{\"outlinewidth\":0,\"ticks\":\"\"}}}],\"scattermapbox\":[{\"type\":\"scattermapbox\",\"marker\":{\"colorbar\":{\"outlinewidth\":0,\"ticks\":\"\"}}}],\"scatterternary\":[{\"type\":\"scatterternary\",\"marker\":{\"colorbar\":{\"outlinewidth\":0,\"ticks\":\"\"}}}],\"scattercarpet\":[{\"type\":\"scattercarpet\",\"marker\":{\"colorbar\":{\"outlinewidth\":0,\"ticks\":\"\"}}}],\"carpet\":[{\"aaxis\":{\"endlinecolor\":\"#2a3f5f\",\"gridcolor\":\"white\",\"linecolor\":\"white\",\"minorgridcolor\":\"white\",\"startlinecolor\":\"#2a3f5f\"},\"baxis\":{\"endlinecolor\":\"#2a3f5f\",\"gridcolor\":\"white\",\"linecolor\":\"white\",\"minorgridcolor\":\"white\",\"startlinecolor\":\"#2a3f5f\"},\"type\":\"carpet\"}],\"table\":[{\"cells\":{\"fill\":{\"color\":\"#EBF0F8\"},\"line\":{\"color\":\"white\"}},\"header\":{\"fill\":{\"color\":\"#C8D4E3\"},\"line\":{\"color\":\"white\"}},\"type\":\"table\"}],\"barpolar\":[{\"marker\":{\"line\":{\"color\":\"#E5ECF6\",\"width\":0.5},\"pattern\":{\"fillmode\":\"overlay\",\"size\":10,\"solidity\":0.2}},\"type\":\"barpolar\"}],\"pie\":[{\"automargin\":true,\"type\":\"pie\"}]},\"layout\":{\"autotypenumbers\":\"strict\",\"colorway\":[\"#636efa\",\"#EF553B\",\"#00cc96\",\"#ab63fa\",\"#FFA15A\",\"#19d3f3\",\"#FF6692\",\"#B6E880\",\"#FF97FF\",\"#FECB52\"],\"font\":{\"color\":\"#2a3f5f\"},\"hovermode\":\"closest\",\"hoverlabel\":{\"align\":\"left\"},\"paper_bgcolor\":\"white\",\"plot_bgcolor\":\"#E5ECF6\",\"polar\":{\"bgcolor\":\"#E5ECF6\",\"angularaxis\":{\"gridcolor\":\"white\",\"linecolor\":\"white\",\"ticks\":\"\"},\"radialaxis\":{\"gridcolor\":\"white\",\"linecolor\":\"white\",\"ticks\":\"\"}},\"ternary\":{\"bgcolor\":\"#E5ECF6\",\"aaxis\":{\"gridcolor\":\"white\",\"linecolor\":\"white\",\"ticks\":\"\"},\"baxis\":{\"gridcolor\":\"white\",\"linecolor\":\"white\",\"ticks\":\"\"},\"caxis\":{\"gridcolor\":\"white\",\"linecolor\":\"white\",\"ticks\":\"\"}},\"coloraxis\":{\"colorbar\":{\"outlinewidth\":0,\"ticks\":\"\"}},\"colorscale\":{\"sequential\":[[0.0,\"#0d0887\"],[0.1111111111111111,\"#46039f\"],[0.2222222222222222,\"#7201a8\"],[0.3333333333333333,\"#9c179e\"],[0.4444444444444444,\"#bd3786\"],[0.5555555555555556,\"#d8576b\"],[0.6666666666666666,\"#ed7953\"],[0.7777777777777778,\"#fb9f3a\"],[0.8888888888888888,\"#fdca26\"],[1.0,\"#f0f921\"]],\"sequentialminus\":[[0.0,\"#0d0887\"],[0.1111111111111111,\"#46039f\"],[0.2222222222222222,\"#7201a8\"],[0.3333333333333333,\"#9c179e\"],[0.4444444444444444,\"#bd3786\"],[0.5555555555555556,\"#d8576b\"],[0.6666666666666666,\"#ed7953\"],[0.7777777777777778,\"#fb9f3a\"],[0.8888888888888888,\"#fdca26\"],[1.0,\"#f0f921\"]],\"diverging\":[[0,\"#8e0152\"],[0.1,\"#c51b7d\"],[0.2,\"#de77ae\"],[0.3,\"#f1b6da\"],[0.4,\"#fde0ef\"],[0.5,\"#f7f7f7\"],[0.6,\"#e6f5d0\"],[0.7,\"#b8e186\"],[0.8,\"#7fbc41\"],[0.9,\"#4d9221\"],[1,\"#276419\"]]},\"xaxis\":{\"gridcolor\":\"white\",\"linecolor\":\"white\",\"ticks\":\"\",\"title\":{\"standoff\":15},\"zerolinecolor\":\"white\",\"automargin\":true,\"zerolinewidth\":2},\"yaxis\":{\"gridcolor\":\"white\",\"linecolor\":\"white\",\"ticks\":\"\",\"title\":{\"standoff\":15},\"zerolinecolor\":\"white\",\"automargin\":true,\"zerolinewidth\":2},\"scene\":{\"xaxis\":{\"backgroundcolor\":\"#E5ECF6\",\"gridcolor\":\"white\",\"linecolor\":\"white\",\"showbackground\":true,\"ticks\":\"\",\"zerolinecolor\":\"white\",\"gridwidth\":2},\"yaxis\":{\"backgroundcolor\":\"#E5ECF6\",\"gridcolor\":\"white\",\"linecolor\":\"white\",\"showbackground\":true,\"ticks\":\"\",\"zerolinecolor\":\"white\",\"gridwidth\":2},\"zaxis\":{\"backgroundcolor\":\"#E5ECF6\",\"gridcolor\":\"white\",\"linecolor\":\"white\",\"showbackground\":true,\"ticks\":\"\",\"zerolinecolor\":\"white\",\"gridwidth\":2}},\"shapedefaults\":{\"line\":{\"color\":\"#2a3f5f\"}},\"annotationdefaults\":{\"arrowcolor\":\"#2a3f5f\",\"arrowhead\":0,\"arrowwidth\":1},\"geo\":{\"bgcolor\":\"white\",\"landcolor\":\"#E5ECF6\",\"subunitcolor\":\"white\",\"showland\":true,\"showlakes\":true,\"lakecolor\":\"white\"},\"title\":{\"x\":0.05},\"mapbox\":{\"style\":\"light\"}}},\"xaxis\":{\"anchor\":\"y\",\"domain\":[0.0,1.0],\"title\":{\"text\":\"Entities\"},\"tickangle\":-45},\"yaxis\":{\"anchor\":\"x\",\"domain\":[0.0,1.0],\"title\":{\"text\":\"Count\"}},\"legend\":{\"tracegroupgap\":0},\"title\":{\"text\":\"Top Frequent Entity for Type 'NORP'\"},\"barmode\":\"relative\"},                        {\"responsive\": true}                    ).then(function(){\n",
       "                            \n",
       "var gd = document.getElementById('236eaa14-c1d3-41a7-b6ba-9982eecf8afa');\n",
       "var x = new MutationObserver(function (mutations, observer) {{\n",
       "        var display = window.getComputedStyle(gd).display;\n",
       "        if (!display || display === 'none') {{\n",
       "            console.log([gd, 'removed!']);\n",
       "            Plotly.purge(gd);\n",
       "            observer.disconnect();\n",
       "        }}\n",
       "}});\n",
       "\n",
       "// Listen for the removal of the full notebook cells\n",
       "var notebookContainer = gd.closest('#notebook-container');\n",
       "if (notebookContainer) {{\n",
       "    x.observe(notebookContainer, {childList: true});\n",
       "}}\n",
       "\n",
       "// Listen for the clearing of the current output cell\n",
       "var outputEl = gd.closest('.output');\n",
       "if (outputEl) {{\n",
       "    x.observe(outputEl, {childList: true});\n",
       "}}\n",
       "\n",
       "                        })                };                });            </script>        </div>"
      ]
     },
     "metadata": {},
     "output_type": "display_data"
    },
    {
     "name": "stdout",
     "output_type": "stream",
     "text": [
      "- Entity Type: LOC\n",
      "[('Europe', 14), ('Latin America', 3), ('Euro area', 2), ('the European Economic Area', 2), ('Central/Eastern Europe', 1), ('Euro', 1), ('Central and Eastern Europe', 1), ('the Middle Eastwhile', 1)]\n",
      "\n"
     ]
    },
    {
     "data": {
      "text/html": [
       "<div>                            <div id=\"ae2fc55a-abb4-464c-bb21-0828bc6c9b45\" class=\"plotly-graph-div\" style=\"height:525px; width:100%;\"></div>            <script type=\"text/javascript\">                require([\"plotly\"], function(Plotly) {                    window.PLOTLYENV=window.PLOTLYENV || {};                                    if (document.getElementById(\"ae2fc55a-abb4-464c-bb21-0828bc6c9b45\")) {                    Plotly.newPlot(                        \"ae2fc55a-abb4-464c-bb21-0828bc6c9b45\",                        [{\"alignmentgroup\":\"True\",\"hovertemplate\":\"Entities=%{x}\\u003cbr\\u003eCount=%{y}\\u003cextra\\u003e\\u003c\\u002fextra\\u003e\",\"legendgroup\":\"\",\"marker\":{\"color\":\"#636efa\",\"pattern\":{\"shape\":\"\"}},\"name\":\"\",\"offsetgroup\":\"\",\"orientation\":\"v\",\"showlegend\":false,\"textposition\":\"auto\",\"x\":[\"Europe\",\"Latin America\",\"Euro area\",\"the European Economic Area\",\"Central\\u002fEastern Europe\",\"Euro\",\"Central and Eastern Europe\",\"the Middle Eastwhile\"],\"xaxis\":\"x\",\"y\":[14,3,2,2,1,1,1,1],\"yaxis\":\"y\",\"type\":\"bar\"}],                        {\"template\":{\"data\":{\"histogram2dcontour\":[{\"type\":\"histogram2dcontour\",\"colorbar\":{\"outlinewidth\":0,\"ticks\":\"\"},\"colorscale\":[[0.0,\"#0d0887\"],[0.1111111111111111,\"#46039f\"],[0.2222222222222222,\"#7201a8\"],[0.3333333333333333,\"#9c179e\"],[0.4444444444444444,\"#bd3786\"],[0.5555555555555556,\"#d8576b\"],[0.6666666666666666,\"#ed7953\"],[0.7777777777777778,\"#fb9f3a\"],[0.8888888888888888,\"#fdca26\"],[1.0,\"#f0f921\"]]}],\"choropleth\":[{\"type\":\"choropleth\",\"colorbar\":{\"outlinewidth\":0,\"ticks\":\"\"}}],\"histogram2d\":[{\"type\":\"histogram2d\",\"colorbar\":{\"outlinewidth\":0,\"ticks\":\"\"},\"colorscale\":[[0.0,\"#0d0887\"],[0.1111111111111111,\"#46039f\"],[0.2222222222222222,\"#7201a8\"],[0.3333333333333333,\"#9c179e\"],[0.4444444444444444,\"#bd3786\"],[0.5555555555555556,\"#d8576b\"],[0.6666666666666666,\"#ed7953\"],[0.7777777777777778,\"#fb9f3a\"],[0.8888888888888888,\"#fdca26\"],[1.0,\"#f0f921\"]]}],\"heatmap\":[{\"type\":\"heatmap\",\"colorbar\":{\"outlinewidth\":0,\"ticks\":\"\"},\"colorscale\":[[0.0,\"#0d0887\"],[0.1111111111111111,\"#46039f\"],[0.2222222222222222,\"#7201a8\"],[0.3333333333333333,\"#9c179e\"],[0.4444444444444444,\"#bd3786\"],[0.5555555555555556,\"#d8576b\"],[0.6666666666666666,\"#ed7953\"],[0.7777777777777778,\"#fb9f3a\"],[0.8888888888888888,\"#fdca26\"],[1.0,\"#f0f921\"]]}],\"heatmapgl\":[{\"type\":\"heatmapgl\",\"colorbar\":{\"outlinewidth\":0,\"ticks\":\"\"},\"colorscale\":[[0.0,\"#0d0887\"],[0.1111111111111111,\"#46039f\"],[0.2222222222222222,\"#7201a8\"],[0.3333333333333333,\"#9c179e\"],[0.4444444444444444,\"#bd3786\"],[0.5555555555555556,\"#d8576b\"],[0.6666666666666666,\"#ed7953\"],[0.7777777777777778,\"#fb9f3a\"],[0.8888888888888888,\"#fdca26\"],[1.0,\"#f0f921\"]]}],\"contourcarpet\":[{\"type\":\"contourcarpet\",\"colorbar\":{\"outlinewidth\":0,\"ticks\":\"\"}}],\"contour\":[{\"type\":\"contour\",\"colorbar\":{\"outlinewidth\":0,\"ticks\":\"\"},\"colorscale\":[[0.0,\"#0d0887\"],[0.1111111111111111,\"#46039f\"],[0.2222222222222222,\"#7201a8\"],[0.3333333333333333,\"#9c179e\"],[0.4444444444444444,\"#bd3786\"],[0.5555555555555556,\"#d8576b\"],[0.6666666666666666,\"#ed7953\"],[0.7777777777777778,\"#fb9f3a\"],[0.8888888888888888,\"#fdca26\"],[1.0,\"#f0f921\"]]}],\"surface\":[{\"type\":\"surface\",\"colorbar\":{\"outlinewidth\":0,\"ticks\":\"\"},\"colorscale\":[[0.0,\"#0d0887\"],[0.1111111111111111,\"#46039f\"],[0.2222222222222222,\"#7201a8\"],[0.3333333333333333,\"#9c179e\"],[0.4444444444444444,\"#bd3786\"],[0.5555555555555556,\"#d8576b\"],[0.6666666666666666,\"#ed7953\"],[0.7777777777777778,\"#fb9f3a\"],[0.8888888888888888,\"#fdca26\"],[1.0,\"#f0f921\"]]}],\"mesh3d\":[{\"type\":\"mesh3d\",\"colorbar\":{\"outlinewidth\":0,\"ticks\":\"\"}}],\"scatter\":[{\"fillpattern\":{\"fillmode\":\"overlay\",\"size\":10,\"solidity\":0.2},\"type\":\"scatter\"}],\"parcoords\":[{\"type\":\"parcoords\",\"line\":{\"colorbar\":{\"outlinewidth\":0,\"ticks\":\"\"}}}],\"scatterpolargl\":[{\"type\":\"scatterpolargl\",\"marker\":{\"colorbar\":{\"outlinewidth\":0,\"ticks\":\"\"}}}],\"bar\":[{\"error_x\":{\"color\":\"#2a3f5f\"},\"error_y\":{\"color\":\"#2a3f5f\"},\"marker\":{\"line\":{\"color\":\"#E5ECF6\",\"width\":0.5},\"pattern\":{\"fillmode\":\"overlay\",\"size\":10,\"solidity\":0.2}},\"type\":\"bar\"}],\"scattergeo\":[{\"type\":\"scattergeo\",\"marker\":{\"colorbar\":{\"outlinewidth\":0,\"ticks\":\"\"}}}],\"scatterpolar\":[{\"type\":\"scatterpolar\",\"marker\":{\"colorbar\":{\"outlinewidth\":0,\"ticks\":\"\"}}}],\"histogram\":[{\"marker\":{\"pattern\":{\"fillmode\":\"overlay\",\"size\":10,\"solidity\":0.2}},\"type\":\"histogram\"}],\"scattergl\":[{\"type\":\"scattergl\",\"marker\":{\"colorbar\":{\"outlinewidth\":0,\"ticks\":\"\"}}}],\"scatter3d\":[{\"type\":\"scatter3d\",\"line\":{\"colorbar\":{\"outlinewidth\":0,\"ticks\":\"\"}},\"marker\":{\"colorbar\":{\"outlinewidth\":0,\"ticks\":\"\"}}}],\"scattermapbox\":[{\"type\":\"scattermapbox\",\"marker\":{\"colorbar\":{\"outlinewidth\":0,\"ticks\":\"\"}}}],\"scatterternary\":[{\"type\":\"scatterternary\",\"marker\":{\"colorbar\":{\"outlinewidth\":0,\"ticks\":\"\"}}}],\"scattercarpet\":[{\"type\":\"scattercarpet\",\"marker\":{\"colorbar\":{\"outlinewidth\":0,\"ticks\":\"\"}}}],\"carpet\":[{\"aaxis\":{\"endlinecolor\":\"#2a3f5f\",\"gridcolor\":\"white\",\"linecolor\":\"white\",\"minorgridcolor\":\"white\",\"startlinecolor\":\"#2a3f5f\"},\"baxis\":{\"endlinecolor\":\"#2a3f5f\",\"gridcolor\":\"white\",\"linecolor\":\"white\",\"minorgridcolor\":\"white\",\"startlinecolor\":\"#2a3f5f\"},\"type\":\"carpet\"}],\"table\":[{\"cells\":{\"fill\":{\"color\":\"#EBF0F8\"},\"line\":{\"color\":\"white\"}},\"header\":{\"fill\":{\"color\":\"#C8D4E3\"},\"line\":{\"color\":\"white\"}},\"type\":\"table\"}],\"barpolar\":[{\"marker\":{\"line\":{\"color\":\"#E5ECF6\",\"width\":0.5},\"pattern\":{\"fillmode\":\"overlay\",\"size\":10,\"solidity\":0.2}},\"type\":\"barpolar\"}],\"pie\":[{\"automargin\":true,\"type\":\"pie\"}]},\"layout\":{\"autotypenumbers\":\"strict\",\"colorway\":[\"#636efa\",\"#EF553B\",\"#00cc96\",\"#ab63fa\",\"#FFA15A\",\"#19d3f3\",\"#FF6692\",\"#B6E880\",\"#FF97FF\",\"#FECB52\"],\"font\":{\"color\":\"#2a3f5f\"},\"hovermode\":\"closest\",\"hoverlabel\":{\"align\":\"left\"},\"paper_bgcolor\":\"white\",\"plot_bgcolor\":\"#E5ECF6\",\"polar\":{\"bgcolor\":\"#E5ECF6\",\"angularaxis\":{\"gridcolor\":\"white\",\"linecolor\":\"white\",\"ticks\":\"\"},\"radialaxis\":{\"gridcolor\":\"white\",\"linecolor\":\"white\",\"ticks\":\"\"}},\"ternary\":{\"bgcolor\":\"#E5ECF6\",\"aaxis\":{\"gridcolor\":\"white\",\"linecolor\":\"white\",\"ticks\":\"\"},\"baxis\":{\"gridcolor\":\"white\",\"linecolor\":\"white\",\"ticks\":\"\"},\"caxis\":{\"gridcolor\":\"white\",\"linecolor\":\"white\",\"ticks\":\"\"}},\"coloraxis\":{\"colorbar\":{\"outlinewidth\":0,\"ticks\":\"\"}},\"colorscale\":{\"sequential\":[[0.0,\"#0d0887\"],[0.1111111111111111,\"#46039f\"],[0.2222222222222222,\"#7201a8\"],[0.3333333333333333,\"#9c179e\"],[0.4444444444444444,\"#bd3786\"],[0.5555555555555556,\"#d8576b\"],[0.6666666666666666,\"#ed7953\"],[0.7777777777777778,\"#fb9f3a\"],[0.8888888888888888,\"#fdca26\"],[1.0,\"#f0f921\"]],\"sequentialminus\":[[0.0,\"#0d0887\"],[0.1111111111111111,\"#46039f\"],[0.2222222222222222,\"#7201a8\"],[0.3333333333333333,\"#9c179e\"],[0.4444444444444444,\"#bd3786\"],[0.5555555555555556,\"#d8576b\"],[0.6666666666666666,\"#ed7953\"],[0.7777777777777778,\"#fb9f3a\"],[0.8888888888888888,\"#fdca26\"],[1.0,\"#f0f921\"]],\"diverging\":[[0,\"#8e0152\"],[0.1,\"#c51b7d\"],[0.2,\"#de77ae\"],[0.3,\"#f1b6da\"],[0.4,\"#fde0ef\"],[0.5,\"#f7f7f7\"],[0.6,\"#e6f5d0\"],[0.7,\"#b8e186\"],[0.8,\"#7fbc41\"],[0.9,\"#4d9221\"],[1,\"#276419\"]]},\"xaxis\":{\"gridcolor\":\"white\",\"linecolor\":\"white\",\"ticks\":\"\",\"title\":{\"standoff\":15},\"zerolinecolor\":\"white\",\"automargin\":true,\"zerolinewidth\":2},\"yaxis\":{\"gridcolor\":\"white\",\"linecolor\":\"white\",\"ticks\":\"\",\"title\":{\"standoff\":15},\"zerolinecolor\":\"white\",\"automargin\":true,\"zerolinewidth\":2},\"scene\":{\"xaxis\":{\"backgroundcolor\":\"#E5ECF6\",\"gridcolor\":\"white\",\"linecolor\":\"white\",\"showbackground\":true,\"ticks\":\"\",\"zerolinecolor\":\"white\",\"gridwidth\":2},\"yaxis\":{\"backgroundcolor\":\"#E5ECF6\",\"gridcolor\":\"white\",\"linecolor\":\"white\",\"showbackground\":true,\"ticks\":\"\",\"zerolinecolor\":\"white\",\"gridwidth\":2},\"zaxis\":{\"backgroundcolor\":\"#E5ECF6\",\"gridcolor\":\"white\",\"linecolor\":\"white\",\"showbackground\":true,\"ticks\":\"\",\"zerolinecolor\":\"white\",\"gridwidth\":2}},\"shapedefaults\":{\"line\":{\"color\":\"#2a3f5f\"}},\"annotationdefaults\":{\"arrowcolor\":\"#2a3f5f\",\"arrowhead\":0,\"arrowwidth\":1},\"geo\":{\"bgcolor\":\"white\",\"landcolor\":\"#E5ECF6\",\"subunitcolor\":\"white\",\"showland\":true,\"showlakes\":true,\"lakecolor\":\"white\"},\"title\":{\"x\":0.05},\"mapbox\":{\"style\":\"light\"}}},\"xaxis\":{\"anchor\":\"y\",\"domain\":[0.0,1.0],\"title\":{\"text\":\"Entities\"},\"tickangle\":-45},\"yaxis\":{\"anchor\":\"x\",\"domain\":[0.0,1.0],\"title\":{\"text\":\"Count\"}},\"legend\":{\"tracegroupgap\":0},\"title\":{\"text\":\"Top Frequent Entity for Type 'LOC'\"},\"barmode\":\"relative\"},                        {\"responsive\": true}                    ).then(function(){\n",
       "                            \n",
       "var gd = document.getElementById('ae2fc55a-abb4-464c-bb21-0828bc6c9b45');\n",
       "var x = new MutationObserver(function (mutations, observer) {{\n",
       "        var display = window.getComputedStyle(gd).display;\n",
       "        if (!display || display === 'none') {{\n",
       "            console.log([gd, 'removed!']);\n",
       "            Plotly.purge(gd);\n",
       "            observer.disconnect();\n",
       "        }}\n",
       "}});\n",
       "\n",
       "// Listen for the removal of the full notebook cells\n",
       "var notebookContainer = gd.closest('#notebook-container');\n",
       "if (notebookContainer) {{\n",
       "    x.observe(notebookContainer, {childList: true});\n",
       "}}\n",
       "\n",
       "// Listen for the clearing of the current output cell\n",
       "var outputEl = gd.closest('.output');\n",
       "if (outputEl) {{\n",
       "    x.observe(outputEl, {childList: true});\n",
       "}}\n",
       "\n",
       "                        })                };                });            </script>        </div>"
      ]
     },
     "metadata": {},
     "output_type": "display_data"
    }
   ],
   "source": [
    "for entity in ['ORG', 'GPE', 'NORP', 'LOC']:\n",
    "    print('- Entity Type:', entity)\n",
    "    all_ents = []\n",
    "    for d in docs:\n",
    "        ents = [ent.text for ent in d.ents if ent.label_ == entity]\n",
    "        all_ents.extend(ents)\n",
    "\n",
    "    top_common = Counter(all_ents).most_common(10)\n",
    "    print(top_common)\n",
    "    print()\n",
    "    # Create an interactive count plot using Plotly\n",
    "    entities, counts = zip(*top_common)\n",
    "    fig = px.bar(x=entities, y=counts, labels={'x': 'Entities', 'y': 'Count'},\n",
    "                 title=f\"Top Frequent Entity for Type '{entity}'\")\n",
    "    fig.update_xaxes(tickangle=-45)\n",
    "    fig.show()"
   ]
  },
  {
   "cell_type": "markdown",
   "id": "704b084b",
   "metadata": {
    "papermill": {
     "duration": 0.016179,
     "end_time": "2023-08-29T01:35:46.139100",
     "exception": false,
     "start_time": "2023-08-29T01:35:46.122921",
     "status": "completed"
    },
    "tags": []
   },
   "source": [
    "#### Entities Co-occuring with X"
   ]
  },
  {
   "cell_type": "code",
   "execution_count": 20,
   "id": "8dc91ec0",
   "metadata": {
    "execution": {
     "iopub.execute_input": "2023-08-29T01:35:46.178625Z",
     "iopub.status.busy": "2023-08-29T01:35:46.178165Z",
     "iopub.status.idle": "2023-08-29T01:35:47.381546Z",
     "shell.execute_reply": "2023-08-29T01:35:47.380238Z"
    },
    "papermill": {
     "duration": 1.227799,
     "end_time": "2023-08-29T01:35:47.384360",
     "exception": false,
     "start_time": "2023-08-29T01:35:46.156561",
     "status": "completed"
    },
    "tags": []
   },
   "outputs": [
    {
     "name": "stdout",
     "output_type": "stream",
     "text": [
      "- Entity US co-occuring with inflation\n",
      "- Page:  Global growth slowed through 2022 on a diminishing reopening boost, fiscal and n monetary tightening, Chinas Covid restrictions and property slump, and the Russia-Ukraine war. We expect global growth of just 1.8% in 2023, as US resilience contrasts with a European recession and a bumpy reopening in China. The US should narrowly avoid recession as core PCE inflation slows from 5% n now to 3% in late 2023 with a pp rise in the unemployment rate. To keep growth below potential amidst stronger real income growth, we now see the Fed hiking another 125bp to a peak of 5-5.25%. We do not expect cuts in 2023. How can core inflation fall so much with such a small employment hit? The n reason, we think, is that this cycle is different from prior high-inflation periods. First, post-pandemic labor market overheating showed up not in excessive employment but in unprecedented job openings, which are much less painful to unwind. Second, the disinflationary impact of the recent normalization in supply chains and rental housing markets still has a long way to go. And third, long-term inflation expectations remain well-anchored. The Euro area and the UK are probably in recession, mainly because of the real n income hit from surging energy bills. But we expect only a mild downturn as Europe has already managed to cut Russian gas imports without crushing activity and is likely to benefit from the same post-pandemic improvements that are helping avoid US recession. Given reduced risks of a deep downturn and persistent inflation, we now expect hikes through May with a 3% ECB peak. China is likely to grow slowly in H1 as an April reopening initially triggers an n increase in Covid cases that keeps caution high, but should accelerate sharply in H2 on a reopening boost. Our longer-run China view remains cautious because of the long slide in the property market as well as slower potential growth (reflecting weakness in both demographics and productivity). Several central banks in Central/Eastern Europe and Latin America started hiking n rates well before their DM peers. While none has clearly achieved a soft landing yet, activity has been resilient and inflation is now coming down in some countries, especially Brazil. CEE is in a more difficult position because of its commodity exposure, high inflation, and ongoing monetary tightening. Jan Hatzius +1(212)902-0394 | jan.hatzius@gs.com Goldman Sachs & Co. LLC Daan Struyven +1(212)357-4172 | daan.struyven@gs.com Goldman Sachs & Co. LLC Yulia Zhestkova +1(646)446-3905 | yulia.zhestkova@gs.com Goldman Sachs & Co. LLC Devesh Kodnani +1(917)343-9216 | devesh.kodnani@gs.com Goldman Sachs & Co. LLC Global Economics Analyst Macro Outlook 2023: This Cycle Is Different 16 November 2022 | 10:59AM EST Investors should consider this report as only a single factor in making their investment decision. For Reg AC certification and other important disclosures, see the Disclosure Appendix, or go to www.gs.com/research/hedge.html. Note: The following is a redacted version of the original report published on 16 November 2022 [24 pgs].\n",
      "\n",
      "- Entity Brazil co-occuring with inflation\n",
      "- Page:  Global growth slowed through 2022 on a diminishing reopening boost, fiscal and n monetary tightening, Chinas Covid restrictions and property slump, and the Russia-Ukraine war. We expect global growth of just 1.8% in 2023, as US resilience contrasts with a European recession and a bumpy reopening in China. The US should narrowly avoid recession as core PCE inflation slows from 5% n now to 3% in late 2023 with a pp rise in the unemployment rate. To keep growth below potential amidst stronger real income growth, we now see the Fed hiking another 125bp to a peak of 5-5.25%. We do not expect cuts in 2023. How can core inflation fall so much with such a small employment hit? The n reason, we think, is that this cycle is different from prior high-inflation periods. First, post-pandemic labor market overheating showed up not in excessive employment but in unprecedented job openings, which are much less painful to unwind. Second, the disinflationary impact of the recent normalization in supply chains and rental housing markets still has a long way to go. And third, long-term inflation expectations remain well-anchored. The Euro area and the UK are probably in recession, mainly because of the real n income hit from surging energy bills. But we expect only a mild downturn as Europe has already managed to cut Russian gas imports without crushing activity and is likely to benefit from the same post-pandemic improvements that are helping avoid US recession. Given reduced risks of a deep downturn and persistent inflation, we now expect hikes through May with a 3% ECB peak. China is likely to grow slowly in H1 as an April reopening initially triggers an n increase in Covid cases that keeps caution high, but should accelerate sharply in H2 on a reopening boost. Our longer-run China view remains cautious because of the long slide in the property market as well as slower potential growth (reflecting weakness in both demographics and productivity). Several central banks in Central/Eastern Europe and Latin America started hiking n rates well before their DM peers. While none has clearly achieved a soft landing yet, activity has been resilient and inflation is now coming down in some countries, especially Brazil. CEE is in a more difficult position because of its commodity exposure, high inflation, and ongoing monetary tightening. Jan Hatzius +1(212)902-0394 | jan.hatzius@gs.com Goldman Sachs & Co. LLC Daan Struyven +1(212)357-4172 | daan.struyven@gs.com Goldman Sachs & Co. LLC Yulia Zhestkova +1(646)446-3905 | yulia.zhestkova@gs.com Goldman Sachs & Co. LLC Devesh Kodnani +1(917)343-9216 | devesh.kodnani@gs.com Goldman Sachs & Co. LLC Global Economics Analyst Macro Outlook 2023: This Cycle Is Different 16 November 2022 | 10:59AM EST Investors should consider this report as only a single factor in making their investment decision. For Reg AC certification and other important disclosures, see the Disclosure Appendix, or go to www.gs.com/research/hedge.html. Note: The following is a redacted version of the original report published on 16 November 2022 [24 pgs].\n",
      "\n",
      "- Entity US co-occuring with inflation\n",
      "- Page:  US Likely to Avoid Recession In the past year, US growth has slowed to a below-potential pace of about 1% because of a diminishing reopening boost, declining real disposable income (driven by fiscal normalization and high inflation), and aggressive monetary tightening. In our forecast, growth remains at roughly this pace in 2023. Unlike a year ago, when our forecast for both 2022 and 2023 was below consensus because we expected a negative impact of monetary and especially fiscal tightening, our current 2023 forecast is well above consensus (Exhibit 2). Our disagreement with the consensus is even more visible when we focus on recession probabilities. As shown in Exhibit 3, we estimate a 35% probability that the US economy enters recession over the next 12 months, well below the median of 65% among the forecasters in the latest Wall Street Journal survey and toward the bottom of the range. Exhibit 2: Our 2023 US Growth Forecast Is Now Well Above Consensus 0.0 0.5 1.0 1.5 2.0 2.5 3.0 0.0 0.5 1.0 1.5 2.0 2.5 3.0 Jan-2022 Apr-2022 Jul-2022 Oct-2022 GS Bloomberg Consensus Percent change, year ago Percent change, year ago US 2023 Real GDP Growth Forecasts Source: Bloomberg, Goldman Sachs Global Investment Research 16 November 2022 3 Goldman Sachs Global Economics Analyst\n",
      "\n"
     ]
    },
    {
     "data": {
      "image/png": "[encoded data removed]",
      "text/plain": [
       "<Figure size 640x480 with 1 Axes>"
      ]
     },
     "metadata": {},
     "output_type": "display_data"
    }
   ],
   "source": [
    "import re\n",
    "import networkx as nx\n",
    "\n",
    "x = \"inflation\"\n",
    "print_limit, i = 2, 0 # output readability\n",
    "ent_type = \"GPE\"\n",
    "co_occ = []\n",
    "for d in docs:\n",
    "    for ent in d.ents:\n",
    "        if ent.label_ != ent_type:\n",
    "            continue\n",
    "        if re.search(x, ent.sent.text):\n",
    "            if i <= print_limit:\n",
    "                print('- Entity', ent.text, 'co-occuring with',x)\n",
    "                print(\"- Page: \",d)\n",
    "                print()\n",
    "                i += 1\n",
    "            co_occ.append((ent.text, x))\n",
    "\n",
    "\n",
    "# Count the frequency of entity pairs\n",
    "entity_pair_counts = Counter(co_occ)\n",
    "\n",
    "# Create a NetworkX graph\n",
    "G = nx.Graph()\n",
    "for pair, freq in entity_pair_counts.items():\n",
    "    entity1, entity2 = pair\n",
    "    G.add_edge(entity1, entity2, weight=freq)\n",
    "\n",
    "# Draw the network graph \n",
    "pos = nx.spring_layout(G) \n",
    "nx.draw(G, pos, with_labels=True, node_size=1000, font_size=10)\n",
    "edge_labels = {(entity1, entity2): f\"{freq}\" for (entity1, entity2), freq in entity_pair_counts.items()}\n",
    "nx.draw_networkx_edge_labels(G, pos, edge_labels=edge_labels, font_size=8)\n",
    "\n",
    "plt.title(\"Entity Co-occurrence Network\")\n",
    "plt.show()\n"
   ]
  },
  {
   "cell_type": "markdown",
   "id": "def46ca7",
   "metadata": {
    "papermill": {
     "duration": 0.018664,
     "end_time": "2023-08-29T01:35:47.420891",
     "exception": false,
     "start_time": "2023-08-29T01:35:47.402227",
     "status": "completed"
    },
    "tags": []
   },
   "source": [
    "#### Entities Frequently Co-occuring Together"
   ]
  },
  {
   "cell_type": "code",
   "execution_count": 21,
   "id": "84824ce3",
   "metadata": {
    "execution": {
     "iopub.execute_input": "2023-08-29T01:35:47.459926Z",
     "iopub.status.busy": "2023-08-29T01:35:47.459472Z",
     "iopub.status.idle": "2023-08-29T01:35:48.227683Z",
     "shell.execute_reply": "2023-08-29T01:35:48.225998Z"
    },
    "papermill": {
     "duration": 0.792153,
     "end_time": "2023-08-29T01:35:48.231893",
     "exception": false,
     "start_time": "2023-08-29T01:35:47.439740",
     "status": "completed"
    },
    "tags": []
   },
   "outputs": [
    {
     "data": {
      "image/png": "[encoded data removed]",
      "text/plain": [
       "<Figure size 640x480 with 1 Axes>"
      ]
     },
     "metadata": {},
     "output_type": "display_data"
    }
   ],
   "source": [
    "entity_pairs = []\n",
    "for doc in docs:\n",
    "    entities = [ent.text for ent in doc.ents if ent.label_ in ['ORG', 'GPE', 'NORP']]\n",
    "    entity_pairs.extend([(entities[i], entities[j]) for i in range(len(entities)) for j in range(i+1, len(entities))])\n",
    "\n",
    "entity_pair_counts = Counter(entity_pairs)\n",
    "threshold_count = 15 \n",
    "\n",
    "entity_pair_counts = {pair: freq for pair, freq in entity_pair_counts.items() if freq > threshold_count}\n",
    "\n",
    "G = nx.Graph()\n",
    "for pair, freq in entity_pair_counts.items():\n",
    "    entity1, entity2 = pair\n",
    "    G.add_edge(entity1, entity2, weight=freq)\n",
    "\n",
    "pos = nx.circular_layout(G)  \n",
    "nx.draw(G, pos, with_labels=True, node_size=600, font_size=7)\n",
    "edge_labels = {(entity1, entity2): f\"{freq}\" for (entity1, entity2), freq in entity_pair_counts.items()}\n",
    "nx.draw_networkx_edge_labels(G, pos, edge_labels=edge_labels, font_size=8)\n",
    "\n",
    "plt.title(\"Entity Co-occurrence Network\")\n",
    "plt.show()\n"
   ]
  },
  {
   "cell_type": "markdown",
   "id": "8c17ab7d",
   "metadata": {
    "papermill": {
     "duration": 0.021394,
     "end_time": "2023-08-29T01:35:48.275147",
     "exception": false,
     "start_time": "2023-08-29T01:35:48.253753",
     "status": "completed"
    },
    "tags": []
   },
   "source": [
    "### Extract Entities from all Documents within Dataset"
   ]
  },
  {
   "cell_type": "code",
   "execution_count": 22,
   "id": "14a4db64",
   "metadata": {
    "execution": {
     "iopub.execute_input": "2023-08-29T01:35:48.317879Z",
     "iopub.status.busy": "2023-08-29T01:35:48.317226Z",
     "iopub.status.idle": "2023-08-29T01:46:50.318379Z",
     "shell.execute_reply": "2023-08-29T01:46:50.316892Z"
    },
    "papermill": {
     "duration": 662.02641,
     "end_time": "2023-08-29T01:46:50.321824",
     "exception": false,
     "start_time": "2023-08-29T01:35:48.295414",
     "status": "completed"
    },
    "tags": []
   },
   "outputs": [],
   "source": [
    "df_docs['Entity'] = \"\"\n",
    "\n",
    "for index, row in df_docs.iterrows():\n",
    "    page_text = \" \".join(row['HSentences'])\n",
    "    doc = nlp(page_text)\n",
    "    \n",
    "    page_entities = {ent_type: [] for ent_type in ['ORG', 'GPE', 'NORP', 'LOC', 'DATE']}\n",
    "    \n",
    "    for ent in doc.ents:\n",
    "        if ent.label_ in page_entities:\n",
    "            page_entities[ent.label_].append(ent.text)\n",
    "            \n",
    "    for k, v in page_entities.items():\n",
    "        page_entities[k] = list(set(v))\n",
    "        \n",
    "    df_docs.at[index, 'Entity'] = page_entities"
   ]
  },
  {
   "cell_type": "code",
   "execution_count": 23,
   "id": "6f467eed",
   "metadata": {
    "execution": {
     "iopub.execute_input": "2023-08-29T01:46:50.368308Z",
     "iopub.status.busy": "2023-08-29T01:46:50.367832Z",
     "iopub.status.idle": "2023-08-29T01:46:50.406163Z",
     "shell.execute_reply": "2023-08-29T01:46:50.405201Z"
    },
    "papermill": {
     "duration": 0.065407,
     "end_time": "2023-08-29T01:46:50.408651",
     "exception": false,
     "start_time": "2023-08-29T01:46:50.343244",
     "status": "completed"
    },
    "tags": []
   },
   "outputs": [
    {
     "data": {
      "text/html": [
       "<div>\n",
       "<style scoped>\n",
       "    .dataframe tbody tr th:only-of-type {\n",
       "        vertical-align: middle;\n",
       "    }\n",
       "\n",
       "    .dataframe tbody tr th {\n",
       "        vertical-align: top;\n",
       "    }\n",
       "\n",
       "    .dataframe thead th {\n",
       "        text-align: right;\n",
       "    }\n",
       "</style>\n",
       "<table border=\"1\" class=\"dataframe\">\n",
       "  <thead>\n",
       "    <tr style=\"text-align: right;\">\n",
       "      <th></th>\n",
       "      <th>Report Name</th>\n",
       "      <th>Bank Name</th>\n",
       "      <th>Report Date</th>\n",
       "      <th>Page ID</th>\n",
       "      <th>Page Text</th>\n",
       "      <th>MSentences</th>\n",
       "      <th>HSentences</th>\n",
       "      <th>Entity</th>\n",
       "    </tr>\n",
       "  </thead>\n",
       "  <tbody>\n",
       "    <tr>\n",
       "      <th>0</th>\n",
       "      <td>fx_insight_e_16_janvier_2023</td>\n",
       "      <td>citi</td>\n",
       "      <td>16-1-2023</td>\n",
       "      <td>0</td>\n",
       "      <td>\\n Citi Global Wealth Investments  \\n FX Snaps...</td>\n",
       "      <td>[citi global wealth invest fx snapshot major c...</td>\n",
       "      <td>[ Citi Global Wealth Investments FX Snapshot M...</td>\n",
       "      <td>{'ORG': ['Citi', 'Bloomberg L.P.'], 'GPE': [],...</td>\n",
       "    </tr>\n",
       "    <tr>\n",
       "      <th>1</th>\n",
       "      <td>fx_insight_e_16_janvier_2023</td>\n",
       "      <td>citi</td>\n",
       "      <td>16-1-2023</td>\n",
       "      <td>3</td>\n",
       "      <td>\\n Important Disclosure \\n “Citi analysts” ref...</td>\n",
       "      <td>[import disclosur citi analyst refer invest pr...</td>\n",
       "      <td>[ Important Disclosure Citi analysts refers to...</td>\n",
       "      <td>{'ORG': ['CNH', 'CHKL', 'Citibank N.A.', 'CGM'...</td>\n",
       "    </tr>\n",
       "    <tr>\n",
       "      <th>2</th>\n",
       "      <td>exemple_analyse_macro_economique_goldman_sachs</td>\n",
       "      <td>goldman_sachs</td>\n",
       "      <td>NaN</td>\n",
       "      <td>0</td>\n",
       "      <td>\\n Fixed Income \\n MUSINGS \\n FIXED INCOME  Go...</td>\n",
       "      <td>[fix incom muse fix incom goldman sach asset m...</td>\n",
       "      <td>[ Fixed Income MUSINGS FIXED INCOME Goldman Sa...</td>\n",
       "      <td>{'ORG': ['Feds', 'Goldman Sachs', 'Bloomberg',...</td>\n",
       "    </tr>\n",
       "    <tr>\n",
       "      <th>3</th>\n",
       "      <td>exemple_analyse_macro_economique_goldman_sachs</td>\n",
       "      <td>goldman_sachs</td>\n",
       "      <td>NaN</td>\n",
       "      <td>1</td>\n",
       "      <td>\\n Fixed Income \\n MUSINGS \\n Goldman Sachs As...</td>\n",
       "      <td>[fix incom muse goldman sach asset manag fix i...</td>\n",
       "      <td>[ Fixed Income MUSINGS Goldman Sachs Asset Man...</td>\n",
       "      <td>{'ORG': ['Haver Analytics', 'Goldman Sachs Ass...</td>\n",
       "    </tr>\n",
       "    <tr>\n",
       "      <th>4</th>\n",
       "      <td>exemple_analyse_macro_economique_goldman_sachs</td>\n",
       "      <td>goldman_sachs</td>\n",
       "      <td>NaN</td>\n",
       "      <td>2</td>\n",
       "      <td>\\n MUSINGS \\n FIXED INCOME  Goldman Sachs Asse...</td>\n",
       "      <td>[muse fix incom goldman sach asset manag centr...</td>\n",
       "      <td>[ MUSINGS FIXED INCOME Goldman Sachs Asset Man...</td>\n",
       "      <td>{'ORG': ['Fed Federal', 'Bank', 'Goldman Sachs...</td>\n",
       "    </tr>\n",
       "  </tbody>\n",
       "</table>\n",
       "</div>"
      ],
      "text/plain": [
       "                                      Report Name      Bank Name Report Date  \\\n",
       "0                    fx_insight_e_16_janvier_2023           citi   16-1-2023   \n",
       "1                    fx_insight_e_16_janvier_2023           citi   16-1-2023   \n",
       "2  exemple_analyse_macro_economique_goldman_sachs  goldman_sachs         NaN   \n",
       "3  exemple_analyse_macro_economique_goldman_sachs  goldman_sachs         NaN   \n",
       "4  exemple_analyse_macro_economique_goldman_sachs  goldman_sachs         NaN   \n",
       "\n",
       "   Page ID                                          Page Text  \\\n",
       "0        0  \\n Citi Global Wealth Investments  \\n FX Snaps...   \n",
       "1        3  \\n Important Disclosure \\n “Citi analysts” ref...   \n",
       "2        0  \\n Fixed Income \\n MUSINGS \\n FIXED INCOME  Go...   \n",
       "3        1  \\n Fixed Income \\n MUSINGS \\n Goldman Sachs As...   \n",
       "4        2  \\n MUSINGS \\n FIXED INCOME  Goldman Sachs Asse...   \n",
       "\n",
       "                                          MSentences  \\\n",
       "0  [citi global wealth invest fx snapshot major c...   \n",
       "1  [import disclosur citi analyst refer invest pr...   \n",
       "2  [fix incom muse fix incom goldman sach asset m...   \n",
       "3  [fix incom muse goldman sach asset manag fix i...   \n",
       "4  [muse fix incom goldman sach asset manag centr...   \n",
       "\n",
       "                                          HSentences  \\\n",
       "0  [ Citi Global Wealth Investments FX Snapshot M...   \n",
       "1  [ Important Disclosure Citi analysts refers to...   \n",
       "2  [ Fixed Income MUSINGS FIXED INCOME Goldman Sa...   \n",
       "3  [ Fixed Income MUSINGS Goldman Sachs Asset Man...   \n",
       "4  [ MUSINGS FIXED INCOME Goldman Sachs Asset Man...   \n",
       "\n",
       "                                              Entity  \n",
       "0  {'ORG': ['Citi', 'Bloomberg L.P.'], 'GPE': [],...  \n",
       "1  {'ORG': ['CNH', 'CHKL', 'Citibank N.A.', 'CGM'...  \n",
       "2  {'ORG': ['Feds', 'Goldman Sachs', 'Bloomberg',...  \n",
       "3  {'ORG': ['Haver Analytics', 'Goldman Sachs Ass...  \n",
       "4  {'ORG': ['Fed Federal', 'Bank', 'Goldman Sachs...  "
      ]
     },
     "execution_count": 23,
     "metadata": {},
     "output_type": "execute_result"
    }
   ],
   "source": [
    "df_docs.head()"
   ]
  },
  {
   "cell_type": "code",
   "execution_count": 24,
   "id": "ac1a661e",
   "metadata": {
    "execution": {
     "iopub.execute_input": "2023-08-29T01:46:50.456419Z",
     "iopub.status.busy": "2023-08-29T01:46:50.455699Z",
     "iopub.status.idle": "2023-08-29T01:46:50.642673Z",
     "shell.execute_reply": "2023-08-29T01:46:50.641354Z"
    },
    "papermill": {
     "duration": 0.213658,
     "end_time": "2023-08-29T01:46:50.645940",
     "exception": false,
     "start_time": "2023-08-29T01:46:50.432282",
     "status": "completed"
    },
    "tags": []
   },
   "outputs": [],
   "source": [
    "df_docs.to_csv('docs-with-entities.csv', index=False)"
   ]
  }
 ],
 "metadata": {
  "kernelspec": {
   "display_name": "Python 3",
   "language": "python",
   "name": "python3"
  },
  "language_info": {
   "codemirror_mode": {
    "name": "ipython",
    "version": 3
   },
   "file_extension": ".py",
   "mimetype": "text/x-python",
   "name": "python",
   "nbconvert_exporter": "python",
   "pygments_lexer": "ipython3",
   "version": "3.10.12"
  },
  "papermill": {
   "default_parameters": {},
   "duration": 853.148877,
   "end_time": "2023-08-29T01:46:53.480807",
   "environment_variables": {},
   "exception": null,
   "input_path": "__notebook__.ipynb",
   "output_path": "__notebook__.ipynb",
   "parameters": {},
   "start_time": "2023-08-29T01:32:40.331930",
   "version": "2.4.0"
  }
 },
 "nbformat": 4,
 "nbformat_minor": 5
}
