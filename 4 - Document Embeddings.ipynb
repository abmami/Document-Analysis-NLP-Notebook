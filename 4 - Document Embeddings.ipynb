{
 "cells": [
  {
   "cell_type": "markdown",
   "id": "6ace19f3",
   "metadata": {
    "papermill": {
     "duration": 0.010317,
     "end_time": "2023-08-22T16:25:48.282330",
     "exception": false,
     "start_time": "2023-08-22T16:25:48.272013",
     "status": "completed"
    },
    "tags": []
   },
   "source": [
    "## 1. Document Embeddings\n",
    "\n",
    "In this section, we aim to explore various methods for generating word embeddings in the context of financial documents. These embeddings capture the semantic meaning and relationships between words. They will allow us to represent the documents numerically, enabling the machine to comprehend and utilize them for various NLP tasks, including clustering, text classification, and sentiment analysis."
   ]
  },
  {
   "cell_type": "markdown",
   "id": "d71f1998",
   "metadata": {
    "papermill": {
     "duration": 0.01065,
     "end_time": "2023-08-22T16:25:48.302895",
     "exception": false,
     "start_time": "2023-08-22T16:25:48.292245",
     "status": "completed"
    },
    "tags": []
   },
   "source": [
    "### Installing & Importing required libraries"
   ]
  },
  {
   "cell_type": "code",
   "execution_count": 1,
   "id": "ab5317d0",
   "metadata": {
    "execution": {
     "iopub.execute_input": "2023-08-22T16:25:48.323949Z",
     "iopub.status.busy": "2023-08-22T16:25:48.323551Z",
     "iopub.status.idle": "2023-08-22T16:26:48.383410Z",
     "shell.execute_reply": "2023-08-22T16:26:48.381682Z"
    },
    "papermill": {
     "duration": 60.073991,
     "end_time": "2023-08-22T16:26:48.386537",
     "exception": false,
     "start_time": "2023-08-22T16:25:48.312546",
     "status": "completed"
    },
    "tags": []
   },
   "outputs": [],
   "source": [
    "%%capture\n",
    "!pip install wordninja\n",
    "!pip install contractions\n",
    "!pip install num2words \n",
    "!pip install textblob\n",
    "!pip install gensim\n",
    "!pip install joblib"
   ]
  },
  {
   "cell_type": "code",
   "execution_count": 2,
   "id": "ef54bd1e",
   "metadata": {
    "execution": {
     "iopub.execute_input": "2023-08-22T16:26:48.411360Z",
     "iopub.status.busy": "2023-08-22T16:26:48.409729Z",
     "iopub.status.idle": "2023-08-22T16:26:50.932673Z",
     "shell.execute_reply": "2023-08-22T16:26:50.930612Z"
    },
    "papermill": {
     "duration": 2.537389,
     "end_time": "2023-08-22T16:26:50.935115",
     "exception": false,
     "start_time": "2023-08-22T16:26:48.397726",
     "status": "completed"
    },
    "tags": []
   },
   "outputs": [
    {
     "name": "stderr",
     "output_type": "stream",
     "text": [
      "/opt/conda/lib/python3.10/site-packages/scipy/__init__.py:146: UserWarning: A NumPy version >=1.16.5 and <1.23.0 is required for this version of SciPy (detected version 1.23.5\n",
      "  warnings.warn(f\"A NumPy version >={np_minversion} and <{np_maxversion}\"\n"
     ]
    },
    {
     "name": "stdout",
     "output_type": "stream",
     "text": [
      "[nltk_data] Downloading package punkt to /usr/share/nltk_data...\n",
      "[nltk_data]   Package punkt is already up-to-date!\n"
     ]
    }
   ],
   "source": [
    "import pandas as pd\n",
    "import numpy as np\n",
    "import re\n",
    "import wordninja\n",
    "from num2words import num2words\n",
    "import contractions\n",
    "from textblob import TextBlob\n",
    "import gensim\n",
    "import nltk\n",
    "import joblib\n",
    "import ast\n",
    "from nltk import FreqDist\n",
    "from nltk.stem.snowball import SnowballStemmer\n",
    "from gensim.models import KeyedVectors\n",
    "from nltk.tokenize import word_tokenize\n",
    "from sklearn.feature_extraction.text import TfidfVectorizer\n",
    "import string\n",
    "nltk.download(\"punkt\")\n",
    "from gensim.parsing.preprocessing import remove_stopwords, strip_punctuation, strip_multiple_whitespaces\n",
    "import warnings \n",
    "warnings.simplefilter(\"ignore\")"
   ]
  },
  {
   "cell_type": "markdown",
   "id": "277661f3",
   "metadata": {
    "papermill": {
     "duration": 0.009469,
     "end_time": "2023-08-22T16:26:50.954909",
     "exception": false,
     "start_time": "2023-08-22T16:26:50.945440",
     "status": "completed"
    },
    "tags": []
   },
   "source": [
    "### Loading documents"
   ]
  },
  {
   "cell_type": "code",
   "execution_count": 3,
   "id": "94090396",
   "metadata": {
    "execution": {
     "iopub.execute_input": "2023-08-22T16:26:50.975609Z",
     "iopub.status.busy": "2023-08-22T16:26:50.975270Z",
     "iopub.status.idle": "2023-08-22T16:26:51.107924Z",
     "shell.execute_reply": "2023-08-22T16:26:51.106435Z"
    },
    "papermill": {
     "duration": 0.145718,
     "end_time": "2023-08-22T16:26:51.110251",
     "exception": false,
     "start_time": "2023-08-22T16:26:50.964533",
     "status": "completed"
    },
    "tags": []
   },
   "outputs": [],
   "source": [
    "# Load data\n",
    "data_path = \"/kaggle/input/3-document-cleaning/cleaned-docs.csv\"\n",
    "raw_data = pd.read_csv(data_path)\n",
    "\n",
    "# Convert lists represented as strings to lists within the dataframe\n",
    "raw_data['HSentences'] = raw_data['HSentences'].apply(ast.literal_eval)\n",
    "raw_data['MSentences'] = raw_data['MSentences'].apply(ast.literal_eval)"
   ]
  },
  {
   "cell_type": "code",
   "execution_count": 4,
   "id": "81f07a74",
   "metadata": {
    "execution": {
     "iopub.execute_input": "2023-08-22T16:26:51.132287Z",
     "iopub.status.busy": "2023-08-22T16:26:51.131937Z",
     "iopub.status.idle": "2023-08-22T16:26:51.153060Z",
     "shell.execute_reply": "2023-08-22T16:26:51.152092Z"
    },
    "papermill": {
     "duration": 0.034098,
     "end_time": "2023-08-22T16:26:51.154869",
     "exception": false,
     "start_time": "2023-08-22T16:26:51.120771",
     "status": "completed"
    },
    "tags": []
   },
   "outputs": [
    {
     "data": {
      "text/html": [
       "<div>\n",
       "<style scoped>\n",
       "    .dataframe tbody tr th:only-of-type {\n",
       "        vertical-align: middle;\n",
       "    }\n",
       "\n",
       "    .dataframe tbody tr th {\n",
       "        vertical-align: top;\n",
       "    }\n",
       "\n",
       "    .dataframe thead th {\n",
       "        text-align: right;\n",
       "    }\n",
       "</style>\n",
       "<table border=\"1\" class=\"dataframe\">\n",
       "  <thead>\n",
       "    <tr style=\"text-align: right;\">\n",
       "      <th></th>\n",
       "      <th>Report Name</th>\n",
       "      <th>Bank Name</th>\n",
       "      <th>Report Date</th>\n",
       "      <th>Page ID</th>\n",
       "      <th>Page Text</th>\n",
       "      <th>MSentences</th>\n",
       "      <th>HSentences</th>\n",
       "    </tr>\n",
       "  </thead>\n",
       "  <tbody>\n",
       "    <tr>\n",
       "      <th>0</th>\n",
       "      <td>fx_insight_e_16_janvier_2023</td>\n",
       "      <td>citi</td>\n",
       "      <td>16-1-2023</td>\n",
       "      <td>0</td>\n",
       "      <td>\\n Citi Global Wealth Investments  \\n FX Snaps...</td>\n",
       "      <td>[citi global wealth invest fx snapshot major c...</td>\n",
       "      <td>[ Citi Global Wealth Investments FX Snapshot M...</td>\n",
       "    </tr>\n",
       "    <tr>\n",
       "      <th>1</th>\n",
       "      <td>fx_insight_e_16_janvier_2023</td>\n",
       "      <td>citi</td>\n",
       "      <td>16-1-2023</td>\n",
       "      <td>3</td>\n",
       "      <td>\\n Important Disclosure \\n “Citi analysts” ref...</td>\n",
       "      <td>[import disclosur citi analyst refer invest pr...</td>\n",
       "      <td>[ Important Disclosure Citi analysts refers to...</td>\n",
       "    </tr>\n",
       "    <tr>\n",
       "      <th>2</th>\n",
       "      <td>exemple_analyse_macro_economique_goldman_sachs</td>\n",
       "      <td>goldman_sachs</td>\n",
       "      <td>NaN</td>\n",
       "      <td>0</td>\n",
       "      <td>\\n Fixed Income \\n MUSINGS \\n FIXED INCOME  Go...</td>\n",
       "      <td>[fix incom muse fix incom goldman sach asset m...</td>\n",
       "      <td>[ Fixed Income MUSINGS FIXED INCOME Goldman Sa...</td>\n",
       "    </tr>\n",
       "    <tr>\n",
       "      <th>3</th>\n",
       "      <td>exemple_analyse_macro_economique_goldman_sachs</td>\n",
       "      <td>goldman_sachs</td>\n",
       "      <td>NaN</td>\n",
       "      <td>1</td>\n",
       "      <td>\\n Fixed Income \\n MUSINGS \\n Goldman Sachs As...</td>\n",
       "      <td>[fix incom muse goldman sach asset manag fix i...</td>\n",
       "      <td>[ Fixed Income MUSINGS Goldman Sachs Asset Man...</td>\n",
       "    </tr>\n",
       "    <tr>\n",
       "      <th>4</th>\n",
       "      <td>exemple_analyse_macro_economique_goldman_sachs</td>\n",
       "      <td>goldman_sachs</td>\n",
       "      <td>NaN</td>\n",
       "      <td>2</td>\n",
       "      <td>\\n MUSINGS \\n FIXED INCOME  Goldman Sachs Asse...</td>\n",
       "      <td>[muse fix incom goldman sach asset manag centr...</td>\n",
       "      <td>[ MUSINGS FIXED INCOME Goldman Sachs Asset Man...</td>\n",
       "    </tr>\n",
       "  </tbody>\n",
       "</table>\n",
       "</div>"
      ],
      "text/plain": [
       "                                      Report Name      Bank Name Report Date  \\\n",
       "0                    fx_insight_e_16_janvier_2023           citi   16-1-2023   \n",
       "1                    fx_insight_e_16_janvier_2023           citi   16-1-2023   \n",
       "2  exemple_analyse_macro_economique_goldman_sachs  goldman_sachs         NaN   \n",
       "3  exemple_analyse_macro_economique_goldman_sachs  goldman_sachs         NaN   \n",
       "4  exemple_analyse_macro_economique_goldman_sachs  goldman_sachs         NaN   \n",
       "\n",
       "   Page ID                                          Page Text  \\\n",
       "0        0  \\n Citi Global Wealth Investments  \\n FX Snaps...   \n",
       "1        3  \\n Important Disclosure \\n “Citi analysts” ref...   \n",
       "2        0  \\n Fixed Income \\n MUSINGS \\n FIXED INCOME  Go...   \n",
       "3        1  \\n Fixed Income \\n MUSINGS \\n Goldman Sachs As...   \n",
       "4        2  \\n MUSINGS \\n FIXED INCOME  Goldman Sachs Asse...   \n",
       "\n",
       "                                          MSentences  \\\n",
       "0  [citi global wealth invest fx snapshot major c...   \n",
       "1  [import disclosur citi analyst refer invest pr...   \n",
       "2  [fix incom muse fix incom goldman sach asset m...   \n",
       "3  [fix incom muse goldman sach asset manag fix i...   \n",
       "4  [muse fix incom goldman sach asset manag centr...   \n",
       "\n",
       "                                          HSentences  \n",
       "0  [ Citi Global Wealth Investments FX Snapshot M...  \n",
       "1  [ Important Disclosure Citi analysts refers to...  \n",
       "2  [ Fixed Income MUSINGS FIXED INCOME Goldman Sa...  \n",
       "3  [ Fixed Income MUSINGS Goldman Sachs Asset Man...  \n",
       "4  [ MUSINGS FIXED INCOME Goldman Sachs Asset Man...  "
      ]
     },
     "execution_count": 4,
     "metadata": {},
     "output_type": "execute_result"
    }
   ],
   "source": [
    "raw_data.head(5)"
   ]
  },
  {
   "cell_type": "code",
   "execution_count": 5,
   "id": "37609e4d",
   "metadata": {
    "execution": {
     "iopub.execute_input": "2023-08-22T16:26:51.178567Z",
     "iopub.status.busy": "2023-08-22T16:26:51.178167Z",
     "iopub.status.idle": "2023-08-22T16:26:51.195936Z",
     "shell.execute_reply": "2023-08-22T16:26:51.194687Z"
    },
    "papermill": {
     "duration": 0.032567,
     "end_time": "2023-08-22T16:26:51.197858",
     "exception": false,
     "start_time": "2023-08-22T16:26:51.165291",
     "status": "completed"
    },
    "tags": []
   },
   "outputs": [
    {
     "data": {
      "text/html": [
       "<div>\n",
       "<style scoped>\n",
       "    .dataframe tbody tr th:only-of-type {\n",
       "        vertical-align: middle;\n",
       "    }\n",
       "\n",
       "    .dataframe tbody tr th {\n",
       "        vertical-align: top;\n",
       "    }\n",
       "\n",
       "    .dataframe thead th {\n",
       "        text-align: right;\n",
       "    }\n",
       "</style>\n",
       "<table border=\"1\" class=\"dataframe\">\n",
       "  <thead>\n",
       "    <tr style=\"text-align: right;\">\n",
       "      <th></th>\n",
       "      <th>Page ID</th>\n",
       "    </tr>\n",
       "  </thead>\n",
       "  <tbody>\n",
       "    <tr>\n",
       "      <th>count</th>\n",
       "      <td>395.000000</td>\n",
       "    </tr>\n",
       "    <tr>\n",
       "      <th>mean</th>\n",
       "      <td>29.837975</td>\n",
       "    </tr>\n",
       "    <tr>\n",
       "      <th>std</th>\n",
       "      <td>27.220832</td>\n",
       "    </tr>\n",
       "    <tr>\n",
       "      <th>min</th>\n",
       "      <td>0.000000</td>\n",
       "    </tr>\n",
       "    <tr>\n",
       "      <th>25%</th>\n",
       "      <td>6.000000</td>\n",
       "    </tr>\n",
       "    <tr>\n",
       "      <th>50%</th>\n",
       "      <td>22.000000</td>\n",
       "    </tr>\n",
       "    <tr>\n",
       "      <th>75%</th>\n",
       "      <td>48.000000</td>\n",
       "    </tr>\n",
       "    <tr>\n",
       "      <th>max</th>\n",
       "      <td>107.000000</td>\n",
       "    </tr>\n",
       "  </tbody>\n",
       "</table>\n",
       "</div>"
      ],
      "text/plain": [
       "          Page ID\n",
       "count  395.000000\n",
       "mean    29.837975\n",
       "std     27.220832\n",
       "min      0.000000\n",
       "25%      6.000000\n",
       "50%     22.000000\n",
       "75%     48.000000\n",
       "max    107.000000"
      ]
     },
     "execution_count": 5,
     "metadata": {},
     "output_type": "execute_result"
    }
   ],
   "source": [
    "raw_data.describe()"
   ]
  },
  {
   "cell_type": "markdown",
   "id": "a5f9ab73",
   "metadata": {
    "papermill": {
     "duration": 0.011698,
     "end_time": "2023-08-22T16:26:51.221290",
     "exception": false,
     "start_time": "2023-08-22T16:26:51.209592",
     "status": "completed"
    },
    "tags": []
   },
   "source": [
    "Here, we define a function to get the document based on different aggregation levels: words, sentences, or the whole text. Each row in the dataframe represents a single page. The columns MSentences and HSentences are the list of sentences for each page. One is a list of fully preprocessed sentences for the purpose of getting the embeddings, and the other is less preprocessed that will be used later to output readable answers to questions/queries in the semantic search, and information retrieval section."
   ]
  },
  {
   "cell_type": "code",
   "execution_count": 6,
   "id": "2490a20c",
   "metadata": {
    "execution": {
     "iopub.execute_input": "2023-08-22T16:26:51.244955Z",
     "iopub.status.busy": "2023-08-22T16:26:51.244546Z",
     "iopub.status.idle": "2023-08-22T16:26:51.252182Z",
     "shell.execute_reply": "2023-08-22T16:26:51.251094Z"
    },
    "papermill": {
     "duration": 0.021695,
     "end_time": "2023-08-22T16:26:51.253912",
     "exception": false,
     "start_time": "2023-08-22T16:26:51.232217",
     "status": "completed"
    },
    "tags": []
   },
   "outputs": [],
   "source": [
    "from itertools import chain\n",
    "\n",
    "def get_document(document, by=\"words\", col=\"MSentences\", paginated=False):\n",
    "    # Get the sentences of all pages\n",
    "    pages_sentences = document[col].tolist()   \n",
    "    \n",
    "    if by == \"words\":\n",
    "        pages_words = []\n",
    "        for page_sentences in pages_sentences:\n",
    "            page_words = []\n",
    "            for sentence in page_sentences:\n",
    "                sent_tokens = word_tokenize(sentence)\n",
    "                page_words.append(sent_tokens)\n",
    "            \n",
    "            pages_words.append(list(chain.from_iterable(page_words)))\n",
    "        results = pages_words\n",
    "        \n",
    "    elif by == \"sentences\":\n",
    "        results = pages_sentences\n",
    "        \n",
    "    elif by == \"document\":\n",
    "        results = [ \" \".join(page_sentences).strip() for page_sentences in pages_sentences ]\n",
    "        if not paginated: \n",
    "            return \" \".join(results).strip()\n",
    "            \n",
    "    if paginated:\n",
    "        return results\n",
    "    return list(chain.from_iterable(results))"
   ]
  },
  {
   "cell_type": "code",
   "execution_count": 7,
   "id": "689ede8a",
   "metadata": {
    "execution": {
     "iopub.execute_input": "2023-08-22T16:26:51.277126Z",
     "iopub.status.busy": "2023-08-22T16:26:51.276501Z",
     "iopub.status.idle": "2023-08-22T16:26:51.286747Z",
     "shell.execute_reply": "2023-08-22T16:26:51.285379Z"
    },
    "papermill": {
     "duration": 0.024747,
     "end_time": "2023-08-22T16:26:51.289471",
     "exception": false,
     "start_time": "2023-08-22T16:26:51.264724",
     "status": "completed"
    },
    "tags": []
   },
   "outputs": [
    {
     "name": "stdout",
     "output_type": "stream",
     "text": [
      "The document fx_insight_e_15_mai_2023 has 7 pages.\n"
     ]
    }
   ],
   "source": [
    "report_name = \"fx_insight_e_15_mai_2023\"\n",
    "document = raw_data[raw_data['Report Name'] == report_name].sort_values(by='Page ID')\n",
    "print(\"The document\", report_name, \"has\", len(document), \"pages.\")"
   ]
  },
  {
   "cell_type": "code",
   "execution_count": 8,
   "id": "688d8a1b",
   "metadata": {
    "execution": {
     "iopub.execute_input": "2023-08-22T16:26:51.313749Z",
     "iopub.status.busy": "2023-08-22T16:26:51.313403Z",
     "iopub.status.idle": "2023-08-22T16:26:51.345216Z",
     "shell.execute_reply": "2023-08-22T16:26:51.343967Z"
    },
    "papermill": {
     "duration": 0.046583,
     "end_time": "2023-08-22T16:26:51.347192",
     "exception": false,
     "start_time": "2023-08-22T16:26:51.300609",
     "status": "completed"
    },
    "tags": []
   },
   "outputs": [
    {
     "name": "stdout",
     "output_type": "stream",
     "text": [
      "['invest', 'product', 'bank', 'deposit', 'govern', 'insur', 'bank', 'guarante', 'lose', 'valu']\n",
      "['invest product bank deposit', 'govern insur', 'bank guarante']\n",
      "invest product bank deposit govern insur bank guarante lose valu major currenc perform sourc bloombe\n"
     ]
    }
   ],
   "source": [
    "# Get the first 10 words of a page of the document\n",
    "page_id = 0\n",
    "print(get_document(document, by=\"words\", col=\"MSentences\", paginated=True)[page_id][:10])\n",
    "\n",
    "# Get the first 3 sentences of a page of the document\n",
    "print(get_document(document, by=\"sentences\", col=\"MSentences\", paginated=True)[page_id][:3])\n",
    "\n",
    "# Get a small chunk from the whole document\n",
    "print(get_document(document, by=\"document\", col=\"MSentences\", paginated=False)[:100])"
   ]
  },
  {
   "cell_type": "code",
   "execution_count": 9,
   "id": "9fd967f6",
   "metadata": {
    "execution": {
     "iopub.execute_input": "2023-08-22T16:26:51.370397Z",
     "iopub.status.busy": "2023-08-22T16:26:51.370019Z",
     "iopub.status.idle": "2023-08-22T16:26:51.376163Z",
     "shell.execute_reply": "2023-08-22T16:26:51.374722Z"
    },
    "papermill": {
     "duration": 0.020096,
     "end_time": "2023-08-22T16:26:51.378089",
     "exception": false,
     "start_time": "2023-08-22T16:26:51.357993",
     "status": "completed"
    },
    "tags": []
   },
   "outputs": [
    {
     "name": "stdout",
     "output_type": "stream",
     "text": [
      "Safe-haven Currencies CHF Citi views & strategy Bias/ Forecasts/ Key levels Citi FX outlook Room for more short-term hawkishness - domestic factors enable an incrementally hawkish SNB, which should keep CHF supported. SNBs conditional inflation forecast would suggest the need for additional hikes, and the improvement in leading indicators creates room for a hawkish surprise. Previously USDCHF: 0 3mths: 0.90 USDCHF: 6 12mths: 0.87 USDCHF: LT: 0.85 Currently (as of Apr): USDCHF: 0 3mths: 0.87 USDCHF: 6 12mths: 0.86 USDCHF: LT: 0.85 6-12mths: Bullish CHF vs USD, moderately bearish vs EUR JPY Citi views & strategy Bias/ Forecasts/ Key levels Citi FX outlook BoJ YCC shift remains in play. Citi analysts base case is for shortening of the target duration from 10y to 5y or 3y in June meeting (after final outcome of spring wage negotiations). For US, as more hikes are priced, total cycle cuts are likely to deepen. Even in the scenario of a hawkish Fed, we think it may be hard for US duration to sell-off too much, but if things gets worse, it has a lot further to rally. This also makes JPY an asymmetric bet. Previously USDJPY: 0 3mths: 132.0 USDJPY: 6 12mths: 120.0 USDJPY: LT: 130.0 Currently (as of Apr): USDJPY: 0 3mths: 132.0 USDJPY: 6 12mths: 120.0 USDJPY: LT: 130.0 6-12mths: Bullish JPY vs USD, bullish vs CNH\n"
     ]
    }
   ],
   "source": [
    "print(get_document(document, by=\"document\", col=\"HSentences\", paginated=True)[4])"
   ]
  },
  {
   "cell_type": "markdown",
   "id": "257ad08f",
   "metadata": {
    "papermill": {
     "duration": 0.011066,
     "end_time": "2023-08-22T16:26:51.400566",
     "exception": false,
     "start_time": "2023-08-22T16:26:51.389500",
     "status": "completed"
    },
    "tags": []
   },
   "source": [
    "### 1.1. Document Embeddings using GloVe\n",
    "\n",
    "GloVe (Global Vectors for Word Representation) is an unsupervised learning algorithm for obtaining vector representations for words. Training is performed on aggregated global word-word co-occurrence statistics from a corpus, and the resulting representations showcase interesting linear substructures of the word vector space. Those embeddings are capable of capturing semantic relationships between words.\n",
    "\n",
    "#### Approach:\n",
    "\n",
    "1. Data Preparation: The first step in the process is to ensure that the documents have been parsed and cleaned, which has already been accomplished in the previous notebook. We will be using the output of that notebook as our dataset for this current task.\n",
    "\n",
    "2. Tokenization: For generating vector embeddings at the sentence level, we need to tokenize the sentences within each page of the document. Tokenization is the process of breaking down a sentence into individual words or tokens. This step is essential as it allows us to convert raw text into a format that can be used for further analysis. This step has also been accomplished in the previous notebook.\n",
    "\n",
    "3. Word Vector Retrieval: Once we have tokenized the sentences, the next step is to retrieve the vector embeddings for each word in the sentence using the pre-trained GloVe embeddings. These embeddings are 300-dimensional representations, capturing semantic information about each word.\n",
    "\n",
    "4. Sentence Vector Calculation: With the word embeddings at hand, we calculate an average vector for each sentence. This is achieved by taking the average of the individual word vectors in the sentence. The result is a representative vector that captures the overall meaning of the sentence.\n",
    "\n",
    "5. Page-level Sentence Embeddings: All sentences within a page of the document go through the same process of tokenization, word vector retrieval, and sentence vector calculation. Consequently, each page will have a list of sentences and their corresponding vector representations.\n",
    "\n",
    "Now, we have the option to further condense the information to represent each page by calculating an average vector of all the sentence vectors within that page. This will provide us with a representative vector for each page. If we wish to represent the entire document as a single vector, we can take an additional average across all the page-level vectors. This final step results in a vector that represents the entire financial document."
   ]
  },
  {
   "cell_type": "markdown",
   "id": "a8d0b872",
   "metadata": {
    "papermill": {
     "duration": 0.010964,
     "end_time": "2023-08-22T16:26:51.422697",
     "exception": false,
     "start_time": "2023-08-22T16:26:51.411733",
     "status": "completed"
    },
    "tags": []
   },
   "source": [
    "#### Loading GloVe Embeddings"
   ]
  },
  {
   "cell_type": "code",
   "execution_count": 10,
   "id": "898c32ef",
   "metadata": {
    "execution": {
     "iopub.execute_input": "2023-08-22T16:26:51.446004Z",
     "iopub.status.busy": "2023-08-22T16:26:51.445672Z",
     "iopub.status.idle": "2023-08-22T16:29:53.255680Z",
     "shell.execute_reply": "2023-08-22T16:29:53.253963Z"
    },
    "papermill": {
     "duration": 181.824079,
     "end_time": "2023-08-22T16:29:53.257837",
     "exception": false,
     "start_time": "2023-08-22T16:26:51.433758",
     "status": "completed"
    },
    "tags": []
   },
   "outputs": [],
   "source": [
    "%%capture \n",
    "!wget -N http://nlp.stanford.edu/data/glove.6B.zip\n",
    "!unzip -o glove.6B.zip -d glove.6B\n",
    "!rm glove.6B/glove.6B.50d.txt\n",
    "!rm glove.6B/glove.6B.100d.txt\n",
    "!rm glove.6B/glove.6B.200d.txt\n",
    "!rm glove.6B.zip"
   ]
  },
  {
   "cell_type": "code",
   "execution_count": 11,
   "id": "fe131c84",
   "metadata": {
    "execution": {
     "iopub.execute_input": "2023-08-22T16:29:53.282121Z",
     "iopub.status.busy": "2023-08-22T16:29:53.281694Z",
     "iopub.status.idle": "2023-08-22T16:30:53.285742Z",
     "shell.execute_reply": "2023-08-22T16:30:53.284050Z"
    },
    "papermill": {
     "duration": 60.028771,
     "end_time": "2023-08-22T16:30:53.297669",
     "exception": false,
     "start_time": "2023-08-22T16:29:53.268898",
     "status": "completed"
    },
    "tags": []
   },
   "outputs": [
    {
     "name": "stdout",
     "output_type": "stream",
     "text": [
      "CPU times: user 59 s, sys: 2.45 s, total: 1min 1s\n",
      "Wall time: 60 s\n"
     ]
    }
   ],
   "source": [
    "%%time\n",
    "glove_vectors = \"/kaggle/working/glove.6B/glove.6B.300d.txt\"\n",
    "glove_model = KeyedVectors.load_word2vec_format(glove_vectors, binary=False, encoding='utf-8', no_header=True)"
   ]
  },
  {
   "cell_type": "markdown",
   "id": "84f1f827",
   "metadata": {
    "papermill": {
     "duration": 0.010676,
     "end_time": "2023-08-22T16:30:53.319424",
     "exception": false,
     "start_time": "2023-08-22T16:30:53.308748",
     "status": "completed"
    },
    "tags": []
   },
   "source": [
    "#### Generating Embeddings\n",
    "\n",
    "Based on a single document from the dataset, we'll try to generate its embeddings using different aggregation levels. In other words, we'll have words embeddings, sentences embeddings, and a single-vector document embedding. To represent a sentence in the document as one vector, we compute the average vector of the embeddings of its words. The same way is applied to get a document embedding. One can also use the sum of vectors instead of the average, but here we'll just stick to the average vector."
   ]
  },
  {
   "cell_type": "code",
   "execution_count": 12,
   "id": "167db86e",
   "metadata": {
    "execution": {
     "iopub.execute_input": "2023-08-22T16:30:53.344611Z",
     "iopub.status.busy": "2023-08-22T16:30:53.344205Z",
     "iopub.status.idle": "2023-08-22T16:30:53.358977Z",
     "shell.execute_reply": "2023-08-22T16:30:53.357615Z"
    },
    "papermill": {
     "duration": 0.030726,
     "end_time": "2023-08-22T16:30:53.361344",
     "exception": false,
     "start_time": "2023-08-22T16:30:53.330618",
     "status": "completed"
    },
    "tags": []
   },
   "outputs": [],
   "source": [
    "def get_word_embedding(word, model):\n",
    "    \"\"\"Retrieve Word Embeddings of a Word using GloVe or Word2Vec-based Models\"\"\"\n",
    "    w2v = False\n",
    "    try:\n",
    "        if hasattr(model, 'wv'):\n",
    "            w2v = True\n",
    "            vec = model.wv[word]\n",
    "        else: \n",
    "            vec = model[word]\n",
    "    except KeyError:\n",
    "        if w2v: \n",
    "            vec = model.wv['x']\n",
    "        else: \n",
    "            vec = model['x']  \n",
    "    return vec\n",
    "\n",
    "def get_sentence_embedding(sentence, embedding_model):\n",
    "    if hasattr(embedding_model, 'wv'):\n",
    "        w2v = True\n",
    "    # Tokenize the sentence using NLTK tokenizer\n",
    "    words = word_tokenize(sentence)\n",
    "    # Get word vectors for each word in the sentence\n",
    "    word_vectors = [get_word_embedding(word, embedding_model) for word in words]\n",
    "    \n",
    "    if not word_vectors:\n",
    "        # normally this wouldn't happen unless the sentence is empty\n",
    "        if w2v:\n",
    "            return np.zeros_like(embedding_model.wv['x']).reshape(1, -1)\n",
    "        else:\n",
    "            return np.zeros_like(embedding_model['x']).reshape(1, -1)\n",
    "    \n",
    "    # Calculate the mean of the words vectors (Not the best way but gives an idea about a sentence) \n",
    "    mean_embedding = np.mean(word_vectors, axis=0)\n",
    "    return mean_embedding.reshape(1, -1)"
   ]
  },
  {
   "cell_type": "code",
   "execution_count": 13,
   "id": "8b94766b",
   "metadata": {
    "execution": {
     "iopub.execute_input": "2023-08-22T16:30:53.387227Z",
     "iopub.status.busy": "2023-08-22T16:30:53.386508Z",
     "iopub.status.idle": "2023-08-22T16:30:53.396011Z",
     "shell.execute_reply": "2023-08-22T16:30:53.394902Z"
    },
    "papermill": {
     "duration": 0.024966,
     "end_time": "2023-08-22T16:30:53.398391",
     "exception": false,
     "start_time": "2023-08-22T16:30:53.373425",
     "status": "completed"
    },
    "tags": []
   },
   "outputs": [],
   "source": [
    "def get_document_embeddings(document, by=\"words\", paginated=False, model=None):\n",
    "    if by == \"words\":\n",
    "        doc = get_document(document, by=\"words\", col=\"MSentences\", paginated=paginated)\n",
    "        # if paginated, we have a list of lists of words, else it's a single list of words\n",
    "        words = []\n",
    "        if paginated:\n",
    "            for page in doc:\n",
    "                page_words = []\n",
    "                for word in page:\n",
    "                    word_embedding = get_word_embedding(word, model)\n",
    "                    word_item = [word, word_embedding]  \n",
    "                    page_words.append(word_item)\n",
    "                words.append(page_words)\n",
    "        else:\n",
    "            for word in doc:\n",
    "                word_embedding = get_word_embedding(word, model)\n",
    "                word_item = [word, word_embedding]\n",
    "                words.append(word_item)\n",
    "        return words\n",
    "    \n",
    "    elif by == \"sentences\":\n",
    "        doc = get_document(document, by=\"sentences\", col=\"MSentences\", paginated=paginated)\n",
    "        sentences = []\n",
    "        if paginated:\n",
    "            for page in doc:\n",
    "                page_sentences = []\n",
    "                for sentence in page:\n",
    "                    sentence_embedding = get_sentence_embedding(sentence, model)\n",
    "                    sentence_item = [sentence, sentence_embedding[0]]\n",
    "                    page_sentences.append(sentence_item)\n",
    "                sentences.append(page_sentences)\n",
    "        else:\n",
    "            for sentence in doc:\n",
    "                sentence_embedding = get_sentence_embedding(sentence, model)\n",
    "                sentence_item = [sentence, sentence_embedding[0]]\n",
    "                sentences.append(sentence_item)\n",
    "        return sentences"
   ]
  },
  {
   "cell_type": "code",
   "execution_count": 14,
   "id": "23de9745",
   "metadata": {
    "execution": {
     "iopub.execute_input": "2023-08-22T16:30:53.423181Z",
     "iopub.status.busy": "2023-08-22T16:30:53.422608Z",
     "iopub.status.idle": "2023-08-22T16:30:53.450274Z",
     "shell.execute_reply": "2023-08-22T16:30:53.449656Z"
    },
    "papermill": {
     "duration": 0.042399,
     "end_time": "2023-08-22T16:30:53.452153",
     "exception": false,
     "start_time": "2023-08-22T16:30:53.409754",
     "status": "completed"
    },
    "tags": []
   },
   "outputs": [
    {
     "data": {
      "text/plain": [
       "['product',\n",
       " array([ 1.3399e-01,  9.5343e-01, -2.1405e-02, -4.4056e-01, -3.1848e-01,\n",
       "        -1.1838e-02, -1.3645e-01,  3.1068e-01,  2.1663e-01, -2.0424e+00,\n",
       "        -1.8248e-01, -1.6210e-01, -5.6770e-01, -3.7521e-01, -5.0013e-02,\n",
       "        -2.0031e-02, -2.4038e-01, -4.9640e-02,  2.8889e-01, -3.9435e-01,\n",
       "        -1.5044e-01,  1.9880e-01,  1.6445e-01,  4.1103e-01, -4.6098e-01,\n",
       "         4.0521e-01, -4.5604e-01, -9.8286e-02,  1.3198e-01,  1.3040e-01,\n",
       "        -5.5641e-01,  2.2624e-01,  1.1782e-01,  6.0687e-02, -1.0273e+00,\n",
       "         6.4199e-01, -1.3349e-01,  1.4734e-02,  2.5083e-01, -3.1211e-01,\n",
       "        -3.8832e-01,  1.5705e-01, -6.9372e-02,  2.1884e-01, -2.9250e-01,\n",
       "        -3.9328e-01, -1.8500e-01, -2.9737e-01, -5.8112e-02,  1.6959e-01,\n",
       "        -7.1924e-03, -1.6866e-01,  1.3513e-01,  3.0760e-01, -3.7039e-01,\n",
       "         2.4984e-01,  4.0689e-01,  2.2337e-02, -3.8146e-01, -1.1498e-01,\n",
       "        -4.6484e-03, -1.0378e-04, -6.8782e-04, -1.5847e-01, -4.9675e-02,\n",
       "         1.8417e-01, -3.1724e-01,  9.6486e-02, -2.3484e-01,  3.8550e-01,\n",
       "        -2.0518e-01,  3.4840e-01,  3.8871e-01,  5.6498e-02, -1.1700e-01,\n",
       "        -6.0601e-01,  3.7759e-01, -1.9762e-01, -5.4710e-01,  3.7267e-01,\n",
       "        -4.0250e-01, -1.1840e-01,  1.3545e-01, -7.7328e-02,  7.9144e-01,\n",
       "         1.4099e-01, -3.1071e-02, -2.0303e-02, -4.3200e-02, -2.3942e-01,\n",
       "        -3.8627e-01, -3.9198e-03, -5.4151e-02, -1.6229e-01,  1.9174e-01,\n",
       "         1.1541e-01, -5.0463e-01,  1.1231e-01,  3.4554e-01, -9.0584e-01,\n",
       "        -3.3653e-01,  3.0952e-01,  2.1053e-01, -3.0430e-01, -3.7743e-01,\n",
       "        -4.8154e-01,  6.2714e-02,  1.3357e-01, -5.6770e-01,  1.7149e-01,\n",
       "         3.1029e-01, -1.9469e-01, -3.2352e-01, -4.7379e-01,  1.8752e-02,\n",
       "        -2.7409e-01,  2.6345e-01, -2.1399e-02, -2.6470e-01,  3.5336e-01,\n",
       "        -5.4866e-02, -2.4477e-01,  3.1207e-01,  2.9015e-01,  1.5021e-01,\n",
       "         1.7641e-01,  1.8112e-01,  5.1728e-01,  9.8888e-02,  3.8252e-01,\n",
       "         5.2427e-01,  2.0980e-01,  5.8124e-03,  2.0432e-01, -1.5481e-01,\n",
       "         1.1109e-01,  2.3747e-01,  2.3292e-01,  2.3529e-01,  8.0502e-01,\n",
       "         4.0424e-01, -5.3895e-01,  2.5718e-01, -2.6837e-01,  9.7199e-02,\n",
       "        -1.6521e-02, -3.1538e-01,  3.0085e-01,  2.0786e-01, -2.9192e-01,\n",
       "         2.8775e-01, -7.0286e-02,  2.5672e-01, -5.8883e-01, -3.0351e-01,\n",
       "        -2.0290e-01, -5.9101e-01,  2.9444e-01, -1.5720e-01, -6.0919e-01,\n",
       "        -1.6349e-01,  1.4632e-01, -2.2287e-01,  1.7118e-01,  2.8094e-01,\n",
       "        -8.8053e-01, -2.3550e-01,  7.7526e-02, -9.3288e-02,  4.8944e-01,\n",
       "        -3.3491e-03,  6.6161e-02, -3.0702e-01,  5.4912e-01,  8.2235e-02,\n",
       "        -6.2395e-02,  4.2131e-01, -2.4815e-01, -3.5079e-02, -2.9288e-01,\n",
       "        -3.0740e-01, -1.8619e-01, -4.1536e-01, -1.8560e-01,  3.9087e-01,\n",
       "        -2.1075e-01,  1.2808e-01, -4.3700e-01,  5.3752e-02,  2.2870e-01,\n",
       "         1.3517e-01,  7.9832e-01, -1.1318e-01,  3.1781e-01, -6.9607e-02,\n",
       "        -3.0550e-01, -9.8794e-02,  6.2539e-02, -3.4140e-01,  3.3632e-02,\n",
       "         4.0579e-01, -6.0509e-01,  6.2297e-01,  3.0877e-01,  1.7151e-01,\n",
       "         1.9572e-01,  8.9043e-02,  5.1538e-01, -1.4339e-01,  2.2425e-02,\n",
       "        -2.1697e-01, -1.2690e-01, -1.5760e-02, -2.7304e-01, -4.3646e-01,\n",
       "         5.6137e-01,  2.2008e-01,  4.9506e-01, -8.0042e-02, -1.1393e-01,\n",
       "        -2.7240e-01,  3.7514e-01, -3.7288e-01, -1.8438e-01,  2.9509e-01,\n",
       "         2.5939e-01,  2.4122e-01,  4.5490e-01,  2.4354e-01, -6.6733e-02,\n",
       "        -1.1639e-01,  3.5976e-01, -8.4851e-02, -4.4973e-02,  1.4569e-01,\n",
       "        -1.9241e-01,  6.5277e-01, -1.3308e-01, -2.3991e-01,  4.3020e-01,\n",
       "         7.0020e-02,  1.4977e-01,  4.0259e-02, -2.5967e-02, -1.2122e+00,\n",
       "         1.0951e-01,  2.4023e-01, -4.1686e-01,  4.1128e-01,  1.9113e-01,\n",
       "         1.5947e-01,  2.7135e-01,  1.8880e-01, -4.0099e-02, -1.8884e-01,\n",
       "        -1.5977e-01, -3.0428e-01,  1.6704e-03,  3.1986e-01,  5.9140e-01,\n",
       "         8.2183e-02, -4.5721e-01,  1.0100e-01, -3.4475e-01,  8.3112e-02,\n",
       "         3.0477e-01, -9.3178e-02,  4.6933e-03,  5.9570e-01, -2.1110e-01,\n",
       "         2.5632e-01,  2.3904e-02, -3.8351e-01, -5.4601e-01, -3.5441e-01,\n",
       "         4.2890e-01, -1.2634e+00, -1.7367e-01,  2.7058e-02, -1.6146e-01,\n",
       "        -2.1471e-01, -6.3065e-02, -4.2695e-01,  3.4061e-01,  1.3443e-01,\n",
       "         3.5301e-01, -1.2408e-03, -5.6988e-01, -5.8440e-02,  3.0751e-01,\n",
       "         3.3602e-01,  5.8953e-02,  2.2273e-01,  1.5607e-02,  2.2704e-01,\n",
       "         4.3864e-01,  1.0824e-01, -1.9695e-01, -1.4728e-01, -1.9983e-01],\n",
       "       dtype=float32)]"
      ]
     },
     "execution_count": 14,
     "metadata": {},
     "output_type": "execute_result"
    }
   ],
   "source": [
    "# Get the word embedding of the first word of the document\n",
    "get_document_embeddings(document, by=\"words\", paginated=False, model=glove_model)[1]"
   ]
  },
  {
   "cell_type": "code",
   "execution_count": 15,
   "id": "a9668643",
   "metadata": {
    "execution": {
     "iopub.execute_input": "2023-08-22T16:30:53.477547Z",
     "iopub.status.busy": "2023-08-22T16:30:53.477178Z",
     "iopub.status.idle": "2023-08-22T16:30:53.512670Z",
     "shell.execute_reply": "2023-08-22T16:30:53.511511Z"
    },
    "papermill": {
     "duration": 0.050857,
     "end_time": "2023-08-22T16:30:53.514773",
     "exception": false,
     "start_time": "2023-08-22T16:30:53.463916",
     "status": "completed"
    },
    "tags": []
   },
   "outputs": [
    {
     "data": {
      "text/plain": [
       "['invest product bank deposit',\n",
       " array([-2.83167511e-01,  1.57509252e-01, -2.64883757e-01, -1.45697504e-01,\n",
       "         2.34204501e-01, -1.61922008e-01,  3.48022491e-01,  5.04252538e-02,\n",
       "        -1.33927003e-01, -1.62987494e+00, -5.80024943e-02, -2.47445002e-01,\n",
       "         7.63149932e-02, -2.68419981e-01, -1.80604979e-02, -2.79577732e-01,\n",
       "        -1.91222489e-01, -4.86485004e-01,  5.60092553e-02, -3.28714997e-01,\n",
       "         3.55305001e-02, -3.21049988e-02,  1.08314753e-01,  5.36522493e-02,\n",
       "        -1.52801007e-01,  2.30902452e-02, -1.06143743e-01,  1.97545484e-01,\n",
       "        -3.54631752e-01,  7.92725012e-03, -3.32102507e-01,  2.04788893e-01,\n",
       "         2.64919996e-01,  1.48712739e-01, -4.90858495e-01,  5.82342446e-02,\n",
       "        -1.09559998e-01,  2.55208492e-01,  8.51374939e-02, -2.58603007e-01,\n",
       "        -4.25881267e-01,  1.45485010e-02, -8.74930024e-02,  4.56924975e-01,\n",
       "         4.49222550e-02, -2.52350003e-01, -1.68006912e-01,  1.20587498e-01,\n",
       "        -3.03364754e-01,  3.35247487e-01, -3.59291062e-02, -1.03637993e-01,\n",
       "         2.65875012e-02,  2.86482461e-02, -7.33380020e-02,  2.45940730e-01,\n",
       "         2.59544253e-01,  1.69495255e-01, -1.72348499e-01, -1.96304247e-01,\n",
       "         2.47853976e-02,  1.73028052e-01, -3.06694508e-02, -2.22683489e-01,\n",
       "         2.65901268e-01,  2.43065745e-01,  1.69784993e-01, -2.02623487e-01,\n",
       "        -2.07924753e-01,  9.72307622e-02, -3.27677503e-02,  3.49089980e-01,\n",
       "         4.72202510e-01,  3.54959518e-01, -1.29597485e-02, -1.99937746e-01,\n",
       "        -1.78375006e-01, -2.38040507e-01,  1.35559991e-01, -4.09822524e-01,\n",
       "        -2.54638016e-01,  3.47549990e-02, -1.84009999e-01,  2.02730112e-02,\n",
       "         7.27259994e-01,  2.22624004e-01, -2.93665260e-01, -1.00670256e-01,\n",
       "        -2.00924948e-02,  9.25150048e-03, -1.64634243e-01,  3.70522559e-01,\n",
       "        -4.63427752e-01,  5.16039990e-02,  3.61970007e-01, -1.67102501e-01,\n",
       "        -4.12887514e-01,  1.88932508e-01,  1.25647500e-01, -3.58852506e-01,\n",
       "         1.00969493e-01,  2.00284749e-01, -1.61100000e-01, -2.08741754e-01,\n",
       "         1.42537266e-01, -1.15569487e-01, -2.07467526e-02,  2.92093515e-01,\n",
       "        -2.48452514e-01,  2.12944299e-01, -4.39695001e-01, -7.86570013e-01,\n",
       "        -2.02779993e-01, -1.76149100e-01,  1.31005362e-01,  2.14949995e-01,\n",
       "         3.96182477e-01, -2.35629994e-02,  2.95332491e-01,  1.07317464e-02,\n",
       "         1.90903500e-01,  2.78642505e-01,  4.27315086e-02,  4.17428493e-01,\n",
       "         1.31844997e-01,  2.70747513e-01,  2.22079009e-01, -5.18825129e-02,\n",
       "        -2.32830495e-01, -1.77825475e-03, -2.97850035e-02,  8.55567530e-02,\n",
       "        -1.43939406e-01,  5.25622517e-02, -2.07240000e-01,  2.01434001e-01,\n",
       "         4.96040024e-02, -8.72149915e-02,  8.49749520e-03,  1.42492284e-03,\n",
       "        -4.78875004e-02, -2.24124998e-01,  2.98342496e-01, -2.30728239e-01,\n",
       "        -7.47963339e-02, -2.32580006e-01, -4.01167512e-01,  7.16097504e-02,\n",
       "        -3.19952480e-02,  5.19950017e-02,  1.01275004e-01, -1.73094004e-01,\n",
       "         1.52678251e-01, -3.52944970e-01,  2.66650096e-02, -3.42316255e-02,\n",
       "        -4.04920012e-01,  7.91499019e-03, -2.13252485e-01, -2.29524970e-01,\n",
       "        -1.10349998e-01,  3.64198983e-01, -8.61638784e-02,  4.80010003e-01,\n",
       "         8.17173943e-02, -2.40587488e-01,  3.52277488e-01, -1.91326007e-01,\n",
       "         1.22000501e-01,  9.72205028e-02,  4.47659753e-02,  1.04972497e-01,\n",
       "        -1.72500253e-01,  2.69675493e-01,  1.25887513e-01, -4.14252505e-02,\n",
       "         2.23475695e-02, -2.79734999e-01,  3.54730785e-02,  3.44877273e-01,\n",
       "         8.33532512e-02, -2.81287491e-01, -1.47850439e-03, -4.04174924e-02,\n",
       "         2.99544871e-01,  1.12897512e-02,  2.72644252e-01, -1.89624950e-02,\n",
       "         2.71236986e-01,  1.70185000e-01,  4.22270000e-01,  5.49562514e-01,\n",
       "        -1.08529992e-01,  7.41977543e-02,  1.68072999e-01, -3.72049987e-01,\n",
       "         2.52797484e-01, -2.02172756e-01, -9.12084952e-02,  1.80835500e-01,\n",
       "         4.19425011e-01,  1.04088746e-01, -2.21790001e-01,  3.45777243e-01,\n",
       "        -4.72675040e-02,  3.60067599e-02,  1.32938251e-01, -7.86887407e-02,\n",
       "         8.57817456e-02, -2.22950995e-01, -3.02613527e-02, -3.41027498e-01,\n",
       "         3.39750946e-03, -2.74248719e-01, -1.01834245e-01,  3.22967499e-01,\n",
       "         8.04527476e-02,  3.54941249e-01,  2.00305004e-02, -1.99968703e-02,\n",
       "        -2.87149996e-02,  3.60890031e-02, -1.15136251e-01,  1.81692496e-01,\n",
       "         1.88610509e-01,  1.28802240e-01, -1.05580002e-01,  2.84930259e-01,\n",
       "         2.74742752e-01,  2.21242514e-02, -4.61124986e-01,  1.70437500e-01,\n",
       "        -1.10792756e-01,  4.43714261e-01,  5.14484979e-02, -5.11097535e-02,\n",
       "        -9.04800147e-02, -1.54005047e-02,  2.21274979e-02, -1.84102505e-01,\n",
       "         7.80700073e-02,  2.18659997e-01,  3.58289748e-01, -6.45895004e-02,\n",
       "        -5.62871516e-01,  1.62441000e-01,  2.41413265e-01, -7.56015003e-01,\n",
       "        -1.41990006e-01, -4.23832506e-01,  2.97615737e-01,  1.36912495e-01,\n",
       "         2.38817498e-01,  4.28882539e-02, -7.06375018e-02, -1.88167498e-01,\n",
       "        -7.74280012e-01,  3.29097629e-01,  3.68479997e-01,  1.69822499e-01,\n",
       "         5.07383287e-01, -1.07992508e-01, -1.80382505e-01,  1.20551601e-01,\n",
       "         3.55964005e-01,  8.93794894e-02,  1.08196750e-01,  6.12008311e-02,\n",
       "         1.22859240e-01,  7.18000084e-02,  1.12792000e-01, -2.18321502e-01,\n",
       "        -9.31880027e-02,  1.25145003e-01, -7.91079998e-02, -8.51925015e-02,\n",
       "        -1.26890004e+00, -2.68657506e-01,  5.36070019e-02, -1.88440740e-01,\n",
       "        -6.27575163e-03, -1.71971247e-01, -4.63265002e-01, -2.34689996e-01,\n",
       "        -2.52037495e-01,  2.98787504e-01,  3.17797303e-01, -1.30925000e-01,\n",
       "         2.24969998e-01,  9.14650038e-02, -7.98407942e-02,  4.26042527e-02,\n",
       "        -1.93692539e-02,  2.48622503e-02,  3.92797530e-01,  6.75312519e-01,\n",
       "         8.40850025e-02, -1.58457503e-01, -2.01754987e-01, -1.58304989e-01],\n",
       "       dtype=float32)]"
      ]
     },
     "execution_count": 15,
     "metadata": {},
     "output_type": "execute_result"
    }
   ],
   "source": [
    "# Get the sentence embedding of the first sentence of the document\n",
    "get_document_embeddings(document, by=\"sentences\", paginated=True, model=glove_model)[0][0]"
   ]
  },
  {
   "cell_type": "markdown",
   "id": "ea8fdfb7",
   "metadata": {
    "papermill": {
     "duration": 0.011351,
     "end_time": "2023-08-22T16:30:53.537880",
     "exception": false,
     "start_time": "2023-08-22T16:30:53.526529",
     "status": "completed"
    },
    "tags": []
   },
   "source": [
    "**Most Similar/Close Words** \n",
    "\n",
    "Let's try to find the words that are very close to the word \"bank\" within our document."
   ]
  },
  {
   "cell_type": "code",
   "execution_count": 16,
   "id": "7fb0d7ff",
   "metadata": {
    "execution": {
     "iopub.execute_input": "2023-08-22T16:30:53.563625Z",
     "iopub.status.busy": "2023-08-22T16:30:53.563007Z",
     "iopub.status.idle": "2023-08-22T16:30:54.125413Z",
     "shell.execute_reply": "2023-08-22T16:30:54.124101Z"
    },
    "papermill": {
     "duration": 0.577396,
     "end_time": "2023-08-22T16:30:54.127322",
     "exception": false,
     "start_time": "2023-08-22T16:30:53.549926",
     "status": "completed"
    },
    "tags": []
   },
   "outputs": [
    {
     "name": "stdout",
     "output_type": "stream",
     "text": [
      "central: 0.5375902056694031\n",
      "credit: 0.531377911567688\n",
      "citibank: 0.4939170479774475\n",
      "deposit: 0.45129913091659546\n",
      "citigroup: 0.4335481524467468\n"
     ]
    }
   ],
   "source": [
    "import numpy as np\n",
    "from sklearn.metrics.pairwise import cosine_similarity\n",
    "\n",
    "def most_similar_words(word_list, target_word, top_n=5):\n",
    "    target_embedding = None\n",
    "    similar_words = []\n",
    "    results = []\n",
    "    # Find the embedding for the target word\n",
    "    for word, embedding in word_list:\n",
    "        if word == target_word:\n",
    "            target_embedding = embedding.reshape(1, -1) \n",
    "            break\n",
    "\n",
    "    if target_embedding is None:\n",
    "        return similar_words \n",
    "\n",
    "    # Calculate cosine similarity and find most similar words\n",
    "    for word, embedding in word_list:\n",
    "        if word != target_word:\n",
    "            similarity = cosine_similarity(target_embedding, embedding.reshape(1, -1))[0][0]\n",
    "            if word in similar_words:\n",
    "                continue\n",
    "            similar_words.append(word)\n",
    "            results.append((word, similarity))\n",
    "\n",
    "    results.sort(key=lambda x: x[1], reverse=True)\n",
    "    return results[:top_n]\n",
    "\n",
    "target_word = \"bank\"\n",
    "\n",
    "glove_words_embeddings = get_document_embeddings(document, by=\"words\", paginated=False, model=glove_model)\n",
    "similar_words = most_similar_words(glove_words_embeddings, target_word)\n",
    "\n",
    "for word, similarity in similar_words:\n",
    "    print(f\"{word}: {similarity}\")"
   ]
  },
  {
   "cell_type": "markdown",
   "id": "9ebcce20",
   "metadata": {
    "papermill": {
     "duration": 0.010604,
     "end_time": "2023-08-22T16:30:54.149075",
     "exception": false,
     "start_time": "2023-08-22T16:30:54.138471",
     "status": "completed"
    },
    "tags": []
   },
   "source": [
    "**Word Analogy**\n",
    "\n",
    "\"NZD is to New Zealand as AUD is to ?\"\n",
    "\n",
    "\n"
   ]
  },
  {
   "cell_type": "code",
   "execution_count": 17,
   "id": "fa64d5ed",
   "metadata": {
    "execution": {
     "iopub.execute_input": "2023-08-22T16:30:54.173637Z",
     "iopub.status.busy": "2023-08-22T16:30:54.173291Z",
     "iopub.status.idle": "2023-08-22T16:30:54.321405Z",
     "shell.execute_reply": "2023-08-22T16:30:54.320115Z"
    },
    "papermill": {
     "duration": 0.164695,
     "end_time": "2023-08-22T16:30:54.324569",
     "exception": false,
     "start_time": "2023-08-22T16:30:54.159874",
     "status": "completed"
    },
    "tags": []
   },
   "outputs": [
    {
     "name": "stdout",
     "output_type": "stream",
     "text": [
      "Analogy: nzd is to zealand as aud is to australia\n"
     ]
    }
   ],
   "source": [
    "positive_words = ['nzd', 'zealand']\n",
    "word_to_find_analogy_for = 'aud'\n",
    "analogy_results = glove_model.most_similar(positive=positive_words, negative=[word_to_find_analogy_for], topn=1)\n",
    "print(f\"Analogy: {positive_words[0]} is to {positive_words[1]} as {word_to_find_analogy_for} is to {analogy_results[0][0]}\")"
   ]
  },
  {
   "cell_type": "markdown",
   "id": "2c539aee",
   "metadata": {
    "papermill": {
     "duration": 0.015456,
     "end_time": "2023-08-22T16:30:54.356259",
     "exception": false,
     "start_time": "2023-08-22T16:30:54.340803",
     "status": "completed"
    },
    "tags": []
   },
   "source": [
    "### 1.2. Document Embeddings using FinText\n"
   ]
  },
  {
   "cell_type": "markdown",
   "id": "415ea026",
   "metadata": {
    "papermill": {
     "duration": 0.015463,
     "end_time": "2023-08-22T16:30:54.387461",
     "exception": false,
     "start_time": "2023-08-22T16:30:54.371998",
     "status": "completed"
    },
    "tags": []
   },
   "source": [
    "#### Loading FinText Embeddings"
   ]
  },
  {
   "cell_type": "code",
   "execution_count": 18,
   "id": "11a354c6",
   "metadata": {
    "execution": {
     "iopub.execute_input": "2023-08-22T16:30:54.421040Z",
     "iopub.status.busy": "2023-08-22T16:30:54.420664Z",
     "iopub.status.idle": "2023-08-22T16:39:34.590097Z",
     "shell.execute_reply": "2023-08-22T16:39:34.587846Z"
    },
    "papermill": {
     "duration": 520.19257,
     "end_time": "2023-08-22T16:39:34.595933",
     "exception": false,
     "start_time": "2023-08-22T16:30:54.403363",
     "status": "completed"
    },
    "tags": []
   },
   "outputs": [],
   "source": [
    "%%capture\n",
    "!wget -N https://www.rahimikia.com/FinText/FinText_Word2Vec_CBOW.zip\n",
    "!unzip -o FinText_Word2Vec_CBOW.zip -d FinText_Word2Vec_CBOW\n",
    "!rm FinText_Word2Vec_CBOW.zip"
   ]
  },
  {
   "cell_type": "code",
   "execution_count": 19,
   "id": "c2de085e",
   "metadata": {
    "execution": {
     "iopub.execute_input": "2023-08-22T16:39:34.627048Z",
     "iopub.status.busy": "2023-08-22T16:39:34.626557Z",
     "iopub.status.idle": "2023-08-22T16:40:32.784845Z",
     "shell.execute_reply": "2023-08-22T16:40:32.783158Z"
    },
    "papermill": {
     "duration": 58.189903,
     "end_time": "2023-08-22T16:40:32.801132",
     "exception": false,
     "start_time": "2023-08-22T16:39:34.611229",
     "status": "completed"
    },
    "tags": []
   },
   "outputs": [
    {
     "name": "stdout",
     "output_type": "stream",
     "text": [
      "CPU times: user 56 s, sys: 2.18 s, total: 58.1 s\n",
      "Wall time: 58.2 s\n"
     ]
    }
   ],
   "source": [
    "%%time\n",
    "fintext_path = \"/kaggle/working/FinText_Word2Vec_CBOW/FinText_Word2Vec_CBOW/Word_Embedding_2000_2015\"\n",
    "# Load the FinText model\n",
    "fintext_model = KeyedVectors.load(fintext_path)"
   ]
  },
  {
   "cell_type": "markdown",
   "id": "2ff853cd",
   "metadata": {
    "papermill": {
     "duration": 0.011114,
     "end_time": "2023-08-22T16:40:32.823885",
     "exception": false,
     "start_time": "2023-08-22T16:40:32.812771",
     "status": "completed"
    },
    "tags": []
   },
   "source": [
    "#### Generating Embeddings"
   ]
  },
  {
   "cell_type": "code",
   "execution_count": 20,
   "id": "18e133f9",
   "metadata": {
    "execution": {
     "iopub.execute_input": "2023-08-22T16:40:32.848675Z",
     "iopub.status.busy": "2023-08-22T16:40:32.848252Z",
     "iopub.status.idle": "2023-08-22T16:40:32.852811Z",
     "shell.execute_reply": "2023-08-22T16:40:32.851552Z"
    },
    "papermill": {
     "duration": 0.019521,
     "end_time": "2023-08-22T16:40:32.854948",
     "exception": false,
     "start_time": "2023-08-22T16:40:32.835427",
     "status": "completed"
    },
    "tags": []
   },
   "outputs": [],
   "source": [
    "# Get the word embedding of the first word of the document\n",
    "#get_document_embeddings(document, by=\"words\", paginated=False, model=fintext_model)[0]"
   ]
  },
  {
   "cell_type": "code",
   "execution_count": 21,
   "id": "be20b612",
   "metadata": {
    "execution": {
     "iopub.execute_input": "2023-08-22T16:40:32.880199Z",
     "iopub.status.busy": "2023-08-22T16:40:32.879829Z",
     "iopub.status.idle": "2023-08-22T16:40:32.993896Z",
     "shell.execute_reply": "2023-08-22T16:40:32.993037Z"
    },
    "papermill": {
     "duration": 0.129433,
     "end_time": "2023-08-22T16:40:32.995941",
     "exception": false,
     "start_time": "2023-08-22T16:40:32.866508",
     "status": "completed"
    },
    "tags": []
   },
   "outputs": [
    {
     "data": {
      "text/plain": [
       "['invest product bank deposit',\n",
       " array([-4.95728683e+00,  9.98760819e-01, -9.86634254e-01, -1.91504419e+00,\n",
       "         6.06757402e-01,  1.21559811e+00,  1.37422240e+00,  6.41845703e-01,\n",
       "        -6.37138784e-02, -1.85384464e+00, -2.50361800e+00, -2.84312868e+00,\n",
       "        -1.61761713e+00, -1.11309290e+00, -2.98852301e+00,  1.77939549e-01,\n",
       "         1.57604289e+00, -1.95075810e-01, -2.74044871e+00, -1.22344077e-01,\n",
       "        -2.16380882e+00, -9.99018729e-01, -2.43867016e+00,  1.31971848e+00,\n",
       "         4.26488370e-01, -1.43408871e+00,  1.04030108e+00,  6.26651704e-01,\n",
       "         4.08551991e-01,  8.64704132e-01,  1.06607628e+00, -7.07986951e-01,\n",
       "        -1.09643841e+00, -5.28450310e-01, -2.21319988e-01, -1.66300082e+00,\n",
       "         1.49757540e+00, -1.05606520e+00, -1.92846024e+00, -2.14403018e-01,\n",
       "        -1.37729704e+00,  5.09446144e-01,  8.67957711e-01, -1.59890324e-01,\n",
       "         2.82230759e+00, -4.69033539e-01, -2.87354803e+00,  4.60414946e-01,\n",
       "         3.01001638e-01, -1.41977608e-01, -1.60587883e+00,  6.44661129e-01,\n",
       "        -4.15153772e-01,  7.02990532e-01, -1.14898312e+00, -4.28749353e-01,\n",
       "        -2.74810672e-01,  9.14186597e-01, -1.98503211e-03,  9.24004972e-01,\n",
       "        -8.93175364e-01,  1.44116133e-02,  1.55779934e+00, -4.39581603e-01,\n",
       "         4.31916773e-01,  5.50006807e-01, -1.30108088e-01,  3.47753972e-01,\n",
       "         1.21332955e+00,  7.14457273e-01, -2.06180215e+00,  8.21489990e-01,\n",
       "        -2.01181173e-01,  1.10671550e-01,  3.09406233e+00,  3.93197942e+00,\n",
       "         1.80165696e+00, -1.45341885e+00,  1.07640386e-01, -5.79924881e-01,\n",
       "        -2.35030130e-01, -5.06043732e-01,  1.18307662e+00, -2.10493803e-01,\n",
       "        -9.63345051e-01,  3.10453027e-01,  2.59117246e-01, -2.04574084e+00,\n",
       "         2.77620173e+00,  2.06321120e+00, -1.52157092e+00,  1.43169475e+00,\n",
       "         2.63536155e-01, -1.08055484e+00, -1.27993584e+00, -1.58781385e+00,\n",
       "         7.78097808e-01, -2.60941386e-01,  7.18451619e-01, -2.19369709e-01,\n",
       "        -1.66868067e+00,  3.03465509e+00, -1.48575521e+00, -2.12084103e+00,\n",
       "         7.50203788e-01, -1.34035826e+00, -1.22402549e-01, -2.51640177e+00,\n",
       "        -1.17379856e+00, -6.10555530e-01,  3.95562202e-01, -9.03984755e-02,\n",
       "         1.56592679e+00, -3.31200194e+00,  1.39794350e-01,  1.44796407e+00,\n",
       "         2.59744585e-01, -5.26761234e-01,  8.56645226e-01, -1.37009192e+00,\n",
       "         1.43060541e+00, -8.20128679e-01, -1.85893476e+00, -7.99197137e-01,\n",
       "         4.90346253e-02, -7.20089436e-01,  4.63444084e-01,  1.05768824e+00,\n",
       "        -3.52720737e-01, -2.75826383e+00,  2.31450129e+00, -2.27652311e+00,\n",
       "         1.04361093e+00, -1.94838285e+00, -8.92190278e-01,  1.47867870e+00,\n",
       "        -4.70458120e-01,  6.44677281e-01, -5.63943684e-02, -2.42549491e+00,\n",
       "         4.12212014e-01, -5.46811342e-01, -5.57089567e-01, -1.07398081e+00,\n",
       "        -7.07805008e-02,  1.90745831e+00, -6.74925327e-01, -6.59871757e-01,\n",
       "         2.38496184e-01,  7.93577075e-01, -1.89088094e+00, -6.85773373e-01,\n",
       "        -4.69411910e-01,  1.02183723e+00,  9.20308232e-02, -1.01010442e+00,\n",
       "        -1.38404322e+00, -2.65863687e-01, -1.82073641e+00,  1.13832974e+00,\n",
       "         1.18429446e+00,  1.37522146e-01,  3.86121690e-01, -1.80114961e+00,\n",
       "         4.22862768e-02, -2.17771813e-01,  5.94175816e-01, -8.53041530e-01,\n",
       "         5.77257693e-01,  4.30154920e-01, -1.47800946e+00,  1.27154171e-01,\n",
       "        -1.24172926e+00, -2.89672285e-01, -3.50981236e+00, -2.18971968e+00,\n",
       "         3.69668633e-01,  2.84236789e+00, -1.63169670e+00, -6.63338602e-01,\n",
       "         4.82850695e+00,  2.56707096e+00, -3.50470603e-01,  5.79146385e-01,\n",
       "         1.16777766e+00,  2.89844418e+00,  3.41581494e-01,  1.89967632e-01,\n",
       "        -9.01431799e-01, -1.28622651e+00, -2.34226793e-01,  6.01102889e-01,\n",
       "         9.09538269e-01,  2.53907609e+00,  8.45313430e-01, -6.71655118e-01,\n",
       "         1.17470658e+00, -1.60339451e+00,  4.84569669e-02, -2.10574198e+00,\n",
       "        -2.35942930e-01,  3.55394810e-01, -9.42494512e-01, -3.19090414e+00,\n",
       "         5.28984189e-01,  1.20078170e+00,  1.19711089e+00, -1.19433057e+00,\n",
       "         4.33596164e-01,  2.39377689e+00, -1.27624822e+00, -6.15118027e-01,\n",
       "        -2.07999468e+00,  1.29829705e+00, -1.65290058e+00, -4.28441018e-02,\n",
       "        -1.98047018e+00, -5.52192450e-01, -2.81936049e+00, -1.04478610e+00,\n",
       "         1.62743616e+00, -5.76739013e-03, -1.97011554e+00, -7.75544286e-01,\n",
       "         3.66251022e-01,  3.17560101e+00,  4.20909256e-01,  2.31722069e+00,\n",
       "         4.55165297e-01, -2.91533649e-01, -1.06513417e+00,  1.78168845e+00,\n",
       "        -1.92777586e+00, -1.79683578e+00,  1.70974767e+00, -7.25825965e-01,\n",
       "        -2.53352785e+00, -3.83785993e-01,  1.39501190e+00,  7.39456534e-01,\n",
       "         1.58484662e+00,  9.25213814e-01,  1.68960178e+00,  1.35953331e+00,\n",
       "        -1.42139721e+00,  9.33842063e-01,  1.01142049e-01, -2.06605434e+00,\n",
       "        -1.32984310e-01,  7.49323368e-01,  5.73978841e-01,  5.11281550e-01,\n",
       "         6.72943056e-01,  1.06953609e+00, -1.09385943e+00, -1.80635118e+00,\n",
       "         7.49094665e-01,  7.64827788e-01, -1.04688561e+00, -3.80083561e+00,\n",
       "        -5.62606692e-01,  3.93421471e-01, -1.14341140e+00, -9.72568095e-01,\n",
       "        -9.74809289e-01,  1.72168684e+00,  1.04454613e+00,  5.78586280e-01,\n",
       "        -1.05920565e+00,  1.68332592e-01,  5.91181815e-01, -2.06734014e+00,\n",
       "        -2.91517228e-01,  1.94530797e+00, -1.78500223e+00,  6.69464231e-01,\n",
       "         4.18516576e-01, -1.73919201e-01, -2.69290400e+00,  1.07656956e+00,\n",
       "        -1.04132068e+00, -3.09922278e-01, -9.68868136e-02,  3.43368351e-01,\n",
       "        -6.64918199e-02, -3.07420909e-01,  9.01158929e-01, -4.55721915e-01,\n",
       "        -2.37407565e-01,  1.34536028e+00, -6.31397069e-01,  9.82443094e-01,\n",
       "         3.08375740e+00,  1.42067027e+00,  1.31720126e+00,  2.35145539e-01,\n",
       "         1.03587008e+00, -5.08975327e-01, -8.92126858e-02, -1.32402635e+00],\n",
       "       dtype=float32)]"
      ]
     },
     "execution_count": 21,
     "metadata": {},
     "output_type": "execute_result"
    }
   ],
   "source": [
    "# Get the sentence embedding of the first sentence of the document\n",
    "get_document_embeddings(document, by=\"sentences\", paginated=True, model=fintext_model)[0][0]"
   ]
  },
  {
   "cell_type": "code",
   "execution_count": 22,
   "id": "f81b3c72",
   "metadata": {
    "execution": {
     "iopub.execute_input": "2023-08-22T16:40:33.021338Z",
     "iopub.status.busy": "2023-08-22T16:40:33.020984Z",
     "iopub.status.idle": "2023-08-22T16:40:33.593576Z",
     "shell.execute_reply": "2023-08-22T16:40:33.591957Z"
    },
    "papermill": {
     "duration": 0.58834,
     "end_time": "2023-08-22T16:40:33.596124",
     "exception": false,
     "start_time": "2023-08-22T16:40:33.007784",
     "status": "completed"
    },
    "tags": []
   },
   "outputs": [
    {
     "name": "stdout",
     "output_type": "stream",
     "text": [
      "citibank: 0.5876072645187378\n",
      "boc: 0.41906818747520447\n",
      "snb: 0.39384377002716064\n",
      "citigroup: 0.39015644788742065\n",
      "fed: 0.37750378251075745\n"
     ]
    }
   ],
   "source": [
    "target_word = \"bank\"\n",
    "\n",
    "fintext_words_embeddings = get_document_embeddings(document, by=\"words\", paginated=False, model=fintext_model)\n",
    "similar_words = most_similar_words(fintext_words_embeddings, target_word)\n",
    "\n",
    "for word, similarity in similar_words:\n",
    "    print(f\"{word}: {similarity}\")"
   ]
  },
  {
   "cell_type": "markdown",
   "id": "7d85587c",
   "metadata": {
    "papermill": {
     "duration": 0.011545,
     "end_time": "2023-08-22T16:40:33.619545",
     "exception": false,
     "start_time": "2023-08-22T16:40:33.608000",
     "status": "completed"
    },
    "tags": []
   },
   "source": [
    "### 1.3. Document Embeddings using FinBERT\n"
   ]
  },
  {
   "cell_type": "code",
   "execution_count": 23,
   "id": "58665db2",
   "metadata": {
    "execution": {
     "iopub.execute_input": "2023-08-22T16:40:33.644874Z",
     "iopub.status.busy": "2023-08-22T16:40:33.644504Z",
     "iopub.status.idle": "2023-08-22T16:40:52.908221Z",
     "shell.execute_reply": "2023-08-22T16:40:52.907224Z"
    },
    "papermill": {
     "duration": 19.280041,
     "end_time": "2023-08-22T16:40:52.911157",
     "exception": false,
     "start_time": "2023-08-22T16:40:33.631116",
     "status": "completed"
    },
    "tags": []
   },
   "outputs": [
    {
     "data": {
      "application/vnd.jupyter.widget-view+json": {
       "model_id": "2883dc9de85142318b87c99a125a0917",
       "version_major": 2,
       "version_minor": 0
      },
      "text/plain": [
       "Downloading (…)solve/main/vocab.txt:   0%|          | 0.00/232k [00:00<?, ?B/s]"
      ]
     },
     "metadata": {},
     "output_type": "display_data"
    },
    {
     "data": {
      "application/vnd.jupyter.widget-view+json": {
       "model_id": "c525a1fab9844a7ea34537d8f5ceb1af",
       "version_major": 2,
       "version_minor": 0
      },
      "text/plain": [
       "Downloading (…)cial_tokens_map.json:   0%|          | 0.00/112 [00:00<?, ?B/s]"
      ]
     },
     "metadata": {},
     "output_type": "display_data"
    },
    {
     "data": {
      "application/vnd.jupyter.widget-view+json": {
       "model_id": "d633dfa8801148d497edd3f3c5b3fa20",
       "version_major": 2,
       "version_minor": 0
      },
      "text/plain": [
       "Downloading (…)okenizer_config.json:   0%|          | 0.00/252 [00:00<?, ?B/s]"
      ]
     },
     "metadata": {},
     "output_type": "display_data"
    },
    {
     "data": {
      "application/vnd.jupyter.widget-view+json": {
       "model_id": "398b637f624c4acbb4f67feadb2164f6",
       "version_major": 2,
       "version_minor": 0
      },
      "text/plain": [
       "Downloading (…)lve/main/config.json:   0%|          | 0.00/758 [00:00<?, ?B/s]"
      ]
     },
     "metadata": {},
     "output_type": "display_data"
    },
    {
     "data": {
      "application/vnd.jupyter.widget-view+json": {
       "model_id": "7b25d4b85e1d41b9a5568b0456c3c480",
       "version_major": 2,
       "version_minor": 0
      },
      "text/plain": [
       "Downloading pytorch_model.bin:   0%|          | 0.00/438M [00:00<?, ?B/s]"
      ]
     },
     "metadata": {},
     "output_type": "display_data"
    },
    {
     "name": "stderr",
     "output_type": "stream",
     "text": [
      "Some weights of the model checkpoint at ProsusAI/finbert were not used when initializing BertModel: ['classifier.bias', 'classifier.weight']\n",
      "- This IS expected if you are initializing BertModel from the checkpoint of a model trained on another task or with another architecture (e.g. initializing a BertForSequenceClassification model from a BertForPreTraining model).\n",
      "- This IS NOT expected if you are initializing BertModel from the checkpoint of a model that you expect to be exactly identical (initializing a BertForSequenceClassification model from a BertForSequenceClassification model).\n"
     ]
    }
   ],
   "source": [
    "import torch\n",
    "from transformers import BertTokenizer, BertModel\n",
    "\n",
    "tokenizer = BertTokenizer.from_pretrained(\"ProsusAI/finbert\")\n",
    "finbert_model = BertModel.from_pretrained(\"ProsusAI/finbert\")"
   ]
  },
  {
   "cell_type": "code",
   "execution_count": 24,
   "id": "4c8f0f91",
   "metadata": {
    "execution": {
     "iopub.execute_input": "2023-08-22T16:40:52.939359Z",
     "iopub.status.busy": "2023-08-22T16:40:52.938942Z",
     "iopub.status.idle": "2023-08-22T16:40:52.947440Z",
     "shell.execute_reply": "2023-08-22T16:40:52.946409Z"
    },
    "papermill": {
     "duration": 0.024867,
     "end_time": "2023-08-22T16:40:52.949588",
     "exception": false,
     "start_time": "2023-08-22T16:40:52.924721",
     "status": "completed"
    },
    "tags": []
   },
   "outputs": [],
   "source": [
    "def get_sentence_finbert_embeddings(sentence, model):\n",
    "    with torch.no_grad():\n",
    "        sentence_tokens = tokenizer(sentence, return_tensors=\"pt\", padding=True, truncation=True, max_length=256)\n",
    "        sentence_embeddings = model(**sentence_tokens).last_hidden_state.mean(dim=1)\n",
    "        return sentence_embeddings\n",
    "\n",
    "def get_document_finbert_embeddings(document, paginated=False, model=None):\n",
    "    doc = get_document(document, by=\"sentences\", col=\"HSentences\", paginated=paginated)\n",
    "    sentences = []\n",
    "    if paginated:\n",
    "        for page in doc:\n",
    "            page_sentences = []\n",
    "            for sentence in page:\n",
    "                sentence_embedding = get_sentence_finbert_embeddings(sentence, model)\n",
    "                sentence_item = [sentence, np.array(sentence_embedding)]\n",
    "                page_sentences.append(sentence_item)\n",
    "            sentences.append(page_sentences)\n",
    "    else:\n",
    "        for sentence in doc:\n",
    "            sentence_embedding = get_sentence_finbert_embeddings(sentence, model)\n",
    "            sentence_item = [sentence, np.array(sentence_embedding)]\n",
    "            sentences.append(sentence_item)\n",
    "    return sentences"
   ]
  },
  {
   "cell_type": "code",
   "execution_count": 25,
   "id": "eadc3e5c",
   "metadata": {
    "execution": {
     "iopub.execute_input": "2023-08-22T16:40:52.977801Z",
     "iopub.status.busy": "2023-08-22T16:40:52.977435Z",
     "iopub.status.idle": "2023-08-22T16:40:52.981857Z",
     "shell.execute_reply": "2023-08-22T16:40:52.980824Z"
    },
    "papermill": {
     "duration": 0.021055,
     "end_time": "2023-08-22T16:40:52.983758",
     "exception": false,
     "start_time": "2023-08-22T16:40:52.962703",
     "status": "completed"
    },
    "tags": []
   },
   "outputs": [],
   "source": [
    "#finbert_embeddings = get_document_finbert_embeddings(document, paginated=False, model=finbert_model)"
   ]
  },
  {
   "cell_type": "code",
   "execution_count": 26,
   "id": "19ff3802",
   "metadata": {
    "execution": {
     "iopub.execute_input": "2023-08-22T16:40:53.010698Z",
     "iopub.status.busy": "2023-08-22T16:40:53.010271Z",
     "iopub.status.idle": "2023-08-22T16:40:53.015347Z",
     "shell.execute_reply": "2023-08-22T16:40:53.013968Z"
    },
    "papermill": {
     "duration": 0.020834,
     "end_time": "2023-08-22T16:40:53.017271",
     "exception": false,
     "start_time": "2023-08-22T16:40:52.996437",
     "status": "completed"
    },
    "tags": []
   },
   "outputs": [],
   "source": [
    "# Get the first sentence embedding of the document:\n",
    "#finbert_embeddings[0]"
   ]
  },
  {
   "cell_type": "markdown",
   "id": "0ee4f7b5",
   "metadata": {
    "papermill": {
     "duration": 0.012063,
     "end_time": "2023-08-22T16:40:53.041798",
     "exception": false,
     "start_time": "2023-08-22T16:40:53.029735",
     "status": "completed"
    },
    "tags": []
   },
   "source": [
    "## 2. Document Semantic Search"
   ]
  },
  {
   "cell_type": "code",
   "execution_count": 27,
   "id": "44c6a677",
   "metadata": {
    "execution": {
     "iopub.execute_input": "2023-08-22T16:40:53.070258Z",
     "iopub.status.busy": "2023-08-22T16:40:53.069822Z",
     "iopub.status.idle": "2023-08-22T16:40:53.077432Z",
     "shell.execute_reply": "2023-08-22T16:40:53.076570Z"
    },
    "papermill": {
     "duration": 0.025098,
     "end_time": "2023-08-22T16:40:53.079244",
     "exception": false,
     "start_time": "2023-08-22T16:40:53.054146",
     "status": "completed"
    },
    "tags": []
   },
   "outputs": [],
   "source": [
    "import sklearn\n",
    "from sklearn.metrics.pairwise import cosine_similarity\n",
    "\n",
    "def retrieve_answers(question_embedding, sentence_embeddings, sentences, k=1):\n",
    "    sentence_embeddings = np.vstack(sentence_embeddings)\n",
    "    similarity_scores = cosine_similarity(sentence_embeddings, question_embedding.reshape(1, -1))\n",
    "    top_k_indices = np.argsort(similarity_scores, axis=0)[-k:][::-1]\n",
    "    top_k_answers = []\n",
    "    \n",
    "    for index in top_k_indices:\n",
    "        index = index[0] \n",
    "        top_k_answers.append((index, similarity_scores[index][0], sentences[index]))\n",
    "\n",
    "    return top_k_answers\n",
    "\n",
    "def get_answer_page_num(document, answer):\n",
    "    page_num = document.loc[document['HSentences'].apply(lambda lst: answer in str(lst)), 'Page ID']\n",
    "    return page_num.values[0]"
   ]
  },
  {
   "cell_type": "code",
   "execution_count": 28,
   "id": "b0edc3c4",
   "metadata": {
    "execution": {
     "iopub.execute_input": "2023-08-22T16:40:53.108076Z",
     "iopub.status.busy": "2023-08-22T16:40:53.107723Z",
     "iopub.status.idle": "2023-08-22T16:40:53.116725Z",
     "shell.execute_reply": "2023-08-22T16:40:53.115799Z"
    },
    "papermill": {
     "duration": 0.025635,
     "end_time": "2023-08-22T16:40:53.118550",
     "exception": false,
     "start_time": "2023-08-22T16:40:53.092915",
     "status": "completed"
    },
    "tags": []
   },
   "outputs": [],
   "source": [
    "# Same pipeline from notebook of doc cleaning\n",
    "\n",
    "def replace_symbols(text):\n",
    "    symbols = {'$': 'dollar','€': 'euro','£': 'pound','¥': 'yen','₹': 'rupee','%': 'percent'}\n",
    "    for symbol, word in symbols.items():\n",
    "        text = re.sub(r'(\\d)' + re.escape(symbol), r'\\1 ' + word, text)\n",
    "        text = re.sub(re.escape(symbol) + r'(\\d)', word + r' \\1', text)\n",
    "        text = re.sub(re.escape(symbol), word, text)\n",
    "    return text\n",
    "\n",
    "def remove_urls(text):\n",
    "    url_pattern_1 = \"^https?:\\\\/\\\\/(?:www\\\\.)?[-a-zA-Z0-9@:%._\\\\+~#=]{1,256}\\\\.[a-zA-Z0-9()]{1,6}\\\\b(?:[-a-zA-Z0-9()@:%_\\\\+.~#?&\\\\/=]*)$\"\n",
    "    url_pattern_2 = r'https?://\\S+'\n",
    "    url_pattern_3 = \"^[-a-zA-Z0-9@:%._\\\\+~#=]{1,256}\\\\.[a-zA-Z0-9()]{1,6}\\\\b(?:[-a-zA-Z0-9()@:%_\\\\+.~#?&\\\\/=]*)$\"\n",
    "    url_pattern = f\"({url_pattern_1})|({url_pattern_2})|({url_pattern_3})\"\n",
    "    text = re.sub(url_pattern, '', text, flags=re.MULTILINE)\n",
    "    return text\n",
    "    \n",
    "stemmer = SnowballStemmer(language='english')\n",
    "\n",
    "def clean_sent(text):\n",
    "    text = text.lower()\n",
    "    text = remove_urls(text)\n",
    "    text = contractions.fix(text)\n",
    "    text = re.sub(r'[^\\x00-\\x7F$€£¥₹]+', '', text)\n",
    "    text = re.sub(r'\\b\\d+\\b|\\b\\d+\\.\\d+\\b', lambda match: num2words(float(match.group(0))) if '.' in match.group(0) else num2words(int(match.group(0))), text)\n",
    "    text = replace_symbols(text)\n",
    "    text = strip_punctuation(text)\n",
    "    text = remove_stopwords(text)\n",
    "    text = re.sub(r'[^a-z0-9\\s]', '', text)\n",
    "    words = word_tokenize(text)\n",
    "    stemmed_words = [stemmer.stem(word) for word in words]\n",
    "    text = \" \".join(stemmed_words).strip()\n",
    "    text = strip_multiple_whitespaces(text)\n",
    "    return text"
   ]
  },
  {
   "cell_type": "code",
   "execution_count": 29,
   "id": "4da1568b",
   "metadata": {
    "execution": {
     "iopub.execute_input": "2023-08-22T16:40:53.146792Z",
     "iopub.status.busy": "2023-08-22T16:40:53.146319Z",
     "iopub.status.idle": "2023-08-22T16:40:53.155773Z",
     "shell.execute_reply": "2023-08-22T16:40:53.154520Z"
    },
    "papermill": {
     "duration": 0.026338,
     "end_time": "2023-08-22T16:40:53.157779",
     "exception": false,
     "start_time": "2023-08-22T16:40:53.131441",
     "status": "completed"
    },
    "tags": []
   },
   "outputs": [],
   "source": [
    "report_name = 'fx_insight_e'\n",
    "qa_document = raw_data[raw_data['Report Name'] == report_name].sort_values(by='Page ID')\n",
    "\n",
    "original_sentences = get_document(qa_document, by=\"sentences\", col=\"HSentences\")"
   ]
  },
  {
   "cell_type": "code",
   "execution_count": 30,
   "id": "2302eee0",
   "metadata": {
    "execution": {
     "iopub.execute_input": "2023-08-22T16:40:53.185452Z",
     "iopub.status.busy": "2023-08-22T16:40:53.185029Z",
     "iopub.status.idle": "2023-08-22T16:40:53.190961Z",
     "shell.execute_reply": "2023-08-22T16:40:53.189860Z"
    },
    "papermill": {
     "duration": 0.022134,
     "end_time": "2023-08-22T16:40:53.193370",
     "exception": false,
     "start_time": "2023-08-22T16:40:53.171236",
     "status": "completed"
    },
    "tags": []
   },
   "outputs": [],
   "source": [
    "questions = [\"Why did Citi analysts push the RBA rate hike expectation from June to August?\",\n",
    "             \"What are the expected medium-term gains for AUD vs USD?\",\n",
    "             \"What will happen to UK?\",\n",
    "             \"How might China's low inflation impact the policy support from PBoC?\"]"
   ]
  },
  {
   "cell_type": "code",
   "execution_count": 31,
   "id": "9528a947",
   "metadata": {
    "execution": {
     "iopub.execute_input": "2023-08-22T16:40:53.219994Z",
     "iopub.status.busy": "2023-08-22T16:40:53.219643Z",
     "iopub.status.idle": "2023-08-22T16:40:53.226485Z",
     "shell.execute_reply": "2023-08-22T16:40:53.225091Z"
    },
    "papermill": {
     "duration": 0.022508,
     "end_time": "2023-08-22T16:40:53.228606",
     "exception": false,
     "start_time": "2023-08-22T16:40:53.206098",
     "status": "completed"
    },
    "tags": []
   },
   "outputs": [],
   "source": [
    "def print_answers(questions, answers):\n",
    "    for question_id, question in enumerate(questions):\n",
    "        print(f\"Question {question_id + 1}:\", question)\n",
    "        print(f\"Top {top_k} answers:\")\n",
    "        for index, similarity, sentence in answers[question_id]:\n",
    "            print(\"=>\", sentence, '(similarity_score', similarity,')' '(from Document',report_name, 'on Page', get_answer_page_num(qa_document,sentence), ')\\n')\n",
    "            #print(cleaned_sentences[index])\n",
    "        print('*'*50)"
   ]
  },
  {
   "cell_type": "markdown",
   "id": "7832d2cd",
   "metadata": {
    "papermill": {
     "duration": 0.012543,
     "end_time": "2023-08-22T16:40:53.253950",
     "exception": false,
     "start_time": "2023-08-22T16:40:53.241407",
     "status": "completed"
    },
    "tags": []
   },
   "source": [
    "### 2.1 Using GloVe Embeddings"
   ]
  },
  {
   "cell_type": "code",
   "execution_count": 32,
   "id": "b8566b4c",
   "metadata": {
    "execution": {
     "iopub.execute_input": "2023-08-22T16:40:53.280576Z",
     "iopub.status.busy": "2023-08-22T16:40:53.280170Z",
     "iopub.status.idle": "2023-08-22T16:40:53.330755Z",
     "shell.execute_reply": "2023-08-22T16:40:53.329827Z"
    },
    "papermill": {
     "duration": 0.067543,
     "end_time": "2023-08-22T16:40:53.334057",
     "exception": false,
     "start_time": "2023-08-22T16:40:53.266514",
     "status": "completed"
    },
    "tags": []
   },
   "outputs": [
    {
     "name": "stdout",
     "output_type": "stream",
     "text": [
      "Question 1: Why did Citi analysts push the RBA rate hike expectation from June to August?\n",
      "Top 1 answers:\n",
      "=> Citi analysts push RBA rate hike expectation from June to August to give it more time to assess its reaction function towards wages, inflation and the labor market. (similarity_score 0.8865552 )(from Document fx_insight_e on Page 5 )\n",
      "\n",
      "**************************************************\n",
      "Question 2: What are the expected medium-term gains for AUD vs USD?\n",
      "Top 1 answers:\n",
      "=> This should underpin strong support for AUDUSD at 0.6550 0.6600 with a likely acceleration of Chinas growth in 2H a medium-term tailwind for AUD, putting it on track for further medium-term gains vs USD (> 0.72-0.74 range in H223), NZD, CAD and GBP (economies with much higher rates and higher recession risks than Australia). (similarity_score 0.7392146 )(from Document fx_insight_e on Page 5 )\n",
      "\n",
      "**************************************************\n",
      "Question 3: What will happen to UK?\n",
      "Top 1 answers:\n",
      "=> The medium to longer term view does not get any better for GBP from UKs external vulnerabilities. (similarity_score 0.56113905 )(from Document fx_insight_e on Page 6 )\n",
      "\n",
      "**************************************************\n",
      "Question 4: How might China's low inflation impact the policy support from PBoC?\n",
      "Top 1 answers:\n",
      "=> Chinas low inflation also beckons additional policy support from PBoC which may pose additional near-term headwind to CNH as rate differentials work against the currency, tactically leaving USDCNH on the higher side of its 6.80 7.00 range, but with scope to target the 6.50 70 range in the latter part of H22023 as Fed pivots towards rate cuts while Chinas domestic recovery gathers pace in what is likely to be a highly de-synchronized global business cycle. (similarity_score 0.88626075 )(from Document fx_insight_e on Page 8 )\n",
      "\n",
      "**************************************************\n"
     ]
    }
   ],
   "source": [
    "top_k = 1 \n",
    "answers = []\n",
    "\n",
    "doc_embeddings = [emb for _,emb in get_document_embeddings(qa_document, by=\"sentences\", model=glove_model)]\n",
    "for question in questions:\n",
    "    question_embedding = get_sentence_embedding(clean_sent(question), embedding_model=glove_model)\n",
    "    top_answers = retrieve_answers(question_embedding, doc_embeddings, original_sentences, k=top_k)\n",
    "    answers.append(top_answers)\n",
    "    \n",
    "print_answers(questions, answers)"
   ]
  },
  {
   "cell_type": "markdown",
   "id": "5088a768",
   "metadata": {
    "papermill": {
     "duration": 0.016064,
     "end_time": "2023-08-22T16:40:53.367008",
     "exception": false,
     "start_time": "2023-08-22T16:40:53.350944",
     "status": "completed"
    },
    "tags": []
   },
   "source": [
    "### 2.2. Using FinText Embeddings"
   ]
  },
  {
   "cell_type": "code",
   "execution_count": 33,
   "id": "4d481007",
   "metadata": {
    "execution": {
     "iopub.execute_input": "2023-08-22T16:40:53.403522Z",
     "iopub.status.busy": "2023-08-22T16:40:53.402106Z",
     "iopub.status.idle": "2023-08-22T16:40:53.455557Z",
     "shell.execute_reply": "2023-08-22T16:40:53.454703Z"
    },
    "papermill": {
     "duration": 0.074234,
     "end_time": "2023-08-22T16:40:53.458115",
     "exception": false,
     "start_time": "2023-08-22T16:40:53.383881",
     "status": "completed"
    },
    "tags": []
   },
   "outputs": [
    {
     "name": "stdout",
     "output_type": "stream",
     "text": [
      "Question 1: Why did Citi analysts push the RBA rate hike expectation from June to August?\n",
      "Top 1 answers:\n",
      "=> Citi analysts push RBA rate hike expectation from June to August to give it more time to assess its reaction function towards wages, inflation and the labor market. (similarity_score 0.87560993 )(from Document fx_insight_e on Page 5 )\n",
      "\n",
      "**************************************************\n",
      "Question 2: What are the expected medium-term gains for AUD vs USD?\n",
      "Top 1 answers:\n",
      "=> This should underpin strong support for AUDUSD at 0.6550 0.6600 with a likely acceleration of Chinas growth in 2H a medium-term tailwind for AUD, putting it on track for further medium-term gains vs USD (> 0.72-0.74 range in H223), NZD, CAD and GBP (economies with much higher rates and higher recession risks than Australia). (similarity_score 0.7110077 )(from Document fx_insight_e on Page 5 )\n",
      "\n",
      "**************************************************\n",
      "Question 3: What will happen to UK?\n",
      "Top 1 answers:\n",
      "=> Persons who come into possession of this document are required to inform themselves of, and to observe such restrictions. (similarity_score 0.42924058 )(from Document fx_insight_e on Page 9 )\n",
      "\n",
      "**************************************************\n",
      "Question 4: How might China's low inflation impact the policy support from PBoC?\n",
      "Top 1 answers:\n",
      "=> Chinas low inflation also beckons additional policy support from PBoC which may pose additional near-term headwind to CNH as rate differentials work against the currency, tactically leaving USDCNH on the higher side of its 6.80 7.00 range, but with scope to target the 6.50 70 range in the latter part of H22023 as Fed pivots towards rate cuts while Chinas domestic recovery gathers pace in what is likely to be a highly de-synchronized global business cycle. (similarity_score 0.69523066 )(from Document fx_insight_e on Page 8 )\n",
      "\n",
      "**************************************************\n"
     ]
    }
   ],
   "source": [
    "top_k = 1 \n",
    "answers = []\n",
    "\n",
    "doc_embeddings = [emb for _,emb in get_document_embeddings(qa_document, by=\"sentences\", model=fintext_model)]\n",
    "for question in questions:\n",
    "    question_embedding = get_sentence_embedding(clean_sent(question), embedding_model=fintext_model)\n",
    "    top_answers = retrieve_answers(question_embedding, doc_embeddings, original_sentences, k=top_k)\n",
    "    answers.append(top_answers)\n",
    "    \n",
    "print_answers(questions, answers)"
   ]
  },
  {
   "cell_type": "markdown",
   "id": "079519a7",
   "metadata": {
    "papermill": {
     "duration": 0.017321,
     "end_time": "2023-08-22T16:40:53.493096",
     "exception": false,
     "start_time": "2023-08-22T16:40:53.475775",
     "status": "completed"
    },
    "tags": []
   },
   "source": [
    "### 2.3 Using FinBERT Embeddings"
   ]
  },
  {
   "cell_type": "code",
   "execution_count": 34,
   "id": "ce4f962a",
   "metadata": {
    "execution": {
     "iopub.execute_input": "2023-08-22T16:40:53.527890Z",
     "iopub.status.busy": "2023-08-22T16:40:53.526537Z",
     "iopub.status.idle": "2023-08-22T16:41:05.653409Z",
     "shell.execute_reply": "2023-08-22T16:41:05.652658Z"
    },
    "papermill": {
     "duration": 12.146174,
     "end_time": "2023-08-22T16:41:05.655556",
     "exception": false,
     "start_time": "2023-08-22T16:40:53.509382",
     "status": "completed"
    },
    "tags": []
   },
   "outputs": [
    {
     "name": "stdout",
     "output_type": "stream",
     "text": [
      "Question 1: Why did Citi analysts push the RBA rate hike expectation from June to August?\n",
      "Top 1 answers:\n",
      "=> Citi analysts push RBA rate hike expectation from June to August to give it more time to assess its reaction function towards wages, inflation and the labor market. (similarity_score 0.86756265 )(from Document fx_insight_e on Page 5 )\n",
      "\n",
      "**************************************************\n",
      "Question 2: What are the expected medium-term gains for AUD vs USD?\n",
      "Top 1 answers:\n",
      "=> Previously USDCHF: 0 3mths: 0.87 USDCHF: 6 12mths: 0.86 USDCHF: LT: 0.85 Currently (as of May): USDCHF: 0 3mths: 0.88 USDCHF: 6 12mths: 0.86 USDCHF: LT: 0.85 6-12mths: Bullish CHF vs USD, moderately bearish vs EUR JPY Citi views & strategy Bias/ Forecasts/ Key levels Citi FX outlook Japanese fundamentals make a strong case for Yen to find support on 3 grounds (1) Japans terms of trade having decisively bottomed around mid- August 2022; (2) rising probability of a shift in the BoJs stance on YCC at its June meeting; (3) BoJs balance sheet reducing at a faster pace than the Fed. (similarity_score 0.7958355 )(from Document fx_insight_e on Page 7 )\n",
      "\n",
      "**************************************************\n",
      "Question 3: What will happen to UK?\n",
      "Top 1 answers:\n",
      "=> It could have a direct or indirect impact on the issuer and their outstanding debts. (similarity_score 0.67360675 )(from Document fx_insight_e on Page 9 )\n",
      "\n",
      "**************************************************\n",
      "Question 4: How might China's low inflation impact the policy support from PBoC?\n",
      "Top 1 answers:\n",
      "=> Therefore, the CNH exchange rate may be different from the CNY exchange rate. (similarity_score 0.78009534 )(from Document fx_insight_e on Page 9 )\n",
      "\n",
      "**************************************************\n"
     ]
    }
   ],
   "source": [
    "top_k = 1 \n",
    "answers = []\n",
    "\n",
    "doc_embeddings = [emb for _,emb in get_document_finbert_embeddings(qa_document, model=finbert_model)]\n",
    "for question in questions:\n",
    "    question_embedding = np.array(get_sentence_finbert_embeddings(question, model=finbert_model))\n",
    "    top_answers = retrieve_answers(question_embedding, doc_embeddings, original_sentences, k=top_k)\n",
    "    answers.append(top_answers)\n",
    "    \n",
    "print_answers(questions, answers)"
   ]
  },
  {
   "cell_type": "markdown",
   "id": "6f22c295",
   "metadata": {
    "papermill": {
     "duration": 0.015995,
     "end_time": "2023-08-22T16:41:05.688825",
     "exception": false,
     "start_time": "2023-08-22T16:41:05.672830",
     "status": "completed"
    },
    "tags": []
   },
   "source": [
    "#### Save Embeddings\n",
    "In the next notebook, we'll do document clustering at a sentence-level. We'll export the sentences embeddings so that we can use them."
   ]
  },
  {
   "cell_type": "code",
   "execution_count": 35,
   "id": "5efa47e4",
   "metadata": {
    "execution": {
     "iopub.execute_input": "2023-08-22T16:41:05.724278Z",
     "iopub.status.busy": "2023-08-22T16:41:05.723420Z",
     "iopub.status.idle": "2023-08-22T16:41:05.729632Z",
     "shell.execute_reply": "2023-08-22T16:41:05.728884Z"
    },
    "papermill": {
     "duration": 0.027161,
     "end_time": "2023-08-22T16:41:05.732654",
     "exception": false,
     "start_time": "2023-08-22T16:41:05.705493",
     "status": "completed"
    },
    "tags": []
   },
   "outputs": [],
   "source": [
    "import os\n",
    "\n",
    "# Path to the main directory\n",
    "main_dir = \"sent_embeddings\"\n",
    "\n",
    "# Create the main directory if it doesn't exist\n",
    "if not os.path.exists(main_dir):\n",
    "    os.makedirs(main_dir)\n",
    "\n",
    "# Delete and recreate the main directory\n",
    "else:\n",
    "    for root, dirs, files in os.walk(main_dir, topdown=False):\n",
    "        for dir_name in dirs:\n",
    "            dir_path = os.path.join(root, dir_name)\n",
    "            os.rmdir(dir_path)\n",
    "    os.makedirs(main_dir)    "
   ]
  },
  {
   "cell_type": "code",
   "execution_count": 36,
   "id": "c962226a",
   "metadata": {
    "execution": {
     "iopub.execute_input": "2023-08-22T16:41:05.767104Z",
     "iopub.status.busy": "2023-08-22T16:41:05.766726Z",
     "iopub.status.idle": "2023-08-22T16:41:05.775608Z",
     "shell.execute_reply": "2023-08-22T16:41:05.774562Z"
    },
    "papermill": {
     "duration": 0.028176,
     "end_time": "2023-08-22T16:41:05.777768",
     "exception": false,
     "start_time": "2023-08-22T16:41:05.749592",
     "status": "completed"
    },
    "tags": []
   },
   "outputs": [],
   "source": [
    "# sent_embeddings > report_X.json\n",
    "\n",
    "def export_embeddings(report_name):\n",
    "    document = raw_data[raw_data['Report Name'] == report_name].sort_values(by='Page ID')\n",
    "    hsentences = get_document(document, by=\"sentences\", col=\"HSentences\", paginated=True)\n",
    "    msentences = get_document(document, by=\"sentences\", col=\"MSentences\", paginated=True)\n",
    "    \n",
    "    report_data = {}\n",
    "    report_data['Report Name'] = report_name\n",
    "    report_data['Bank Name'] = document['Bank Name'].unique()[0]\n",
    "    report_data['Report Date'] = document['Report Date'].unique()[0]\n",
    "    report_data['Pages'] = []\n",
    "    \n",
    "    # Embeddings \n",
    "    glove_embeddings = get_document_embeddings(document, by=\"sentences\", model=glove_model, paginated=True)\n",
    "    fintext_embeddings = get_document_embeddings(document, by=\"sentences\", model=fintext_model, paginated=True)\n",
    "    finbert_embeddings = get_document_finbert_embeddings(document, paginated=True, model=finbert_model)\n",
    "    \n",
    "    for page_num in range(len(document)):\n",
    "        page_data = {}\n",
    "        page_data['Page ID'] = page_num\n",
    "        page_data['MSentences'] = msentences[page_num]\n",
    "        page_data['HSentences'] = hsentences[page_num]\n",
    "        page_data['FinText'] = [emb.tolist() for _, emb in fintext_embeddings[page_num]]\n",
    "        page_data['FinBert'] = [emb.tolist() for _, emb in finbert_embeddings[page_num]]\n",
    "        page_data['GloVe'] = [emb.tolist() for _, emb in glove_embeddings[page_num]]\n",
    "        report_data['Pages'].append(page_data)\n",
    "    \n",
    "    return report_data"
   ]
  },
  {
   "cell_type": "code",
   "execution_count": 37,
   "id": "f1953f4b",
   "metadata": {
    "execution": {
     "iopub.execute_input": "2023-08-22T16:41:05.806255Z",
     "iopub.status.busy": "2023-08-22T16:41:05.805854Z",
     "iopub.status.idle": "2023-08-22T16:41:05.815274Z",
     "shell.execute_reply": "2023-08-22T16:41:05.814000Z"
    },
    "papermill": {
     "duration": 0.025963,
     "end_time": "2023-08-22T16:41:05.817461",
     "exception": false,
     "start_time": "2023-08-22T16:41:05.791498",
     "status": "completed"
    },
    "tags": []
   },
   "outputs": [],
   "source": [
    "# List of documents\n",
    "reports = list(raw_data['Report Name'].unique())"
   ]
  },
  {
   "cell_type": "code",
   "execution_count": 38,
   "id": "7f36337d",
   "metadata": {
    "execution": {
     "iopub.execute_input": "2023-08-22T16:41:05.845633Z",
     "iopub.status.busy": "2023-08-22T16:41:05.845216Z",
     "iopub.status.idle": "2023-08-22T16:52:41.990530Z",
     "shell.execute_reply": "2023-08-22T16:52:41.988718Z"
    },
    "papermill": {
     "duration": 696.162428,
     "end_time": "2023-08-22T16:52:41.993126",
     "exception": false,
     "start_time": "2023-08-22T16:41:05.830698",
     "status": "completed"
    },
    "tags": []
   },
   "outputs": [
    {
     "name": "stdout",
     "output_type": "stream",
     "text": [
      "Report data exported to sent_embeddings/fx_insight_e_16_janvier_2023.json\n",
      "Report data exported to sent_embeddings/exemple_analyse_macro_economique_goldman_sachs.json\n",
      "Report data exported to sent_embeddings/fx_insight_e_20_fevrier_2023.json\n",
      "Report data exported to sent_embeddings/fx_insight_e_15_mai_2023.json\n",
      "Report data exported to sent_embeddings/bnp_parisbas_global_view_2023.json\n",
      "Report data exported to sent_embeddings/goldman_sachs_janvier_2023.json\n",
      "Report data exported to sent_embeddings/jpmorgan_private_banking_global_view_2023.json\n",
      "Report data exported to sent_embeddings/fx_insight_e_03_01_2023.json\n",
      "Report data exported to sent_embeddings/recession_goldman_sachs.json\n",
      "Report data exported to sent_embeddings/fx_insight_e_24_avril_2023.json\n",
      "Report data exported to sent_embeddings/citi_gold_fx_16_janvier_2023_USD_EUR.json\n",
      "Report data exported to sent_embeddings/goldman_sachs_global_view_2023.json\n",
      "Report data exported to sent_embeddings/goldman_sachs_global_outlook.json\n",
      "Report data exported to sent_embeddings/fx_insight_e_30_janvier_2023.json\n",
      "Report data exported to sent_embeddings/fx_insight_e_9_9_2023.json\n",
      "Report data exported to sent_embeddings/jpmorgan_asset_management_Q1_2023.json\n",
      "Report data exported to sent_embeddings/fx_insight_e_22_mai_2023.json\n",
      "Report data exported to sent_embeddings/kkr_global_view_2023.json\n",
      "Report data exported to sent_embeddings/fx_insight_e_13_fevrier_2023.json\n",
      "Report data exported to sent_embeddings/fx_insight_e.json\n"
     ]
    }
   ],
   "source": [
    "import json\n",
    "for report_name in reports:\n",
    "    report_data = export_embeddings(report_name)\n",
    "    output_filename = report_data['Report Name'] + \".json\"\n",
    "    out_path = os.path.join(main_dir, output_filename)\n",
    "    with open(out_path, 'w') as output_file:\n",
    "        json.dump(report_data, output_file, indent=4)\n",
    "    \n",
    "    print(f\"Report data exported to {out_path}\")"
   ]
  },
  {
   "cell_type": "code",
   "execution_count": 39,
   "id": "0565517c",
   "metadata": {
    "execution": {
     "iopub.execute_input": "2023-08-22T16:52:42.027812Z",
     "iopub.status.busy": "2023-08-22T16:52:42.026279Z",
     "iopub.status.idle": "2023-08-22T16:52:56.772699Z",
     "shell.execute_reply": "2023-08-22T16:52:56.771633Z"
    },
    "papermill": {
     "duration": 14.766397,
     "end_time": "2023-08-22T16:52:56.774887",
     "exception": false,
     "start_time": "2023-08-22T16:52:42.008490",
     "status": "completed"
    },
    "tags": []
   },
   "outputs": [
    {
     "name": "stdout",
     "output_type": "stream",
     "text": [
      "sent_embeddings zip created.\n"
     ]
    }
   ],
   "source": [
    "import shutil\n",
    "\n",
    "output_zip_filename = main_dir\n",
    "\n",
    "shutil.make_archive(output_zip_filename, 'zip', main_dir)\n",
    "print(f\"{output_zip_filename} zip created.\")"
   ]
  }
 ],
 "metadata": {
  "kernelspec": {
   "display_name": "Python 3",
   "language": "python",
   "name": "python3"
  },
  "language_info": {
   "codemirror_mode": {
    "name": "ipython",
    "version": 3
   },
   "file_extension": ".py",
   "mimetype": "text/x-python",
   "name": "python",
   "nbconvert_exporter": "python",
   "pygments_lexer": "ipython3",
   "version": "3.10.12"
  },
  "papermill": {
   "default_parameters": {},
   "duration": 1641.268307,
   "end_time": "2023-08-22T16:53:00.488203",
   "environment_variables": {},
   "exception": null,
   "input_path": "__notebook__.ipynb",
   "output_path": "__notebook__.ipynb",
   "parameters": {},
   "start_time": "2023-08-22T16:25:39.219896",
   "version": "2.4.0"
  },
  "widgets": {
   "application/vnd.jupyter.widget-state+json": {
    "state": {
     "03586596417d4314b39ab6af1aead357": {
      "model_module": "@jupyter-widgets/base",
      "model_module_version": "1.2.0",
      "model_name": "LayoutModel",
      "state": {
       "_model_module": "@jupyter-widgets/base",
       "_model_module_version": "1.2.0",
       "_model_name": "LayoutModel",
       "_view_count": null,
       "_view_module": "@jupyter-widgets/base",
       "_view_module_version": "1.2.0",
       "_view_name": "LayoutView",
       "align_content": null,
       "align_items": null,
       "align_self": null,
       "border": null,
       "bottom": null,
       "display": null,
       "flex": null,
       "flex_flow": null,
       "grid_area": null,
       "grid_auto_columns": null,
       "grid_auto_flow": null,
       "grid_auto_rows": null,
       "grid_column": null,
       "grid_gap": null,
       "grid_row": null,
       "grid_template_areas": null,
       "grid_template_columns": null,
       "grid_template_rows": null,
       "height": null,
       "justify_content": null,
       "justify_items": null,
       "left": null,
       "margin": null,
       "max_height": null,
       "max_width": null,
       "min_height": null,
       "min_width": null,
       "object_fit": null,
       "object_position": null,
       "order": null,
       "overflow": null,
       "overflow_x": null,
       "overflow_y": null,
       "padding": null,
       "right": null,
       "top": null,
       "visibility": null,
       "width": null
      }
     },
     "1085bdaa8e2540d9b1757b1b9a8ef152": {
      "model_module": "@jupyter-widgets/base",
      "model_module_version": "1.2.0",
      "model_name": "LayoutModel",
      "state": {
       "_model_module": "@jupyter-widgets/base",
       "_model_module_version": "1.2.0",
       "_model_name": "LayoutModel",
       "_view_count": null,
       "_view_module": "@jupyter-widgets/base",
       "_view_module_version": "1.2.0",
       "_view_name": "LayoutView",
       "align_content": null,
       "align_items": null,
       "align_self": null,
       "border": null,
       "bottom": null,
       "display": null,
       "flex": null,
       "flex_flow": null,
       "grid_area": null,
       "grid_auto_columns": null,
       "grid_auto_flow": null,
       "grid_auto_rows": null,
       "grid_column": null,
       "grid_gap": null,
       "grid_row": null,
       "grid_template_areas": null,
       "grid_template_columns": null,
       "grid_template_rows": null,
       "height": null,
       "justify_content": null,
       "justify_items": null,
       "left": null,
       "margin": null,
       "max_height": null,
       "max_width": null,
       "min_height": null,
       "min_width": null,
       "object_fit": null,
       "object_position": null,
       "order": null,
       "overflow": null,
       "overflow_x": null,
       "overflow_y": null,
       "padding": null,
       "right": null,
       "top": null,
       "visibility": null,
       "width": null
      }
     },
     "135bccd49c674f1181900de859537a85": {
      "model_module": "@jupyter-widgets/base",
      "model_module_version": "1.2.0",
      "model_name": "LayoutModel",
      "state": {
       "_model_module": "@jupyter-widgets/base",
       "_model_module_version": "1.2.0",
       "_model_name": "LayoutModel",
       "_view_count": null,
       "_view_module": "@jupyter-widgets/base",
       "_view_module_version": "1.2.0",
       "_view_name": "LayoutView",
       "align_content": null,
       "align_items": null,
       "align_self": null,
       "border": null,
       "bottom": null,
       "display": null,
       "flex": null,
       "flex_flow": null,
       "grid_area": null,
       "grid_auto_columns": null,
       "grid_auto_flow": null,
       "grid_auto_rows": null,
       "grid_column": null,
       "grid_gap": null,
       "grid_row": null,
       "grid_template_areas": null,
       "grid_template_columns": null,
       "grid_template_rows": null,
       "height": null,
       "justify_content": null,
       "justify_items": null,
       "left": null,
       "margin": null,
       "max_height": null,
       "max_width": null,
       "min_height": null,
       "min_width": null,
       "object_fit": null,
       "object_position": null,
       "order": null,
       "overflow": null,
       "overflow_x": null,
       "overflow_y": null,
       "padding": null,
       "right": null,
       "top": null,
       "visibility": null,
       "width": null
      }
     },
     "148640441f2749ba9e071933eda7f8f5": {
      "model_module": "@jupyter-widgets/base",
      "model_module_version": "1.2.0",
      "model_name": "LayoutModel",
      "state": {
       "_model_module": "@jupyter-widgets/base",
       "_model_module_version": "1.2.0",
       "_model_name": "LayoutModel",
       "_view_count": null,
       "_view_module": "@jupyter-widgets/base",
       "_view_module_version": "1.2.0",
       "_view_name": "LayoutView",
       "align_content": null,
       "align_items": null,
       "align_self": null,
       "border": null,
       "bottom": null,
       "display": null,
       "flex": null,
       "flex_flow": null,
       "grid_area": null,
       "grid_auto_columns": null,
       "grid_auto_flow": null,
       "grid_auto_rows": null,
       "grid_column": null,
       "grid_gap": null,
       "grid_row": null,
       "grid_template_areas": null,
       "grid_template_columns": null,
       "grid_template_rows": null,
       "height": null,
       "justify_content": null,
       "justify_items": null,
       "left": null,
       "margin": null,
       "max_height": null,
       "max_width": null,
       "min_height": null,
       "min_width": null,
       "object_fit": null,
       "object_position": null,
       "order": null,
       "overflow": null,
       "overflow_x": null,
       "overflow_y": null,
       "padding": null,
       "right": null,
       "top": null,
       "visibility": null,
       "width": null
      }
     },
     "17ff472c724f45d996ef90cf0dd21b02": {
      "model_module": "@jupyter-widgets/controls",
      "model_module_version": "1.5.0",
      "model_name": "FloatProgressModel",
      "state": {
       "_dom_classes": [],
       "_model_module": "@jupyter-widgets/controls",
       "_model_module_version": "1.5.0",
       "_model_name": "FloatProgressModel",
       "_view_count": null,
       "_view_module": "@jupyter-widgets/controls",
       "_view_module_version": "1.5.0",
       "_view_name": "ProgressView",
       "bar_style": "success",
       "description": "",
       "description_tooltip": null,
       "layout": "IPY_MODEL_d8591818535841418dfb8ab19c65d0b6",
       "max": 231508.0,
       "min": 0.0,
       "orientation": "horizontal",
       "style": "IPY_MODEL_a0816c3835174b1584856e1af7fca639",
       "value": 231508.0
      }
     },
     "1cbdd2de7c8542e382f66ba0dceed3d8": {
      "model_module": "@jupyter-widgets/controls",
      "model_module_version": "1.5.0",
      "model_name": "DescriptionStyleModel",
      "state": {
       "_model_module": "@jupyter-widgets/controls",
       "_model_module_version": "1.5.0",
       "_model_name": "DescriptionStyleModel",
       "_view_count": null,
       "_view_module": "@jupyter-widgets/base",
       "_view_module_version": "1.2.0",
       "_view_name": "StyleView",
       "description_width": ""
      }
     },
     "215a440e61eb4fc4b7baeabd6d596d01": {
      "model_module": "@jupyter-widgets/base",
      "model_module_version": "1.2.0",
      "model_name": "LayoutModel",
      "state": {
       "_model_module": "@jupyter-widgets/base",
       "_model_module_version": "1.2.0",
       "_model_name": "LayoutModel",
       "_view_count": null,
       "_view_module": "@jupyter-widgets/base",
       "_view_module_version": "1.2.0",
       "_view_name": "LayoutView",
       "align_content": null,
       "align_items": null,
       "align_self": null,
       "border": null,
       "bottom": null,
       "display": null,
       "flex": null,
       "flex_flow": null,
       "grid_area": null,
       "grid_auto_columns": null,
       "grid_auto_flow": null,
       "grid_auto_rows": null,
       "grid_column": null,
       "grid_gap": null,
       "grid_row": null,
       "grid_template_areas": null,
       "grid_template_columns": null,
       "grid_template_rows": null,
       "height": null,
       "justify_content": null,
       "justify_items": null,
       "left": null,
       "margin": null,
       "max_height": null,
       "max_width": null,
       "min_height": null,
       "min_width": null,
       "object_fit": null,
       "object_position": null,
       "order": null,
       "overflow": null,
       "overflow_x": null,
       "overflow_y": null,
       "padding": null,
       "right": null,
       "top": null,
       "visibility": null,
       "width": null
      }
     },
     "2883dc9de85142318b87c99a125a0917": {
      "model_module": "@jupyter-widgets/controls",
      "model_module_version": "1.5.0",
      "model_name": "HBoxModel",
      "state": {
       "_dom_classes": [],
       "_model_module": "@jupyter-widgets/controls",
       "_model_module_version": "1.5.0",
       "_model_name": "HBoxModel",
       "_view_count": null,
       "_view_module": "@jupyter-widgets/controls",
       "_view_module_version": "1.5.0",
       "_view_name": "HBoxView",
       "box_style": "",
       "children": [
        "IPY_MODEL_611e6417ec1c4dcbb887f38fe7b00e26",
        "IPY_MODEL_17ff472c724f45d996ef90cf0dd21b02",
        "IPY_MODEL_a01f764de75e4379bc027017ab3dbc00"
       ],
       "layout": "IPY_MODEL_215a440e61eb4fc4b7baeabd6d596d01"
      }
     },
     "33a1331879ca4b1caaaf589946fbea48": {
      "model_module": "@jupyter-widgets/base",
      "model_module_version": "1.2.0",
      "model_name": "LayoutModel",
      "state": {
       "_model_module": "@jupyter-widgets/base",
       "_model_module_version": "1.2.0",
       "_model_name": "LayoutModel",
       "_view_count": null,
       "_view_module": "@jupyter-widgets/base",
       "_view_module_version": "1.2.0",
       "_view_name": "LayoutView",
       "align_content": null,
       "align_items": null,
       "align_self": null,
       "border": null,
       "bottom": null,
       "display": null,
       "flex": null,
       "flex_flow": null,
       "grid_area": null,
       "grid_auto_columns": null,
       "grid_auto_flow": null,
       "grid_auto_rows": null,
       "grid_column": null,
       "grid_gap": null,
       "grid_row": null,
       "grid_template_areas": null,
       "grid_template_columns": null,
       "grid_template_rows": null,
       "height": null,
       "justify_content": null,
       "justify_items": null,
       "left": null,
       "margin": null,
       "max_height": null,
       "max_width": null,
       "min_height": null,
       "min_width": null,
       "object_fit": null,
       "object_position": null,
       "order": null,
       "overflow": null,
       "overflow_x": null,
       "overflow_y": null,
       "padding": null,
       "right": null,
       "top": null,
       "visibility": null,
       "width": null
      }
     },
     "3499d683ad4049f28e42aaba0405bcda": {
      "model_module": "@jupyter-widgets/base",
      "model_module_version": "1.2.0",
      "model_name": "LayoutModel",
      "state": {
       "_model_module": "@jupyter-widgets/base",
       "_model_module_version": "1.2.0",
       "_model_name": "LayoutModel",
       "_view_count": null,
       "_view_module": "@jupyter-widgets/base",
       "_view_module_version": "1.2.0",
       "_view_name": "LayoutView",
       "align_content": null,
       "align_items": null,
       "align_self": null,
       "border": null,
       "bottom": null,
       "display": null,
       "flex": null,
       "flex_flow": null,
       "grid_area": null,
       "grid_auto_columns": null,
       "grid_auto_flow": null,
       "grid_auto_rows": null,
       "grid_column": null,
       "grid_gap": null,
       "grid_row": null,
       "grid_template_areas": null,
       "grid_template_columns": null,
       "grid_template_rows": null,
       "height": null,
       "justify_content": null,
       "justify_items": null,
       "left": null,
       "margin": null,
       "max_height": null,
       "max_width": null,
       "min_height": null,
       "min_width": null,
       "object_fit": null,
       "object_position": null,
       "order": null,
       "overflow": null,
       "overflow_x": null,
       "overflow_y": null,
       "padding": null,
       "right": null,
       "top": null,
       "visibility": null,
       "width": null
      }
     },
     "37fae48928944c3a847b2024a8cc86db": {
      "model_module": "@jupyter-widgets/controls",
      "model_module_version": "1.5.0",
      "model_name": "DescriptionStyleModel",
      "state": {
       "_model_module": "@jupyter-widgets/controls",
       "_model_module_version": "1.5.0",
       "_model_name": "DescriptionStyleModel",
       "_view_count": null,
       "_view_module": "@jupyter-widgets/base",
       "_view_module_version": "1.2.0",
       "_view_name": "StyleView",
       "description_width": ""
      }
     },
     "398b637f624c4acbb4f67feadb2164f6": {
      "model_module": "@jupyter-widgets/controls",
      "model_module_version": "1.5.0",
      "model_name": "HBoxModel",
      "state": {
       "_dom_classes": [],
       "_model_module": "@jupyter-widgets/controls",
       "_model_module_version": "1.5.0",
       "_model_name": "HBoxModel",
       "_view_count": null,
       "_view_module": "@jupyter-widgets/controls",
       "_view_module_version": "1.5.0",
       "_view_name": "HBoxView",
       "box_style": "",
       "children": [
        "IPY_MODEL_be6fa2113319410a84fcc88723209066",
        "IPY_MODEL_51d590e1c6304f3f9f819a99edd0ef72",
        "IPY_MODEL_60e71a5786604a008f6f5cbca199925a"
       ],
       "layout": "IPY_MODEL_1085bdaa8e2540d9b1757b1b9a8ef152"
      }
     },
     "427a65e7dc7048a9a3071ae3fcbc3b6d": {
      "model_module": "@jupyter-widgets/base",
      "model_module_version": "1.2.0",
      "model_name": "LayoutModel",
      "state": {
       "_model_module": "@jupyter-widgets/base",
       "_model_module_version": "1.2.0",
       "_model_name": "LayoutModel",
       "_view_count": null,
       "_view_module": "@jupyter-widgets/base",
       "_view_module_version": "1.2.0",
       "_view_name": "LayoutView",
       "align_content": null,
       "align_items": null,
       "align_self": null,
       "border": null,
       "bottom": null,
       "display": null,
       "flex": null,
       "flex_flow": null,
       "grid_area": null,
       "grid_auto_columns": null,
       "grid_auto_flow": null,
       "grid_auto_rows": null,
       "grid_column": null,
       "grid_gap": null,
       "grid_row": null,
       "grid_template_areas": null,
       "grid_template_columns": null,
       "grid_template_rows": null,
       "height": null,
       "justify_content": null,
       "justify_items": null,
       "left": null,
       "margin": null,
       "max_height": null,
       "max_width": null,
       "min_height": null,
       "min_width": null,
       "object_fit": null,
       "object_position": null,
       "order": null,
       "overflow": null,
       "overflow_x": null,
       "overflow_y": null,
       "padding": null,
       "right": null,
       "top": null,
       "visibility": null,
       "width": null
      }
     },
     "4c0317acde2046d9972f6b64be2faca2": {
      "model_module": "@jupyter-widgets/controls",
      "model_module_version": "1.5.0",
      "model_name": "ProgressStyleModel",
      "state": {
       "_model_module": "@jupyter-widgets/controls",
       "_model_module_version": "1.5.0",
       "_model_name": "ProgressStyleModel",
       "_view_count": null,
       "_view_module": "@jupyter-widgets/base",
       "_view_module_version": "1.2.0",
       "_view_name": "StyleView",
       "bar_color": null,
       "description_width": ""
      }
     },
     "4d167653d26141cfb716fc35e5224071": {
      "model_module": "@jupyter-widgets/base",
      "model_module_version": "1.2.0",
      "model_name": "LayoutModel",
      "state": {
       "_model_module": "@jupyter-widgets/base",
       "_model_module_version": "1.2.0",
       "_model_name": "LayoutModel",
       "_view_count": null,
       "_view_module": "@jupyter-widgets/base",
       "_view_module_version": "1.2.0",
       "_view_name": "LayoutView",
       "align_content": null,
       "align_items": null,
       "align_self": null,
       "border": null,
       "bottom": null,
       "display": null,
       "flex": null,
       "flex_flow": null,
       "grid_area": null,
       "grid_auto_columns": null,
       "grid_auto_flow": null,
       "grid_auto_rows": null,
       "grid_column": null,
       "grid_gap": null,
       "grid_row": null,
       "grid_template_areas": null,
       "grid_template_columns": null,
       "grid_template_rows": null,
       "height": null,
       "justify_content": null,
       "justify_items": null,
       "left": null,
       "margin": null,
       "max_height": null,
       "max_width": null,
       "min_height": null,
       "min_width": null,
       "object_fit": null,
       "object_position": null,
       "order": null,
       "overflow": null,
       "overflow_x": null,
       "overflow_y": null,
       "padding": null,
       "right": null,
       "top": null,
       "visibility": null,
       "width": null
      }
     },
     "4d7fcf8a2e6d492e9ea8cef9a7973539": {
      "model_module": "@jupyter-widgets/controls",
      "model_module_version": "1.5.0",
      "model_name": "HTMLModel",
      "state": {
       "_dom_classes": [],
       "_model_module": "@jupyter-widgets/controls",
       "_model_module_version": "1.5.0",
       "_model_name": "HTMLModel",
       "_view_count": null,
       "_view_module": "@jupyter-widgets/controls",
       "_view_module_version": "1.5.0",
       "_view_name": "HTMLView",
       "description": "",
       "description_tooltip": null,
       "layout": "IPY_MODEL_427a65e7dc7048a9a3071ae3fcbc3b6d",
       "placeholder": "​",
       "style": "IPY_MODEL_8b27cb7d17dc45819141d94b51ae4fe2",
       "value": "Downloading pytorch_model.bin: 100%"
      }
     },
     "4fabc53708494e408bc9a05a7cc6aafe": {
      "model_module": "@jupyter-widgets/base",
      "model_module_version": "1.2.0",
      "model_name": "LayoutModel",
      "state": {
       "_model_module": "@jupyter-widgets/base",
       "_model_module_version": "1.2.0",
       "_model_name": "LayoutModel",
       "_view_count": null,
       "_view_module": "@jupyter-widgets/base",
       "_view_module_version": "1.2.0",
       "_view_name": "LayoutView",
       "align_content": null,
       "align_items": null,
       "align_self": null,
       "border": null,
       "bottom": null,
       "display": null,
       "flex": null,
       "flex_flow": null,
       "grid_area": null,
       "grid_auto_columns": null,
       "grid_auto_flow": null,
       "grid_auto_rows": null,
       "grid_column": null,
       "grid_gap": null,
       "grid_row": null,
       "grid_template_areas": null,
       "grid_template_columns": null,
       "grid_template_rows": null,
       "height": null,
       "justify_content": null,
       "justify_items": null,
       "left": null,
       "margin": null,
       "max_height": null,
       "max_width": null,
       "min_height": null,
       "min_width": null,
       "object_fit": null,
       "object_position": null,
       "order": null,
       "overflow": null,
       "overflow_x": null,
       "overflow_y": null,
       "padding": null,
       "right": null,
       "top": null,
       "visibility": null,
       "width": null
      }
     },
     "51d590e1c6304f3f9f819a99edd0ef72": {
      "model_module": "@jupyter-widgets/controls",
      "model_module_version": "1.5.0",
      "model_name": "FloatProgressModel",
      "state": {
       "_dom_classes": [],
       "_model_module": "@jupyter-widgets/controls",
       "_model_module_version": "1.5.0",
       "_model_name": "FloatProgressModel",
       "_view_count": null,
       "_view_module": "@jupyter-widgets/controls",
       "_view_module_version": "1.5.0",
       "_view_name": "ProgressView",
       "bar_style": "success",
       "description": "",
       "description_tooltip": null,
       "layout": "IPY_MODEL_148640441f2749ba9e071933eda7f8f5",
       "max": 758.0,
       "min": 0.0,
       "orientation": "horizontal",
       "style": "IPY_MODEL_4c0317acde2046d9972f6b64be2faca2",
       "value": 758.0
      }
     },
     "5756e105142449c4a6d7674c0b641f59": {
      "model_module": "@jupyter-widgets/controls",
      "model_module_version": "1.5.0",
      "model_name": "HTMLModel",
      "state": {
       "_dom_classes": [],
       "_model_module": "@jupyter-widgets/controls",
       "_model_module_version": "1.5.0",
       "_model_name": "HTMLModel",
       "_view_count": null,
       "_view_module": "@jupyter-widgets/controls",
       "_view_module_version": "1.5.0",
       "_view_name": "HTMLView",
       "description": "",
       "description_tooltip": null,
       "layout": "IPY_MODEL_8715381b4b8b42d498349f855ffb84ce",
       "placeholder": "​",
       "style": "IPY_MODEL_bfbd8619c4a04d298aa60cbd12f18ac8",
       "value": "Downloading (…)cial_tokens_map.json: 100%"
      }
     },
     "576356d7807244139b8aaba12e9cc6e6": {
      "model_module": "@jupyter-widgets/controls",
      "model_module_version": "1.5.0",
      "model_name": "DescriptionStyleModel",
      "state": {
       "_model_module": "@jupyter-widgets/controls",
       "_model_module_version": "1.5.0",
       "_model_name": "DescriptionStyleModel",
       "_view_count": null,
       "_view_module": "@jupyter-widgets/base",
       "_view_module_version": "1.2.0",
       "_view_name": "StyleView",
       "description_width": ""
      }
     },
     "5ead09fdf8ae4d2283292033fc5e25a5": {
      "model_module": "@jupyter-widgets/base",
      "model_module_version": "1.2.0",
      "model_name": "LayoutModel",
      "state": {
       "_model_module": "@jupyter-widgets/base",
       "_model_module_version": "1.2.0",
       "_model_name": "LayoutModel",
       "_view_count": null,
       "_view_module": "@jupyter-widgets/base",
       "_view_module_version": "1.2.0",
       "_view_name": "LayoutView",
       "align_content": null,
       "align_items": null,
       "align_self": null,
       "border": null,
       "bottom": null,
       "display": null,
       "flex": null,
       "flex_flow": null,
       "grid_area": null,
       "grid_auto_columns": null,
       "grid_auto_flow": null,
       "grid_auto_rows": null,
       "grid_column": null,
       "grid_gap": null,
       "grid_row": null,
       "grid_template_areas": null,
       "grid_template_columns": null,
       "grid_template_rows": null,
       "height": null,
       "justify_content": null,
       "justify_items": null,
       "left": null,
       "margin": null,
       "max_height": null,
       "max_width": null,
       "min_height": null,
       "min_width": null,
       "object_fit": null,
       "object_position": null,
       "order": null,
       "overflow": null,
       "overflow_x": null,
       "overflow_y": null,
       "padding": null,
       "right": null,
       "top": null,
       "visibility": null,
       "width": null
      }
     },
     "60e71a5786604a008f6f5cbca199925a": {
      "model_module": "@jupyter-widgets/controls",
      "model_module_version": "1.5.0",
      "model_name": "HTMLModel",
      "state": {
       "_dom_classes": [],
       "_model_module": "@jupyter-widgets/controls",
       "_model_module_version": "1.5.0",
       "_model_name": "HTMLModel",
       "_view_count": null,
       "_view_module": "@jupyter-widgets/controls",
       "_view_module_version": "1.5.0",
       "_view_name": "HTMLView",
       "description": "",
       "description_tooltip": null,
       "layout": "IPY_MODEL_94852698143e40279c7eeaea48dc4f4c",
       "placeholder": "​",
       "style": "IPY_MODEL_576356d7807244139b8aaba12e9cc6e6",
       "value": " 758/758 [00:00&lt;00:00, 65.1kB/s]"
      }
     },
     "611e6417ec1c4dcbb887f38fe7b00e26": {
      "model_module": "@jupyter-widgets/controls",
      "model_module_version": "1.5.0",
      "model_name": "HTMLModel",
      "state": {
       "_dom_classes": [],
       "_model_module": "@jupyter-widgets/controls",
       "_model_module_version": "1.5.0",
       "_model_name": "HTMLModel",
       "_view_count": null,
       "_view_module": "@jupyter-widgets/controls",
       "_view_module_version": "1.5.0",
       "_view_name": "HTMLView",
       "description": "",
       "description_tooltip": null,
       "layout": "IPY_MODEL_03586596417d4314b39ab6af1aead357",
       "placeholder": "​",
       "style": "IPY_MODEL_7f37a4cd101445caaa3666e834ad4cc6",
       "value": "Downloading (…)solve/main/vocab.txt: 100%"
      }
     },
     "6a8aa6f6d4f740fe890628af3232eebc": {
      "model_module": "@jupyter-widgets/controls",
      "model_module_version": "1.5.0",
      "model_name": "HTMLModel",
      "state": {
       "_dom_classes": [],
       "_model_module": "@jupyter-widgets/controls",
       "_model_module_version": "1.5.0",
       "_model_name": "HTMLModel",
       "_view_count": null,
       "_view_module": "@jupyter-widgets/controls",
       "_view_module_version": "1.5.0",
       "_view_name": "HTMLView",
       "description": "",
       "description_tooltip": null,
       "layout": "IPY_MODEL_7b4e4a7964184b248c507d4a2d9fb3cd",
       "placeholder": "​",
       "style": "IPY_MODEL_b9d14475c6a44e2088f541c46f2d188c",
       "value": " 112/112 [00:00&lt;00:00, 8.56kB/s]"
      }
     },
     "6fde9a76af1a45c5ac118741ee22125e": {
      "model_module": "@jupyter-widgets/controls",
      "model_module_version": "1.5.0",
      "model_name": "FloatProgressModel",
      "state": {
       "_dom_classes": [],
       "_model_module": "@jupyter-widgets/controls",
       "_model_module_version": "1.5.0",
       "_model_name": "FloatProgressModel",
       "_view_count": null,
       "_view_module": "@jupyter-widgets/controls",
       "_view_module_version": "1.5.0",
       "_view_name": "ProgressView",
       "bar_style": "success",
       "description": "",
       "description_tooltip": null,
       "layout": "IPY_MODEL_3499d683ad4049f28e42aaba0405bcda",
       "max": 252.0,
       "min": 0.0,
       "orientation": "horizontal",
       "style": "IPY_MODEL_dfb8bba4020845a281604bad3eaaf189",
       "value": 252.0
      }
     },
     "6fdfe1d546c342b5b3278c5138c8249f": {
      "model_module": "@jupyter-widgets/base",
      "model_module_version": "1.2.0",
      "model_name": "LayoutModel",
      "state": {
       "_model_module": "@jupyter-widgets/base",
       "_model_module_version": "1.2.0",
       "_model_name": "LayoutModel",
       "_view_count": null,
       "_view_module": "@jupyter-widgets/base",
       "_view_module_version": "1.2.0",
       "_view_name": "LayoutView",
       "align_content": null,
       "align_items": null,
       "align_self": null,
       "border": null,
       "bottom": null,
       "display": null,
       "flex": null,
       "flex_flow": null,
       "grid_area": null,
       "grid_auto_columns": null,
       "grid_auto_flow": null,
       "grid_auto_rows": null,
       "grid_column": null,
       "grid_gap": null,
       "grid_row": null,
       "grid_template_areas": null,
       "grid_template_columns": null,
       "grid_template_rows": null,
       "height": null,
       "justify_content": null,
       "justify_items": null,
       "left": null,
       "margin": null,
       "max_height": null,
       "max_width": null,
       "min_height": null,
       "min_width": null,
       "object_fit": null,
       "object_position": null,
       "order": null,
       "overflow": null,
       "overflow_x": null,
       "overflow_y": null,
       "padding": null,
       "right": null,
       "top": null,
       "visibility": null,
       "width": null
      }
     },
     "7510ed02194d4d37bacbb8b5a2dd4db7": {
      "model_module": "@jupyter-widgets/controls",
      "model_module_version": "1.5.0",
      "model_name": "HTMLModel",
      "state": {
       "_dom_classes": [],
       "_model_module": "@jupyter-widgets/controls",
       "_model_module_version": "1.5.0",
       "_model_name": "HTMLModel",
       "_view_count": null,
       "_view_module": "@jupyter-widgets/controls",
       "_view_module_version": "1.5.0",
       "_view_name": "HTMLView",
       "description": "",
       "description_tooltip": null,
       "layout": "IPY_MODEL_6fdfe1d546c342b5b3278c5138c8249f",
       "placeholder": "​",
       "style": "IPY_MODEL_9eec0f8867fe4cae8d14585f5f91d973",
       "value": " 252/252 [00:00&lt;00:00, 20.4kB/s]"
      }
     },
     "7b25d4b85e1d41b9a5568b0456c3c480": {
      "model_module": "@jupyter-widgets/controls",
      "model_module_version": "1.5.0",
      "model_name": "HBoxModel",
      "state": {
       "_dom_classes": [],
       "_model_module": "@jupyter-widgets/controls",
       "_model_module_version": "1.5.0",
       "_model_name": "HBoxModel",
       "_view_count": null,
       "_view_module": "@jupyter-widgets/controls",
       "_view_module_version": "1.5.0",
       "_view_name": "HBoxView",
       "box_style": "",
       "children": [
        "IPY_MODEL_4d7fcf8a2e6d492e9ea8cef9a7973539",
        "IPY_MODEL_a52e837ef2f64d88be237d8ec5ba9919",
        "IPY_MODEL_a846abefb6b147c790bfcd18fe526fa5"
       ],
       "layout": "IPY_MODEL_4fabc53708494e408bc9a05a7cc6aafe"
      }
     },
     "7b4e4a7964184b248c507d4a2d9fb3cd": {
      "model_module": "@jupyter-widgets/base",
      "model_module_version": "1.2.0",
      "model_name": "LayoutModel",
      "state": {
       "_model_module": "@jupyter-widgets/base",
       "_model_module_version": "1.2.0",
       "_model_name": "LayoutModel",
       "_view_count": null,
       "_view_module": "@jupyter-widgets/base",
       "_view_module_version": "1.2.0",
       "_view_name": "LayoutView",
       "align_content": null,
       "align_items": null,
       "align_self": null,
       "border": null,
       "bottom": null,
       "display": null,
       "flex": null,
       "flex_flow": null,
       "grid_area": null,
       "grid_auto_columns": null,
       "grid_auto_flow": null,
       "grid_auto_rows": null,
       "grid_column": null,
       "grid_gap": null,
       "grid_row": null,
       "grid_template_areas": null,
       "grid_template_columns": null,
       "grid_template_rows": null,
       "height": null,
       "justify_content": null,
       "justify_items": null,
       "left": null,
       "margin": null,
       "max_height": null,
       "max_width": null,
       "min_height": null,
       "min_width": null,
       "object_fit": null,
       "object_position": null,
       "order": null,
       "overflow": null,
       "overflow_x": null,
       "overflow_y": null,
       "padding": null,
       "right": null,
       "top": null,
       "visibility": null,
       "width": null
      }
     },
     "7dbfc545d2db4f66bd618274e72c6e1d": {
      "model_module": "@jupyter-widgets/base",
      "model_module_version": "1.2.0",
      "model_name": "LayoutModel",
      "state": {
       "_model_module": "@jupyter-widgets/base",
       "_model_module_version": "1.2.0",
       "_model_name": "LayoutModel",
       "_view_count": null,
       "_view_module": "@jupyter-widgets/base",
       "_view_module_version": "1.2.0",
       "_view_name": "LayoutView",
       "align_content": null,
       "align_items": null,
       "align_self": null,
       "border": null,
       "bottom": null,
       "display": null,
       "flex": null,
       "flex_flow": null,
       "grid_area": null,
       "grid_auto_columns": null,
       "grid_auto_flow": null,
       "grid_auto_rows": null,
       "grid_column": null,
       "grid_gap": null,
       "grid_row": null,
       "grid_template_areas": null,
       "grid_template_columns": null,
       "grid_template_rows": null,
       "height": null,
       "justify_content": null,
       "justify_items": null,
       "left": null,
       "margin": null,
       "max_height": null,
       "max_width": null,
       "min_height": null,
       "min_width": null,
       "object_fit": null,
       "object_position": null,
       "order": null,
       "overflow": null,
       "overflow_x": null,
       "overflow_y": null,
       "padding": null,
       "right": null,
       "top": null,
       "visibility": null,
       "width": null
      }
     },
     "7f37a4cd101445caaa3666e834ad4cc6": {
      "model_module": "@jupyter-widgets/controls",
      "model_module_version": "1.5.0",
      "model_name": "DescriptionStyleModel",
      "state": {
       "_model_module": "@jupyter-widgets/controls",
       "_model_module_version": "1.5.0",
       "_model_name": "DescriptionStyleModel",
       "_view_count": null,
       "_view_module": "@jupyter-widgets/base",
       "_view_module_version": "1.2.0",
       "_view_name": "StyleView",
       "description_width": ""
      }
     },
     "8715381b4b8b42d498349f855ffb84ce": {
      "model_module": "@jupyter-widgets/base",
      "model_module_version": "1.2.0",
      "model_name": "LayoutModel",
      "state": {
       "_model_module": "@jupyter-widgets/base",
       "_model_module_version": "1.2.0",
       "_model_name": "LayoutModel",
       "_view_count": null,
       "_view_module": "@jupyter-widgets/base",
       "_view_module_version": "1.2.0",
       "_view_name": "LayoutView",
       "align_content": null,
       "align_items": null,
       "align_self": null,
       "border": null,
       "bottom": null,
       "display": null,
       "flex": null,
       "flex_flow": null,
       "grid_area": null,
       "grid_auto_columns": null,
       "grid_auto_flow": null,
       "grid_auto_rows": null,
       "grid_column": null,
       "grid_gap": null,
       "grid_row": null,
       "grid_template_areas": null,
       "grid_template_columns": null,
       "grid_template_rows": null,
       "height": null,
       "justify_content": null,
       "justify_items": null,
       "left": null,
       "margin": null,
       "max_height": null,
       "max_width": null,
       "min_height": null,
       "min_width": null,
       "object_fit": null,
       "object_position": null,
       "order": null,
       "overflow": null,
       "overflow_x": null,
       "overflow_y": null,
       "padding": null,
       "right": null,
       "top": null,
       "visibility": null,
       "width": null
      }
     },
     "8b27cb7d17dc45819141d94b51ae4fe2": {
      "model_module": "@jupyter-widgets/controls",
      "model_module_version": "1.5.0",
      "model_name": "DescriptionStyleModel",
      "state": {
       "_model_module": "@jupyter-widgets/controls",
       "_model_module_version": "1.5.0",
       "_model_name": "DescriptionStyleModel",
       "_view_count": null,
       "_view_module": "@jupyter-widgets/base",
       "_view_module_version": "1.2.0",
       "_view_name": "StyleView",
       "description_width": ""
      }
     },
     "94852698143e40279c7eeaea48dc4f4c": {
      "model_module": "@jupyter-widgets/base",
      "model_module_version": "1.2.0",
      "model_name": "LayoutModel",
      "state": {
       "_model_module": "@jupyter-widgets/base",
       "_model_module_version": "1.2.0",
       "_model_name": "LayoutModel",
       "_view_count": null,
       "_view_module": "@jupyter-widgets/base",
       "_view_module_version": "1.2.0",
       "_view_name": "LayoutView",
       "align_content": null,
       "align_items": null,
       "align_self": null,
       "border": null,
       "bottom": null,
       "display": null,
       "flex": null,
       "flex_flow": null,
       "grid_area": null,
       "grid_auto_columns": null,
       "grid_auto_flow": null,
       "grid_auto_rows": null,
       "grid_column": null,
       "grid_gap": null,
       "grid_row": null,
       "grid_template_areas": null,
       "grid_template_columns": null,
       "grid_template_rows": null,
       "height": null,
       "justify_content": null,
       "justify_items": null,
       "left": null,
       "margin": null,
       "max_height": null,
       "max_width": null,
       "min_height": null,
       "min_width": null,
       "object_fit": null,
       "object_position": null,
       "order": null,
       "overflow": null,
       "overflow_x": null,
       "overflow_y": null,
       "padding": null,
       "right": null,
       "top": null,
       "visibility": null,
       "width": null
      }
     },
     "98ae662ab53348b097b21ae249ecd49d": {
      "model_module": "@jupyter-widgets/base",
      "model_module_version": "1.2.0",
      "model_name": "LayoutModel",
      "state": {
       "_model_module": "@jupyter-widgets/base",
       "_model_module_version": "1.2.0",
       "_model_name": "LayoutModel",
       "_view_count": null,
       "_view_module": "@jupyter-widgets/base",
       "_view_module_version": "1.2.0",
       "_view_name": "LayoutView",
       "align_content": null,
       "align_items": null,
       "align_self": null,
       "border": null,
       "bottom": null,
       "display": null,
       "flex": null,
       "flex_flow": null,
       "grid_area": null,
       "grid_auto_columns": null,
       "grid_auto_flow": null,
       "grid_auto_rows": null,
       "grid_column": null,
       "grid_gap": null,
       "grid_row": null,
       "grid_template_areas": null,
       "grid_template_columns": null,
       "grid_template_rows": null,
       "height": null,
       "justify_content": null,
       "justify_items": null,
       "left": null,
       "margin": null,
       "max_height": null,
       "max_width": null,
       "min_height": null,
       "min_width": null,
       "object_fit": null,
       "object_position": null,
       "order": null,
       "overflow": null,
       "overflow_x": null,
       "overflow_y": null,
       "padding": null,
       "right": null,
       "top": null,
       "visibility": null,
       "width": null
      }
     },
     "99d6fd44644c4214a853289b46a5826b": {
      "model_module": "@jupyter-widgets/controls",
      "model_module_version": "1.5.0",
      "model_name": "DescriptionStyleModel",
      "state": {
       "_model_module": "@jupyter-widgets/controls",
       "_model_module_version": "1.5.0",
       "_model_name": "DescriptionStyleModel",
       "_view_count": null,
       "_view_module": "@jupyter-widgets/base",
       "_view_module_version": "1.2.0",
       "_view_name": "StyleView",
       "description_width": ""
      }
     },
     "9c7254e684a2496a8028b1847e297c78": {
      "model_module": "@jupyter-widgets/controls",
      "model_module_version": "1.5.0",
      "model_name": "ProgressStyleModel",
      "state": {
       "_model_module": "@jupyter-widgets/controls",
       "_model_module_version": "1.5.0",
       "_model_name": "ProgressStyleModel",
       "_view_count": null,
       "_view_module": "@jupyter-widgets/base",
       "_view_module_version": "1.2.0",
       "_view_name": "StyleView",
       "bar_color": null,
       "description_width": ""
      }
     },
     "9eec0f8867fe4cae8d14585f5f91d973": {
      "model_module": "@jupyter-widgets/controls",
      "model_module_version": "1.5.0",
      "model_name": "DescriptionStyleModel",
      "state": {
       "_model_module": "@jupyter-widgets/controls",
       "_model_module_version": "1.5.0",
       "_model_name": "DescriptionStyleModel",
       "_view_count": null,
       "_view_module": "@jupyter-widgets/base",
       "_view_module_version": "1.2.0",
       "_view_name": "StyleView",
       "description_width": ""
      }
     },
     "a01f764de75e4379bc027017ab3dbc00": {
      "model_module": "@jupyter-widgets/controls",
      "model_module_version": "1.5.0",
      "model_name": "HTMLModel",
      "state": {
       "_dom_classes": [],
       "_model_module": "@jupyter-widgets/controls",
       "_model_module_version": "1.5.0",
       "_model_name": "HTMLModel",
       "_view_count": null,
       "_view_module": "@jupyter-widgets/controls",
       "_view_module_version": "1.5.0",
       "_view_name": "HTMLView",
       "description": "",
       "description_tooltip": null,
       "layout": "IPY_MODEL_7dbfc545d2db4f66bd618274e72c6e1d",
       "placeholder": "​",
       "style": "IPY_MODEL_37fae48928944c3a847b2024a8cc86db",
       "value": " 232k/232k [00:00&lt;00:00, 1.26MB/s]"
      }
     },
     "a0816c3835174b1584856e1af7fca639": {
      "model_module": "@jupyter-widgets/controls",
      "model_module_version": "1.5.0",
      "model_name": "ProgressStyleModel",
      "state": {
       "_model_module": "@jupyter-widgets/controls",
       "_model_module_version": "1.5.0",
       "_model_name": "ProgressStyleModel",
       "_view_count": null,
       "_view_module": "@jupyter-widgets/base",
       "_view_module_version": "1.2.0",
       "_view_name": "StyleView",
       "bar_color": null,
       "description_width": ""
      }
     },
     "a52e837ef2f64d88be237d8ec5ba9919": {
      "model_module": "@jupyter-widgets/controls",
      "model_module_version": "1.5.0",
      "model_name": "FloatProgressModel",
      "state": {
       "_dom_classes": [],
       "_model_module": "@jupyter-widgets/controls",
       "_model_module_version": "1.5.0",
       "_model_name": "FloatProgressModel",
       "_view_count": null,
       "_view_module": "@jupyter-widgets/controls",
       "_view_module_version": "1.5.0",
       "_view_name": "ProgressView",
       "bar_style": "success",
       "description": "",
       "description_tooltip": null,
       "layout": "IPY_MODEL_5ead09fdf8ae4d2283292033fc5e25a5",
       "max": 437992753.0,
       "min": 0.0,
       "orientation": "horizontal",
       "style": "IPY_MODEL_c946c4cb7eb04355a4649e2af5be5593",
       "value": 437992753.0
      }
     },
     "a846abefb6b147c790bfcd18fe526fa5": {
      "model_module": "@jupyter-widgets/controls",
      "model_module_version": "1.5.0",
      "model_name": "HTMLModel",
      "state": {
       "_dom_classes": [],
       "_model_module": "@jupyter-widgets/controls",
       "_model_module_version": "1.5.0",
       "_model_name": "HTMLModel",
       "_view_count": null,
       "_view_module": "@jupyter-widgets/controls",
       "_view_module_version": "1.5.0",
       "_view_name": "HTMLView",
       "description": "",
       "description_tooltip": null,
       "layout": "IPY_MODEL_de9b0b260a7e440692c19979955e1f50",
       "placeholder": "​",
       "style": "IPY_MODEL_99d6fd44644c4214a853289b46a5826b",
       "value": " 438M/438M [00:01&lt;00:00, 425MB/s]"
      }
     },
     "ab9fea58f3ec47ea910d6af5e06dd0f2": {
      "model_module": "@jupyter-widgets/base",
      "model_module_version": "1.2.0",
      "model_name": "LayoutModel",
      "state": {
       "_model_module": "@jupyter-widgets/base",
       "_model_module_version": "1.2.0",
       "_model_name": "LayoutModel",
       "_view_count": null,
       "_view_module": "@jupyter-widgets/base",
       "_view_module_version": "1.2.0",
       "_view_name": "LayoutView",
       "align_content": null,
       "align_items": null,
       "align_self": null,
       "border": null,
       "bottom": null,
       "display": null,
       "flex": null,
       "flex_flow": null,
       "grid_area": null,
       "grid_auto_columns": null,
       "grid_auto_flow": null,
       "grid_auto_rows": null,
       "grid_column": null,
       "grid_gap": null,
       "grid_row": null,
       "grid_template_areas": null,
       "grid_template_columns": null,
       "grid_template_rows": null,
       "height": null,
       "justify_content": null,
       "justify_items": null,
       "left": null,
       "margin": null,
       "max_height": null,
       "max_width": null,
       "min_height": null,
       "min_width": null,
       "object_fit": null,
       "object_position": null,
       "order": null,
       "overflow": null,
       "overflow_x": null,
       "overflow_y": null,
       "padding": null,
       "right": null,
       "top": null,
       "visibility": null,
       "width": null
      }
     },
     "ade42b7404e14c71802b3da3cce621be": {
      "model_module": "@jupyter-widgets/controls",
      "model_module_version": "1.5.0",
      "model_name": "DescriptionStyleModel",
      "state": {
       "_model_module": "@jupyter-widgets/controls",
       "_model_module_version": "1.5.0",
       "_model_name": "DescriptionStyleModel",
       "_view_count": null,
       "_view_module": "@jupyter-widgets/base",
       "_view_module_version": "1.2.0",
       "_view_name": "StyleView",
       "description_width": ""
      }
     },
     "b772b64f0caa439aba2b99bca6876a3c": {
      "model_module": "@jupyter-widgets/controls",
      "model_module_version": "1.5.0",
      "model_name": "FloatProgressModel",
      "state": {
       "_dom_classes": [],
       "_model_module": "@jupyter-widgets/controls",
       "_model_module_version": "1.5.0",
       "_model_name": "FloatProgressModel",
       "_view_count": null,
       "_view_module": "@jupyter-widgets/controls",
       "_view_module_version": "1.5.0",
       "_view_name": "ProgressView",
       "bar_style": "success",
       "description": "",
       "description_tooltip": null,
       "layout": "IPY_MODEL_135bccd49c674f1181900de859537a85",
       "max": 112.0,
       "min": 0.0,
       "orientation": "horizontal",
       "style": "IPY_MODEL_9c7254e684a2496a8028b1847e297c78",
       "value": 112.0
      }
     },
     "b9d14475c6a44e2088f541c46f2d188c": {
      "model_module": "@jupyter-widgets/controls",
      "model_module_version": "1.5.0",
      "model_name": "DescriptionStyleModel",
      "state": {
       "_model_module": "@jupyter-widgets/controls",
       "_model_module_version": "1.5.0",
       "_model_name": "DescriptionStyleModel",
       "_view_count": null,
       "_view_module": "@jupyter-widgets/base",
       "_view_module_version": "1.2.0",
       "_view_name": "StyleView",
       "description_width": ""
      }
     },
     "be6fa2113319410a84fcc88723209066": {
      "model_module": "@jupyter-widgets/controls",
      "model_module_version": "1.5.0",
      "model_name": "HTMLModel",
      "state": {
       "_dom_classes": [],
       "_model_module": "@jupyter-widgets/controls",
       "_model_module_version": "1.5.0",
       "_model_name": "HTMLModel",
       "_view_count": null,
       "_view_module": "@jupyter-widgets/controls",
       "_view_module_version": "1.5.0",
       "_view_name": "HTMLView",
       "description": "",
       "description_tooltip": null,
       "layout": "IPY_MODEL_33a1331879ca4b1caaaf589946fbea48",
       "placeholder": "​",
       "style": "IPY_MODEL_ade42b7404e14c71802b3da3cce621be",
       "value": "Downloading (…)lve/main/config.json: 100%"
      }
     },
     "bfbd8619c4a04d298aa60cbd12f18ac8": {
      "model_module": "@jupyter-widgets/controls",
      "model_module_version": "1.5.0",
      "model_name": "DescriptionStyleModel",
      "state": {
       "_model_module": "@jupyter-widgets/controls",
       "_model_module_version": "1.5.0",
       "_model_name": "DescriptionStyleModel",
       "_view_count": null,
       "_view_module": "@jupyter-widgets/base",
       "_view_module_version": "1.2.0",
       "_view_name": "StyleView",
       "description_width": ""
      }
     },
     "c525a1fab9844a7ea34537d8f5ceb1af": {
      "model_module": "@jupyter-widgets/controls",
      "model_module_version": "1.5.0",
      "model_name": "HBoxModel",
      "state": {
       "_dom_classes": [],
       "_model_module": "@jupyter-widgets/controls",
       "_model_module_version": "1.5.0",
       "_model_name": "HBoxModel",
       "_view_count": null,
       "_view_module": "@jupyter-widgets/controls",
       "_view_module_version": "1.5.0",
       "_view_name": "HBoxView",
       "box_style": "",
       "children": [
        "IPY_MODEL_5756e105142449c4a6d7674c0b641f59",
        "IPY_MODEL_b772b64f0caa439aba2b99bca6876a3c",
        "IPY_MODEL_6a8aa6f6d4f740fe890628af3232eebc"
       ],
       "layout": "IPY_MODEL_98ae662ab53348b097b21ae249ecd49d"
      }
     },
     "c946c4cb7eb04355a4649e2af5be5593": {
      "model_module": "@jupyter-widgets/controls",
      "model_module_version": "1.5.0",
      "model_name": "ProgressStyleModel",
      "state": {
       "_model_module": "@jupyter-widgets/controls",
       "_model_module_version": "1.5.0",
       "_model_name": "ProgressStyleModel",
       "_view_count": null,
       "_view_module": "@jupyter-widgets/base",
       "_view_module_version": "1.2.0",
       "_view_name": "StyleView",
       "bar_color": null,
       "description_width": ""
      }
     },
     "d633dfa8801148d497edd3f3c5b3fa20": {
      "model_module": "@jupyter-widgets/controls",
      "model_module_version": "1.5.0",
      "model_name": "HBoxModel",
      "state": {
       "_dom_classes": [],
       "_model_module": "@jupyter-widgets/controls",
       "_model_module_version": "1.5.0",
       "_model_name": "HBoxModel",
       "_view_count": null,
       "_view_module": "@jupyter-widgets/controls",
       "_view_module_version": "1.5.0",
       "_view_name": "HBoxView",
       "box_style": "",
       "children": [
        "IPY_MODEL_fcf950d5f34942afa51bf1d29d5cf947",
        "IPY_MODEL_6fde9a76af1a45c5ac118741ee22125e",
        "IPY_MODEL_7510ed02194d4d37bacbb8b5a2dd4db7"
       ],
       "layout": "IPY_MODEL_4d167653d26141cfb716fc35e5224071"
      }
     },
     "d8591818535841418dfb8ab19c65d0b6": {
      "model_module": "@jupyter-widgets/base",
      "model_module_version": "1.2.0",
      "model_name": "LayoutModel",
      "state": {
       "_model_module": "@jupyter-widgets/base",
       "_model_module_version": "1.2.0",
       "_model_name": "LayoutModel",
       "_view_count": null,
       "_view_module": "@jupyter-widgets/base",
       "_view_module_version": "1.2.0",
       "_view_name": "LayoutView",
       "align_content": null,
       "align_items": null,
       "align_self": null,
       "border": null,
       "bottom": null,
       "display": null,
       "flex": null,
       "flex_flow": null,
       "grid_area": null,
       "grid_auto_columns": null,
       "grid_auto_flow": null,
       "grid_auto_rows": null,
       "grid_column": null,
       "grid_gap": null,
       "grid_row": null,
       "grid_template_areas": null,
       "grid_template_columns": null,
       "grid_template_rows": null,
       "height": null,
       "justify_content": null,
       "justify_items": null,
       "left": null,
       "margin": null,
       "max_height": null,
       "max_width": null,
       "min_height": null,
       "min_width": null,
       "object_fit": null,
       "object_position": null,
       "order": null,
       "overflow": null,
       "overflow_x": null,
       "overflow_y": null,
       "padding": null,
       "right": null,
       "top": null,
       "visibility": null,
       "width": null
      }
     },
     "de9b0b260a7e440692c19979955e1f50": {
      "model_module": "@jupyter-widgets/base",
      "model_module_version": "1.2.0",
      "model_name": "LayoutModel",
      "state": {
       "_model_module": "@jupyter-widgets/base",
       "_model_module_version": "1.2.0",
       "_model_name": "LayoutModel",
       "_view_count": null,
       "_view_module": "@jupyter-widgets/base",
       "_view_module_version": "1.2.0",
       "_view_name": "LayoutView",
       "align_content": null,
       "align_items": null,
       "align_self": null,
       "border": null,
       "bottom": null,
       "display": null,
       "flex": null,
       "flex_flow": null,
       "grid_area": null,
       "grid_auto_columns": null,
       "grid_auto_flow": null,
       "grid_auto_rows": null,
       "grid_column": null,
       "grid_gap": null,
       "grid_row": null,
       "grid_template_areas": null,
       "grid_template_columns": null,
       "grid_template_rows": null,
       "height": null,
       "justify_content": null,
       "justify_items": null,
       "left": null,
       "margin": null,
       "max_height": null,
       "max_width": null,
       "min_height": null,
       "min_width": null,
       "object_fit": null,
       "object_position": null,
       "order": null,
       "overflow": null,
       "overflow_x": null,
       "overflow_y": null,
       "padding": null,
       "right": null,
       "top": null,
       "visibility": null,
       "width": null
      }
     },
     "dfb8bba4020845a281604bad3eaaf189": {
      "model_module": "@jupyter-widgets/controls",
      "model_module_version": "1.5.0",
      "model_name": "ProgressStyleModel",
      "state": {
       "_model_module": "@jupyter-widgets/controls",
       "_model_module_version": "1.5.0",
       "_model_name": "ProgressStyleModel",
       "_view_count": null,
       "_view_module": "@jupyter-widgets/base",
       "_view_module_version": "1.2.0",
       "_view_name": "StyleView",
       "bar_color": null,
       "description_width": ""
      }
     },
     "fcf950d5f34942afa51bf1d29d5cf947": {
      "model_module": "@jupyter-widgets/controls",
      "model_module_version": "1.5.0",
      "model_name": "HTMLModel",
      "state": {
       "_dom_classes": [],
       "_model_module": "@jupyter-widgets/controls",
       "_model_module_version": "1.5.0",
       "_model_name": "HTMLModel",
       "_view_count": null,
       "_view_module": "@jupyter-widgets/controls",
       "_view_module_version": "1.5.0",
       "_view_name": "HTMLView",
       "description": "",
       "description_tooltip": null,
       "layout": "IPY_MODEL_ab9fea58f3ec47ea910d6af5e06dd0f2",
       "placeholder": "​",
       "style": "IPY_MODEL_1cbdd2de7c8542e382f66ba0dceed3d8",
       "value": "Downloading (…)okenizer_config.json: 100%"
      }
     }
    },
    "version_major": 2,
    "version_minor": 0
   }
  }
 },
 "nbformat": 4,
 "nbformat_minor": 5
}
